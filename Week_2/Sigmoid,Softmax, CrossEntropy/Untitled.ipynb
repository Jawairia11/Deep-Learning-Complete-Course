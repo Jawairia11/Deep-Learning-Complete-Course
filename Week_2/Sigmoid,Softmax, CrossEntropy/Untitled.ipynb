{
 "cells": [
  {
   "cell_type": "code",
   "execution_count": 5,
   "id": "b83ef575",
   "metadata": {},
   "outputs": [],
   "source": [
    "import numpy as np \n",
    "\n",
    "# sigmoid function \n",
    "\n",
    "def sigmoid(x):\n",
    "    \n",
    "    return 1/(1+np.exp(-x))"
   ]
  },
  {
   "cell_type": "code",
   "execution_count": 6,
   "id": "cb74cfcc",
   "metadata": {},
   "outputs": [
    {
     "data": {
      "text/plain": [
       "0.5"
      ]
     },
     "execution_count": 6,
     "metadata": {},
     "output_type": "execute_result"
    }
   ],
   "source": [
    "sigmoid(0)"
   ]
  },
  {
   "cell_type": "code",
   "execution_count": 7,
   "id": "7284d168",
   "metadata": {},
   "outputs": [],
   "source": [
    "# sigmoid_prime  or derivative of sigmoid\n",
    "\n",
    "def sigmoid_prime(x):\n",
    "    \n",
    "    return sigmoid(x)*(1-sigmoid(x))\n"
   ]
  },
  {
   "cell_type": "code",
   "execution_count": 8,
   "id": "872cba66",
   "metadata": {},
   "outputs": [
    {
     "data": {
      "text/plain": [
       "0.25"
      ]
     },
     "execution_count": 8,
     "metadata": {},
     "output_type": "execute_result"
    }
   ],
   "source": [
    "sigmoid_prime(0)"
   ]
  },
  {
   "cell_type": "code",
   "execution_count": 9,
   "id": "ef1b42b5",
   "metadata": {},
   "outputs": [],
   "source": [
    "# softmax function \n",
    "\n",
    "def softmax(L):\n",
    "    \n",
    "    return np.exp(L)/np.sum(np.exp(L))"
   ]
  },
  {
   "cell_type": "code",
   "execution_count": 10,
   "id": "eac72586",
   "metadata": {},
   "outputs": [
    {
     "data": {
      "text/plain": [
       "array([0.33333333, 0.33333333, 0.33333333])"
      ]
     },
     "execution_count": 10,
     "metadata": {},
     "output_type": "execute_result"
    }
   ],
   "source": [
    "I = [1,1,1]\n",
    "softmax(I)"
   ]
  },
  {
   "cell_type": "code",
   "execution_count": 19,
   "id": "734daa0e",
   "metadata": {},
   "outputs": [],
   "source": [
    "# Cross Entropy \n",
    "  \n",
    "def cross_entropy(Y,P):    # y is actual vaue and p is predicted vaue \n",
    "    \n",
    "    y = np.float_(Y)\n",
    "    p = np.float_(P)\n",
    "    return  -np.sum( y*np.log(p) + (1-y)*np.log(1-p))"
   ]
  },
  {
   "cell_type": "code",
   "execution_count": 20,
   "id": "5616a50f",
   "metadata": {},
   "outputs": [],
   "source": [
    "y=[1,0]\n",
    "p=(0.9,0.6)"
   ]
  },
  {
   "cell_type": "code",
   "execution_count": 21,
   "id": "9decd82f",
   "metadata": {},
   "outputs": [
    {
     "data": {
      "text/plain": [
       "1.0216512475319812"
      ]
     },
     "execution_count": 21,
     "metadata": {},
     "output_type": "execute_result"
    }
   ],
   "source": [
    "cross_entropy(y,p)"
   ]
  },
  {
   "cell_type": "code",
   "execution_count": 31,
   "id": "131d131c",
   "metadata": {},
   "outputs": [
    {
     "data": {
      "text/plain": [
       "0.7999999999999999"
      ]
     },
     "execution_count": 31,
     "metadata": {},
     "output_type": "execute_result"
    }
   ],
   "source": [
    "learnrate = 0.5         # alpha \n",
    "x=np.array([1,2,3,4])      # Input \n",
    "y=np.array(0.5)            # Output\n",
    "\n",
    "# Now we are going to intiaize weights \n",
    "\n",
    "w=np.array([0.5,-0.5 , 0.3,0.1])\n",
    "\n",
    "# now caculate the nodes linear combination of inputs and weights \n",
    "\n",
    "\n",
    "h=np.dot(w,x)\n",
    "h"
   ]
  },
  {
   "cell_type": "code",
   "execution_count": 32,
   "id": "bf12774f",
   "metadata": {},
   "outputs": [
    {
     "data": {
      "text/plain": [
       "0.6899744811276125"
      ]
     },
     "execution_count": 32,
     "metadata": {},
     "output_type": "execute_result"
    }
   ],
   "source": [
    "# now calculate the neural network aoutput \n",
    "\n",
    "nn_output = sigmoid(h)\n",
    "nn_output"
   ]
  },
  {
   "cell_type": "code",
   "execution_count": 33,
   "id": "568858f3",
   "metadata": {},
   "outputs": [
    {
     "data": {
      "text/plain": [
       "-0.1899744811276125"
      ]
     },
     "execution_count": 33,
     "metadata": {},
     "output_type": "execute_result"
    }
   ],
   "source": [
    "# now calculate the error of neural network output\n",
    "\n",
    "#error = y-yhat\n",
    "error = y-nn_output\n",
    "error"
   ]
  },
  {
   "cell_type": "code",
   "execution_count": 55,
   "id": "87ed107b",
   "metadata": {},
   "outputs": [
    {
     "name": "stdout",
     "output_type": "stream",
     "text": [
      "Error term :          -0.04063738360460799\n",
      "\n",
      "Neural_network output : 0.6899744811276125\n",
      "\n",
      "Amount of Error :     -0.1899744811276125\n",
      "\n",
      "change in weights :    [-0.02031869 -0.04063738 -0.06095608 -0.08127477]\n"
     ]
    }
   ],
   "source": [
    "# Now we want to calculate error term \n",
    "\n",
    "error_term = error*sigmoid_prime(h)\n",
    "print(\"Error term :         \",          error_term)\n",
    "\n",
    "print(\"\\nNeural_network output :\" , nn_output)\n",
    "\n",
    "print(\"\\nAmount of Error :    \",       error)\n",
    "\n",
    "# calculate change in weights \n",
    "\n",
    "del_w = learnrate*error_term*x\n",
    "\n",
    "print(\"\\nchange in weights :   \",      del_w)"
   ]
  },
  {
   "cell_type": "code",
   "execution_count": null,
   "id": "eab8f3e8",
   "metadata": {},
   "outputs": [],
   "source": []
  },
  {
   "cell_type": "code",
   "execution_count": null,
   "id": "b2a2c8ad",
   "metadata": {},
   "outputs": [],
   "source": []
  }
 ],
 "metadata": {
  "kernelspec": {
   "display_name": "Python 3",
   "language": "python",
   "name": "python3"
  },
  "language_info": {
   "codemirror_mode": {
    "name": "ipython",
    "version": 3
   },
   "file_extension": ".py",
   "mimetype": "text/x-python",
   "name": "python",
   "nbconvert_exporter": "python",
   "pygments_lexer": "ipython3",
   "version": "3.8.8"
  }
 },
 "nbformat": 4,
 "nbformat_minor": 5
}
