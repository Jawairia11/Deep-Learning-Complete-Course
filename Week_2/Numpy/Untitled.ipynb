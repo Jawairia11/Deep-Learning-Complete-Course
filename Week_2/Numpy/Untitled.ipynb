{
 "cells": [
  {
   "cell_type": "markdown",
   "id": "605edbf4",
   "metadata": {},
   "source": [
    "### NumPy's dot function\n",
    "\n",
    "We may sometimes see NumPy's ``dot function`` in places where we would expect a matmul. It turns out that the results of dot and matmul are the same if the matrices are two dimensional.\n",
    "So these two results are equivalent:"
   ]
  },
  {
   "cell_type": "code",
   "execution_count": 2,
   "id": "3d28c1bf",
   "metadata": {},
   "outputs": [
    {
     "name": "stdout",
     "output_type": "stream",
     "text": [
      "a= \n",
      " [[1 2]\n",
      " [3 4]]\n",
      "\n",
      "  np.dot(a,a) = \n",
      "\n",
      " [[ 7 10]\n",
      " [15 22]]\n",
      "\n",
      " a.dot(a) \n",
      "\n",
      " [[ 7 10]\n",
      " [15 22]]\n",
      "\n",
      " np.matmul(a,a) \n",
      "\n",
      " [[ 7 10]\n",
      " [15 22]]\n"
     ]
    }
   ],
   "source": [
    "import numpy as np\n",
    "\n",
    "a = np.array([[1,2],[3,4]])\n",
    "print(\"a= \\n\", a)\n",
    "\n",
    "print(\"\\n  np.dot(a,a) = \\n\\n\", np.dot(a,a))\n",
    "\n",
    "print(\"\\n a.dot(a) \\n\\n\", a.dot(a))\n",
    "\n",
    "print(\"\\n np.matmul(a,a) \\n\\n\", np.matmul(a,a))"
   ]
  },
  {
   "cell_type": "code",
   "execution_count": 2,
   "id": "e7530482",
   "metadata": {},
   "outputs": [
    {
     "name": "stdout",
     "output_type": "stream",
     "text": [
      "\n",
      " d= \n",
      " [[[1 2]\n",
      "  [3 4]]]\n",
      "\n",
      " d.shape = (1, 2, 2)\n",
      "\n",
      "   np.dot(d,d) =\n",
      "\n",
      " [[[[ 7 10]]\n",
      "\n",
      "  [[15 22]]]]\n",
      "\n",
      "  a.dot(d) =  \n",
      "\n",
      " [[[ 7 10]]\n",
      "\n",
      " [[15 22]]]\n",
      "\n",
      " np.matmul(d,d) = \n",
      "\n",
      " [[[ 7 10]\n",
      "  [15 22]]]\n"
     ]
    }
   ],
   "source": [
    "d=np.array([[[1,2],[3,4]]])\n",
    "print(\"\\n d= \\n\", d)\n",
    "print(\"\\n d.shape =\", d.shape)\n",
    "print(\"\\n   np.dot(d,d) =\\n\\n\", np.dot(d,d))\n",
    "print(\"\\n  a.dot(d) =  \\n\\n\", a.dot(d))\n",
    "\n",
    "print(\"\\n np.matmul(d,d) = \\n\\n\", np.matmul(d,d))"
   ]
  },
  {
   "cell_type": "code",
   "execution_count": 3,
   "id": "2b734c48",
   "metadata": {},
   "outputs": [
    {
     "data": {
      "text/plain": [
       "array([[[ 7, 10]],\n",
       "\n",
       "       [[15, 22]]])"
      ]
     },
     "execution_count": 3,
     "metadata": {},
     "output_type": "execute_result"
    }
   ],
   "source": [
    "a.dot(d)"
   ]
  },
  {
   "cell_type": "code",
   "execution_count": 6,
   "id": "6f035e55",
   "metadata": {},
   "outputs": [
    {
     "data": {
      "text/plain": [
       "array([[[ 7, 10]],\n",
       "\n",
       "       [[15, 22]]])"
      ]
     },
     "execution_count": 6,
     "metadata": {},
     "output_type": "execute_result"
    }
   ],
   "source": [
    "np.dot(a,d)"
   ]
  },
  {
   "cell_type": "code",
   "execution_count": 7,
   "id": "a130af3a",
   "metadata": {},
   "outputs": [
    {
     "data": {
      "text/plain": [
       "array([[[[ 7, 10]],\n",
       "\n",
       "        [[15, 22]]]])"
      ]
     },
     "execution_count": 7,
     "metadata": {},
     "output_type": "execute_result"
    }
   ],
   "source": [
    "np.dot(d,d)"
   ]
  },
  {
   "cell_type": "code",
   "execution_count": 8,
   "id": "13c83f50",
   "metadata": {},
   "outputs": [
    {
     "data": {
      "text/plain": [
       "array([[[[ 7, 10]],\n",
       "\n",
       "        [[15, 22]]]])"
      ]
     },
     "execution_count": 8,
     "metadata": {},
     "output_type": "execute_result"
    }
   ],
   "source": [
    "np.dot(d,d)"
   ]
  },
  {
   "cell_type": "code",
   "execution_count": 9,
   "id": "1bb7b317",
   "metadata": {},
   "outputs": [
    {
     "data": {
      "text/plain": [
       "array([[[ 7, 10],\n",
       "        [15, 22]]])"
      ]
     },
     "execution_count": 9,
     "metadata": {},
     "output_type": "execute_result"
    }
   ],
   "source": [
    "np.matmul(d,d)"
   ]
  },
  {
   "cell_type": "code",
   "execution_count": 10,
   "id": "4b6d5b15",
   "metadata": {},
   "outputs": [
    {
     "data": {
      "text/plain": [
       "(1, 2, 2)"
      ]
     },
     "execution_count": 10,
     "metadata": {},
     "output_type": "execute_result"
    }
   ],
   "source": [
    "np.matmul(d,d).shape"
   ]
  },
  {
   "cell_type": "code",
   "execution_count": 11,
   "id": "bb575831",
   "metadata": {},
   "outputs": [
    {
     "data": {
      "text/plain": [
       "array([[[ 7, 10],\n",
       "        [15, 22]]])"
      ]
     },
     "execution_count": 11,
     "metadata": {},
     "output_type": "execute_result"
    }
   ],
   "source": [
    "d@d"
   ]
  },
  {
   "cell_type": "code",
   "execution_count": 12,
   "id": "0cd32f3b",
   "metadata": {},
   "outputs": [
    {
     "name": "stdout",
     "output_type": "stream",
     "text": [
      "a = \n",
      " [[[0.05723024 0.93007251 0.75206994]\n",
      "  [0.09078144 0.51145001 0.55176224]\n",
      "  [0.68963654 0.28518612 0.23887666]]\n",
      "\n",
      " [[0.31730413 0.96370848 0.31644707]\n",
      "  [0.04340274 0.3050452  0.87502897]\n",
      "  [0.35116404 0.61748821 0.2907356 ]]]\n",
      "\n",
      " b = \n",
      " [[[0.70612601 0.3667213  0.9208861 ]\n",
      "  [0.68248757 0.34068485 0.22723639]\n",
      "  [0.87132235 0.08524832 0.00215786]]\n",
      "\n",
      " [[0.14742807 0.63960891 0.60282894]\n",
      "  [0.75567582 0.9666923  0.11081406]\n",
      "  [0.60368223 0.2715847  0.88606244]]]\n",
      "\n",
      " c = a @ b \n",
      "\n",
      " [[[1.33047004 0.40196187 0.26567172]\n",
      "  [0.89392419 0.25457157 0.20101004]\n",
      "  [0.88974485 0.37042683 0.70039683]]\n",
      "\n",
      " [[0.9660642  1.22050229 0.57846443]\n",
      "  [0.76515351 0.56029011 0.83529804]\n",
      "  [0.69390427 0.90048809 0.53772812]]]\n",
      "\n",
      " d=np.dot(a,b) =\n",
      "\n",
      " [[[[1.33047004 0.40196187 0.26567172]\n",
      "   [1.16528191 1.1399496  0.80394609]]\n",
      "\n",
      "  [[0.89392419 0.25457157 0.20101004]\n",
      "   [0.7329632  0.70232959 0.60029734]]\n",
      "\n",
      "  [[0.88974485 0.37042683 0.70039683]\n",
      "   [0.46138564 0.78166015 0.65899513]]]\n",
      "\n",
      "\n",
      " [[[1.15750316 0.47165965 0.51187345]\n",
      "   [0.9660642  1.22050229 0.57846443]]\n",
      "\n",
      "  [[1.00126967 0.19443574 0.11117454]\n",
      "   [0.76515351 0.56029011 0.83529804]]\n",
      "\n",
      "  [[0.92271852 0.36393294 0.46432524]\n",
      "   [0.69390427 0.90048809 0.53772812]]]]\n"
     ]
    }
   ],
   "source": [
    "a=np.random.rand(2,3,3)\n",
    "print(\"a = \\n\" , a)\n",
    "b=np.random.rand(2,3,3)\n",
    "print(\"\\n b = \\n\" , b)\n",
    "\n",
    "c=a@b\n",
    "\n",
    "print(\"\\n c = a @ b \\n\\n\", c)\n",
    "\n",
    "print(\"\\n d=np.dot(a,b) =\\n\\n\",np.dot(a,b))"
   ]
  },
  {
   "cell_type": "code",
   "execution_count": 13,
   "id": "ab5d07b9",
   "metadata": {},
   "outputs": [
    {
     "name": "stdout",
     "output_type": "stream",
     "text": [
      "c = \n",
      " [[[1.33047004 0.40196187 0.26567172]\n",
      "  [0.89392419 0.25457157 0.20101004]\n",
      "  [0.88974485 0.37042683 0.70039683]]\n",
      "\n",
      " [[0.9660642  1.22050229 0.57846443]\n",
      "  [0.76515351 0.56029011 0.83529804]\n",
      "  [0.69390427 0.90048809 0.53772812]]] \n",
      "\n",
      " c.shape =  (2, 3, 3)\n"
     ]
    }
   ],
   "source": [
    "print(\"c = \\n\", c , \"\\n\\n c.shape = \",c.shape)"
   ]
  },
  {
   "cell_type": "code",
   "execution_count": 14,
   "id": "5dca7fbe",
   "metadata": {},
   "outputs": [
    {
     "name": "stdout",
     "output_type": "stream",
     "text": [
      "\n",
      " d= \n",
      " [[[1 2]\n",
      "  [3 4]]] \n",
      "\n",
      " d.shape =  (1, 2, 2)\n"
     ]
    }
   ],
   "source": [
    "print(\"\\n d= \\n\",d , \"\\n\\n d.shape = \", d.shape)"
   ]
  },
  {
   "cell_type": "code",
   "execution_count": 15,
   "id": "3b3f0a35",
   "metadata": {},
   "outputs": [
    {
     "name": "stdout",
     "output_type": "stream",
     "text": [
      "np.multiply(a,a) = \n",
      "\n",
      " [[[0.0032753  0.86503488 0.56560919]\n",
      "  [0.00824127 0.26158112 0.30444157]\n",
      "  [0.47559856 0.08133112 0.05706206]]\n",
      "\n",
      " [[0.10068191 0.92873403 0.10013875]\n",
      "  [0.0018838  0.09305257 0.7656757 ]\n",
      "  [0.12331618 0.38129169 0.08452719]]]\n",
      "\n",
      "\n",
      " np.multiply(a,a).shape = \n",
      "\n",
      " (2, 3, 3)\n"
     ]
    }
   ],
   "source": [
    "print(\"np.multiply(a,a) = \\n\\n\", np.multiply(a,a) )\n",
    "print(\"\\n\\n np.multiply(a,a).shape = \\n\\n\", np.multiply(a,a).shape )"
   ]
  },
  {
   "cell_type": "code",
   "execution_count": 23,
   "id": "eb249d13",
   "metadata": {},
   "outputs": [
    {
     "name": "stdout",
     "output_type": "stream",
     "text": [
      "a = \n",
      " [[[1 2]\n",
      "  [1 2]]\n",
      "\n",
      " [[1 3]\n",
      "  [1 3]]\n",
      "\n",
      " [[1 4]\n",
      "  [1 4]]]\n",
      "\n",
      " a@a = \n",
      "\n",
      " [[[ 3  6]\n",
      "  [ 3  6]]\n",
      "\n",
      " [[ 4 12]\n",
      "  [ 4 12]]\n",
      "\n",
      " [[ 5 20]\n",
      "  [ 5 20]]]\n",
      "\n",
      " np.dot(a,a) = \n",
      "\n",
      " [[[[ 3  6]\n",
      "   [ 3  9]\n",
      "   [ 3 12]]\n",
      "\n",
      "  [[ 3  6]\n",
      "   [ 3  9]\n",
      "   [ 3 12]]]\n",
      "\n",
      "\n",
      " [[[ 4  8]\n",
      "   [ 4 12]\n",
      "   [ 4 16]]\n",
      "\n",
      "  [[ 4  8]\n",
      "   [ 4 12]\n",
      "   [ 4 16]]]\n",
      "\n",
      "\n",
      " [[[ 5 10]\n",
      "   [ 5 15]\n",
      "   [ 5 20]]\n",
      "\n",
      "  [[ 5 10]\n",
      "   [ 5 15]\n",
      "   [ 5 20]]]]\n"
     ]
    }
   ],
   "source": [
    "a=np.array([ [[1,2],[1,2]], [[1,3],[1,3]], [[1,4],[1,4]]\n",
    "    \n",
    "])\n",
    "print(\"a = \\n\",a )\n",
    "\n",
    "print(\"\\n a@a = \\n\\n\", a@a)\n",
    "print(\"\\n np.dot(a,a) = \\n\\n\", np.dot(a,a))"
   ]
  },
  {
   "cell_type": "code",
   "execution_count": 24,
   "id": "9ff8e4fa",
   "metadata": {},
   "outputs": [
    {
     "data": {
      "text/plain": [
       "array([[[ 1,  4],\n",
       "        [ 1,  4]],\n",
       "\n",
       "       [[ 1,  9],\n",
       "        [ 1,  9]],\n",
       "\n",
       "       [[ 1, 16],\n",
       "        [ 1, 16]]])"
      ]
     },
     "execution_count": 24,
     "metadata": {},
     "output_type": "execute_result"
    }
   ],
   "source": [
    "a*a"
   ]
  },
  {
   "cell_type": "code",
   "execution_count": 25,
   "id": "253dd70c",
   "metadata": {},
   "outputs": [
    {
     "data": {
      "text/plain": [
       "array([[ 2,  8],\n",
       "       [ 2, 18],\n",
       "       [ 2, 32]])"
      ]
     },
     "execution_count": 25,
     "metadata": {},
     "output_type": "execute_result"
    }
   ],
   "source": [
    "np.sum(a*a , axis=1)"
   ]
  },
  {
   "cell_type": "code",
   "execution_count": 26,
   "id": "955b73b1",
   "metadata": {},
   "outputs": [
    {
     "data": {
      "text/plain": [
       "array([[ 3, 29],\n",
       "       [ 3, 29]])"
      ]
     },
     "execution_count": 26,
     "metadata": {},
     "output_type": "execute_result"
    }
   ],
   "source": [
    "sum(a*a)"
   ]
  },
  {
   "cell_type": "markdown",
   "id": "476654b5",
   "metadata": {},
   "source": [
    "### Transpose"
   ]
  },
  {
   "cell_type": "code",
   "execution_count": 34,
   "id": "f7872937",
   "metadata": {},
   "outputs": [
    {
     "name": "stdout",
     "output_type": "stream",
     "text": [
      "m =\n",
      " [[ 1  2  3  4]\n",
      " [ 5  6  7  8]\n",
      " [ 9 10 11 12]]\n",
      "\n",
      " m.T = \n",
      "\n",
      " [[ 1  5  9]\n",
      " [ 2  6 10]\n",
      " [ 3  7 11]\n",
      " [ 4  8 12]]\n",
      "\n",
      " m.transpose() = \n",
      "\n",
      " [[ 1  5  9]\n",
      " [ 2  6 10]\n",
      " [ 3  7 11]\n",
      " [ 4  8 12]]\n"
     ]
    }
   ],
   "source": [
    "m=np.array([[1,2,3,4],[5,6,7,8],[9,10,11,12]])\n",
    "print(\"m =\\n\", m)\n",
    "\n",
    "print(\"\\n m.T = \\n\\n\", m.T)\n",
    "print(\"\\n m.transpose() = \\n\\n\",m.transpose())"
   ]
  },
  {
   "cell_type": "code",
   "execution_count": 39,
   "id": "30842cbd",
   "metadata": {},
   "outputs": [
    {
     "name": "stdout",
     "output_type": "stream",
     "text": [
      "m = \n",
      " [[  1   2   3   4]\n",
      " [  5   6   7 200]\n",
      " [  9  10  11  12]]\n",
      "\n",
      " m.T = \n",
      " [[  1   5   9]\n",
      " [  2   6  10]\n",
      " [  3   7  11]\n",
      " [  4 200  12]]\n"
     ]
    }
   ],
   "source": [
    "m_t = m.T\n",
    "m_t[3][1] = 200\n",
    "print(\"m = \\n\", m)\n",
    "print(\"\\n m.T = \\n\", m.T)"
   ]
  },
  {
   "cell_type": "markdown",
   "id": "26ab4980",
   "metadata": {},
   "source": [
    "### A real use case"
   ]
  },
  {
   "cell_type": "code",
   "execution_count": 10,
   "id": "7e0127a5",
   "metadata": {},
   "outputs": [
    {
     "name": "stdout",
     "output_type": "stream",
     "text": [
      "inputs = \n",
      "  [[-0.27  0.45  0.64  0.31]]\n",
      "\n",
      " inputs.shape =  (1, 4) \n",
      "\n",
      "weights = \n",
      " [[ 0.02   0.001 -0.03   0.036]\n",
      " [ 0.04  -0.003  0.025  0.009]\n",
      " [ 0.012 -0.045  0.28  -0.067]]\n",
      "\n",
      " weights.shape =  (3, 4)\n"
     ]
    }
   ],
   "source": [
    "inputs=np.array([[-0.27,  0.45,  0.64, 0.31]])\n",
    "print(\"inputs = \\n \", inputs)\n",
    "\n",
    "print(\"\\n inputs.shape = \", inputs.shape , \"\\n\")\n",
    "\n",
    "weights = np.array([[0.02, 0.001 , -0.03 , 0.036], \\\n",
    "                    [0.04, -0.003, 0.025, 0.009], [0.012, -0.045, 0.28, -0.067]])\n",
    "print(\"weights = \\n\",weights)\n",
    "print(\"\\n weights.shape = \",weights.shape)"
   ]
  },
  {
   "cell_type": "code",
   "execution_count": 13,
   "id": "d99bc3a5",
   "metadata": {},
   "outputs": [
    {
     "ename": "ValueError",
     "evalue": "matmul: Input operand 1 has a mismatch in its core dimension 0, with gufunc signature (n?,k),(k,m?)->(n?,m?) (size 1 is different from 4)",
     "output_type": "error",
     "traceback": [
      "\u001b[1;31m---------------------------------------------------------------------------\u001b[0m",
      "\u001b[1;31mValueError\u001b[0m                                Traceback (most recent call last)",
      "\u001b[1;32m<ipython-input-13-29802c01f2ad>\u001b[0m in \u001b[0;36m<module>\u001b[1;34m\u001b[0m\n\u001b[1;32m----> 1\u001b[1;33m \u001b[0mnp\u001b[0m\u001b[1;33m.\u001b[0m\u001b[0mmatmul\u001b[0m\u001b[1;33m(\u001b[0m\u001b[0mweights\u001b[0m \u001b[1;33m,\u001b[0m \u001b[0minputs\u001b[0m\u001b[1;33m)\u001b[0m\u001b[1;33m\u001b[0m\u001b[1;33m\u001b[0m\u001b[0m\n\u001b[0m",
      "\u001b[1;31mValueError\u001b[0m: matmul: Input operand 1 has a mismatch in its core dimension 0, with gufunc signature (n?,k),(k,m?)->(n?,m?) (size 1 is different from 4)"
     ]
    }
   ],
   "source": [
    "print(np.matmul(weights , inputs))"
   ]
  },
  {
   "cell_type": "code",
   "execution_count": 18,
   "id": "2f96972a",
   "metadata": {},
   "outputs": [
    {
     "name": "stdout",
     "output_type": "stream",
     "text": [
      "np.matmul(inputs , weights.T) = \n",
      " [[-0.01299  0.00664  0.13494]]\n",
      "\n",
      " np.matmul(inputs , weights.T).shape =  (1, 3)\n"
     ]
    }
   ],
   "source": [
    "print(\"np.matmul(inputs , weights.T) = \\n\", np.matmul(inputs , weights.T))\n",
    "\n",
    "print(\"\\n np.matmul(inputs , weights.T).shape = \", np.matmul(inputs , weights.T).shape)"
   ]
  },
  {
   "cell_type": "code",
   "execution_count": 20,
   "id": "b137c9db",
   "metadata": {},
   "outputs": [
    {
     "name": "stdout",
     "output_type": "stream",
     "text": [
      "np.matmul(weights, inputs.T) = \n",
      " [[-0.01299]\n",
      " [ 0.00664]\n",
      " [ 0.13494]]\n",
      "\n",
      " np.matmul(weights, inputs.T).shape =  (3, 1)\n"
     ]
    }
   ],
   "source": [
    "print(\"np.matmul(weights, inputs.T) = \\n\", np.matmul(weights , inputs.T))\n",
    "\n",
    "print(\"\\n np.matmul(weights, inputs.T).shape = \", np.matmul(weights, inputs.T).shape)"
   ]
  },
  {
   "cell_type": "markdown",
   "id": "12274ae4",
   "metadata": {},
   "source": [
    "### Sorting, Subsetting, Slicing, Splitting and Indexing"
   ]
  },
  {
   "cell_type": "code",
   "execution_count": 8,
   "id": "0ce218c9",
   "metadata": {},
   "outputs": [
    {
     "name": "stdout",
     "output_type": "stream",
     "text": [
      "a = \n",
      " [[ 7 32  1]\n",
      " [55  0 -6]\n",
      " [ 3 99  2]] \n",
      "\n",
      "[[ 1  7 32]\n",
      " [-6  0 55]\n",
      " [ 2  3 99]]\n",
      "\n",
      " [[ 3  0 -6]\n",
      " [ 7 32  1]\n",
      " [55 99  2]]\n",
      "\n",
      " [-6  0  1  2  3  7 32 55 99]\n"
     ]
    }
   ],
   "source": [
    "import numpy as np\n",
    "a=np.array([[7,32,1],[55,0,-6],[3,99,2]])\n",
    "print(\"a = \\n\", a ,\"\\n\")\n",
    "print(np.sort(a))\n",
    "print(\"\\n\",np.sort(a , axis=0))\n",
    "print(\"\\n\",np.sort(a , axis=None))"
   ]
  },
  {
   "cell_type": "markdown",
   "id": "9fad0cce",
   "metadata": {},
   "source": [
    "### Subsetting"
   ]
  },
  {
   "cell_type": "code",
   "execution_count": 30,
   "id": "17e71e2e",
   "metadata": {},
   "outputs": [
    {
     "name": "stdout",
     "output_type": "stream",
     "text": [
      "a = \n",
      " [[ 1  2  3  4]\n",
      " [ 5  6  7  8]\n",
      " [ 9 10 11 12]]\n",
      "\n",
      " a[1][3] = 8\n",
      "\n",
      " a[2][1] = 10\n",
      "\n",
      " a[0]=  [1 2 3 4]\n",
      "\n",
      " a[:,2] = [ 3  7 11]\n",
      "\n",
      " a[1,:] =  [5 6 7 8]\n",
      "\n",
      " a[0,:] =  [1 2 3 4]\n",
      "\n",
      " a[2,:] =  [ 9 10 11 12]\n",
      "\n",
      " a[:,1] =  [ 2  6 10]\n",
      "\n",
      " a[:,0] =  [1 5 9]\n"
     ]
    }
   ],
   "source": [
    "a=np.array([[1,2,3,4],[5,6,7,8],[9,10,11,12]])\n",
    "print(\"a = \\n\", a)\n",
    "print(\"\\n a[1][3] =\",a[1][3])\n",
    "print(\"\\n a[2][1] =\",a[2][1])\n",
    "print(\"\\n a[0]= \",a[0])\n",
    "print(\"\\n a[:,2] =\",a[:,2])\n",
    "print(\"\\n a[1,:] = \",a[1,:])\n",
    "print(\"\\n a[0,:] = \",a[0,:])\n",
    "print(\"\\n a[2,:] = \",a[2,:])\n",
    "print(\"\\n a[:,1] = \",a[:,1])\n",
    "print(\"\\n a[:,0] = \",a[:,0])"
   ]
  },
  {
   "cell_type": "markdown",
   "id": "ba05ba73",
   "metadata": {},
   "source": [
    "### Slicing"
   ]
  },
  {
   "cell_type": "markdown",
   "id": "964e039b",
   "metadata": {},
   "source": [
    "Similar to subsetting, slicing allows us to extract certain portions of an array. For example"
   ]
  },
  {
   "cell_type": "code",
   "execution_count": 36,
   "id": "3d1f9b78",
   "metadata": {},
   "outputs": [
    {
     "name": "stdout",
     "output_type": "stream",
     "text": [
      "[0 1 2 3 4 5 6 7 8 9]\n",
      "\n",
      " [0 2 4 6 8]\n"
     ]
    }
   ],
   "source": [
    "a=np.arange(10)\n",
    "print(a)\n",
    "s=slice(0,10,2)\n",
    "print(\"\\n\",a[s])"
   ]
  },
  {
   "cell_type": "code",
   "execution_count": 40,
   "id": "96faa25e",
   "metadata": {},
   "outputs": [
    {
     "name": "stdout",
     "output_type": "stream",
     "text": [
      "[ 67  68  69  89 642  65   9  10]\n",
      "\n",
      " [ 67  69 642   9]\n"
     ]
    }
   ],
   "source": [
    "a=np.array([67,68,69,89,642,65,9,10])\n",
    "print(a)\n",
    "s=slice(0,650,2)\n",
    "print(\"\\n\",a[s])"
   ]
  },
  {
   "cell_type": "code",
   "execution_count": 45,
   "id": "fde6f294",
   "metadata": {},
   "outputs": [
    {
     "name": "stdout",
     "output_type": "stream",
     "text": [
      "[0 1 2 3 4 5 6 7 8 9]\n",
      "\n",
      " [0 2 4 6 8]\n"
     ]
    }
   ],
   "source": [
    "a=np.arange(10)\n",
    "print(a)\n",
    "s=slice(0,10,2)\n",
    "print(\"\\n\",a[s])"
   ]
  },
  {
   "cell_type": "code",
   "execution_count": 50,
   "id": "49bebf57",
   "metadata": {},
   "outputs": [
    {
     "name": "stdout",
     "output_type": "stream",
     "text": [
      "[9 8 7 6 5 4 3 2 1 0]\n"
     ]
    }
   ],
   "source": [
    "print(a[::-1])"
   ]
  },
  {
   "cell_type": "code",
   "execution_count": 53,
   "id": "0b2b4ff2",
   "metadata": {},
   "outputs": [
    {
     "name": "stdout",
     "output_type": "stream",
     "text": [
      "[9 7 5 3 1]\n"
     ]
    }
   ],
   "source": [
    "print(a[::-2])"
   ]
  },
  {
   "cell_type": "code",
   "execution_count": 54,
   "id": "b917e8bb",
   "metadata": {},
   "outputs": [
    {
     "name": "stdout",
     "output_type": "stream",
     "text": [
      "[9 7 5]\n"
     ]
    }
   ],
   "source": [
    "print(a[:3:-2])"
   ]
  },
  {
   "cell_type": "code",
   "execution_count": 59,
   "id": "0c5021bd",
   "metadata": {},
   "outputs": [
    {
     "name": "stdout",
     "output_type": "stream",
     "text": [
      "[9 7 5]\n"
     ]
    }
   ],
   "source": [
    "print(a[:3:-2])"
   ]
  },
  {
   "cell_type": "code",
   "execution_count": 61,
   "id": "f5a1027d",
   "metadata": {},
   "outputs": [
    {
     "name": "stdout",
     "output_type": "stream",
     "text": [
      "[6 7 8 9]\n"
     ]
    }
   ],
   "source": [
    "print(a[a>5])"
   ]
  },
  {
   "cell_type": "code",
   "execution_count": 63,
   "id": "883596e7",
   "metadata": {},
   "outputs": [
    {
     "name": "stdout",
     "output_type": "stream",
     "text": [
      "[]\n"
     ]
    }
   ],
   "source": [
    "print(a[(a>5) & (a==5)])"
   ]
  },
  {
   "cell_type": "code",
   "execution_count": 66,
   "id": "a7b02507",
   "metadata": {},
   "outputs": [
    {
     "name": "stdout",
     "output_type": "stream",
     "text": [
      "[array([1, 2, 3]), array([4, 5]), array([6, 7]), array([8, 9])]\n"
     ]
    }
   ],
   "source": [
    "arr1 = np.array([1,2,3,4,5,6,7,8,9])\n",
    "new_arr1= np.array_split(arr1, 4)\n",
    "print(new_arr1)"
   ]
  },
  {
   "cell_type": "code",
   "execution_count": null,
   "id": "4b340dd5",
   "metadata": {},
   "outputs": [],
   "source": []
  }
 ],
 "metadata": {
  "kernelspec": {
   "display_name": "Python 3",
   "language": "python",
   "name": "python3"
  },
  "language_info": {
   "codemirror_mode": {
    "name": "ipython",
    "version": 3
   },
   "file_extension": ".py",
   "mimetype": "text/x-python",
   "name": "python",
   "nbconvert_exporter": "python",
   "pygments_lexer": "ipython3",
   "version": "3.8.8"
  }
 },
 "nbformat": 4,
 "nbformat_minor": 5
}
