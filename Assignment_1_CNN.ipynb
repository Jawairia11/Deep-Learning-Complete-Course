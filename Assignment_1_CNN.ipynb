{
 "cells": [
  {
   "cell_type": "markdown",
   "id": "ed359823-abb1-425a-9530-c2f00899650b",
   "metadata": {},
   "source": [
    "### Cat Classification Using CNN"
   ]
  },
  {
   "cell_type": "code",
   "execution_count": null,
   "id": "b4a5a9b6-953e-4640-b4ca-c4f89fd9040d",
   "metadata": {},
   "outputs": [],
   "source": [
    "from keras.models import Sequential\n",
    "from keras.layers import Dense, Conv2D, Flatten, MaxPooling2D, Activation\n",
    "from keras.optimizers import Adam\n",
    "import numpy as np\n",
    "import pandas as pd\n",
    "import matplotlib.pyplot as plt\n",
    "import h5py\n",
    "\n",
    "%matplotlib inline\n",
    "np.random.seed(1)"
   ]
  },
  {
   "cell_type": "code",
   "execution_count": null,
   "id": "f515a0c1-f62b-4516-873a-81671ece95cc",
   "metadata": {},
   "outputs": [],
   "source": [
    "plt.rcParams['figure.figsize'] = (8.0, 8.0) # set default size of plots\n",
    "plt.rcParams['image.interpolation'] = 'nearest'\n",
    "plt.rcParams['image.cmap'] = 'gray'\n",
    "\n",
    "np.random.seed(1)"
   ]
  },
  {
   "cell_type": "markdown",
   "id": "a2470be1-1392-46c8-a984-fc75d6b53885",
   "metadata": {},
   "source": [
    "## 1 - Overview of the data set\n",
    "\n",
    "First of all, we'll load the data. After loading, here's a basic overview;\n",
    "\n",
    "- a training set of m_train images labeled as cat (y=1) or non-cat (y=0)\n",
    "- a test set of m_test images labeled as cat or non-cat\n",
    "- each image is of shape (num_px, num_px, 3) where 3 is for the 3 channels (RGB). Thus, each image is square (height = num_px) and (width = num_px)."
   ]
  },
  {
   "cell_type": "code",
   "execution_count": null,
   "id": "de0c2a93-08a0-46b7-9c8c-4e5820e00a9c",
   "metadata": {},
   "outputs": [],
   "source": [
    "train_dataset = h5py.File('./data/train.h5', \"r\")\n",
    "train_set_x_orig = np.array(train_dataset[\"train_set_x\"][:]) # train set features\n",
    "train_set_y_orig = np.array(train_dataset[\"train_set_y\"][:]) # train set labels\n",
    "\n",
    "test_dataset = h5py.File('./data/test.h5', \"r\")\n",
    "test_set_x_orig = np.array(test_dataset[\"test_set_x\"][:]) # test set features\n",
    "test_set_y_orig = np.array(test_dataset[\"test_set_y\"][:]) # test set labels"
   ]
  },
  {
   "cell_type": "code",
   "execution_count": null,
   "id": "d39495e5-4d7a-4844-bee1-f88d62e39dcf",
   "metadata": {},
   "outputs": [],
   "source": [
    "classes = np.array(test_dataset[\"list_classes\"][:]) # the list of classes\n",
    "classes"
   ]
  },
  {
   "cell_type": "code",
   "execution_count": null,
   "id": "2bdbe6f9-f7d4-485b-82b6-f4e24d524c43",
   "metadata": {},
   "outputs": [],
   "source": [
    "train_set_y = train_set_y_orig.reshape((1, train_set_y_orig.shape[0]))\n",
    "test_set_y = test_set_y_orig.reshape((1, test_set_y_orig.shape[0]))\n",
    "print(train_set_y.shape)\n",
    "print(test_set_y.shape)"
   ]
  },
  {
   "cell_type": "markdown",
   "id": "d7b71d47-36ce-4bbc-bfd9-384c0042255b",
   "metadata": {},
   "source": [
    "Each line of train_set_x_orig and test_set_x_orig is an array representing an image. You can visualize an example by running the following code. Feel free also to change the index value and re-run to see other images."
   ]
  },
  {
   "cell_type": "code",
   "execution_count": null,
   "id": "55f3cba2-e21d-4912-b84c-f14d861c5b9e",
   "metadata": {},
   "outputs": [],
   "source": [
    "# Example of a picture\n",
    "index = 60\n",
    "plt.imshow(train_set_x_orig[index])\n",
    "print (\"y = \" + str(train_set_y[:, index]) + \", it's a '\" + classes[np.squeeze(train_set_y[:, index])].decode(\"utf-8\") +  \"' picture.\")"
   ]
  },
  {
   "cell_type": "markdown",
   "id": "46ff321f-3e90-4a75-a82b-d9d97a6d6d3d",
   "metadata": {},
   "source": [
    "# 2 - Data preprocessing\n",
    "\n",
    "Following are the steps to preprocess data for a ConvNet.\n",
    "\n",
    "- Figure out the dimensions and shapes of the problem (m_train, m_test, num_px, ...)\n",
    "- \"Standardize\" the data\n",
    "- Data Augmentation (will discuss later in the course)\n",
    "\n",
    "Many software bugs in deep learning come from having matrix/vector dimensions that don't fit. If you can keep your matrix/vector dimensions straight you will go a long way toward eliminating many bugs."
   ]
  },
  {
   "cell_type": "markdown",
   "id": "5efd1107-cd62-4c95-8205-e8a7fe6e5e39",
   "metadata": {},
   "source": [
    "### 2.1 Dimensions of our data"
   ]
  },
  {
   "cell_type": "code",
   "execution_count": null,
   "id": "15716c2f-90cd-4831-993e-ab5469a2ccfd",
   "metadata": {},
   "outputs": [],
   "source": [
    "m_train = train_set_x_orig.shape[0]\n",
    "m_test = test_set_x_orig.shape[0]\n",
    "num_px = train_set_x_orig.shape[1]\n",
    "\n",
    "print (\"Dataset dimensions:\")\n",
    "print (\"Number of training examples: m_train = \" + str(m_train))\n",
    "print (\"Number of testing examples: m_test = \" + str(m_test))\n",
    "print (\"Height/Width of each image: num_px = \" + str(num_px))\n",
    "print (\"Each image is of size: (\" + str(num_px) + \", \" + str(num_px) + \", 3)\")"
   ]
  },
  {
   "cell_type": "code",
   "execution_count": null,
   "id": "f58248c8-aac9-40c3-82b1-f9971bd6a2bf",
   "metadata": {},
   "outputs": [],
   "source": [
    "train_set_y = train_set_y.T\n",
    "test_set_y = test_set_y.T"
   ]
  },
  {
   "cell_type": "code",
   "execution_count": null,
   "id": "d73c6497-9820-4f50-a999-87c40f469e82",
   "metadata": {},
   "outputs": [],
   "source": [
    "print (\"train_set_x shape: \" + str(train_set_x_orig.shape))\n",
    "print (\"train_set_y shape: \" + str(train_set_y.shape))\n",
    "print (\"test_set_x shape: \" + str(test_set_x_orig.shape))\n",
    "print (\"test_set_y shape: \" + str(test_set_y.shape))"
   ]
  },
  {
   "cell_type": "markdown",
   "id": "a1a93dff-0d65-4ffa-a4cd-b4eb00a25a78",
   "metadata": {},
   "source": [
    "### 2.3 Standardizing data\n",
    "\n",
    "One common preprocessing step in machine learning is to center and standardize your dataset, meaning that you substract the mean of the whole numpy array from each example, and then divide each example by the standard deviation of the whole numpy array. But for picture datasets, it is simpler and more convenient and works almost as well to just divide every row of the dataset by 255 (the maximum value of a pixel channel).\n",
    "\n",
    "Let's standardize our dataset."
   ]
  },
  {
   "cell_type": "code",
   "execution_count": null,
   "id": "5fd30a60-b557-43b9-8b15-94d7abf490e5",
   "metadata": {},
   "outputs": [],
   "source": [
    "train_set_x = train_set_x_orig/255.\n",
    "test_set_x = test_set_x_orig/255."
   ]
  },
  {
   "cell_type": "code",
   "execution_count": null,
   "id": "171c853b-bb92-42ff-aba4-58ef1d7b890e",
   "metadata": {},
   "outputs": [],
   "source": [
    "train_set_x.shape"
   ]
  },
  {
   "cell_type": "markdown",
   "id": "563440dd-27f5-493a-a089-dbb26caf6a71",
   "metadata": {},
   "source": [
    "## 3 - Modeling"
   ]
  },
  {
   "cell_type": "markdown",
   "id": "91111320-abdf-401d-9913-639dab4f35ec",
   "metadata": {},
   "source": [
    "### 3.1 Utility function to train & evaluate our models."
   ]
  },
  {
   "cell_type": "code",
   "execution_count": 4,
   "id": "dd75af1c-6f7b-435f-a2df-1a90605ce6b5",
   "metadata": {},
   "outputs": [],
   "source": [
    "# Utility function\n",
    "def evaluate_this_model(model, epochs):\n",
    "    \n",
    "    np.random.seed(1)\n",
    "\n",
    "    history = model.fit(train_set_x, train_set_y,nb_epoch=epochs)\n",
    "    results = model.evaluate(test_set_x, test_set_y)\n",
    "    \n",
    "    plt.plot(np.squeeze(history.history[\"loss\"]))\n",
    "    plt.ylabel('cost')\n",
    "    plt.xlabel('iterations (per tens)')\n",
    "    plt.title(\"Learning rate =\" + str(learning_rate))\n",
    "    plt.show()\n",
    "    \n",
    "    print(\"\\n\\nAccuracy on training set is {}\".format(history.history[\"acc\"][-1]))\n",
    "    print(\"\\nAccuracy on test set is {}\".format(results[1]))"
   ]
  },
  {
   "cell_type": "markdown",
   "id": "e9786fba-8843-4c5b-afb6-57ce10a9e255",
   "metadata": {},
   "source": [
    "### 3.2 Model Architecture"
   ]
  },
  {
   "cell_type": "code",
   "execution_count": null,
   "id": "d57bcd63-8681-4d90-9958-465becef0b9f",
   "metadata": {},
   "outputs": [],
   "source": [
    "model = Sequential()\n",
    "\n",
    "#build your convnet here to achieve testing accuracy of around 90%"
   ]
  },
  {
   "cell_type": "markdown",
   "id": "06929f2d-53dc-49b9-a0a9-1c7717612346",
   "metadata": {},
   "source": [
    "### 3.3 Compilation"
   ]
  },
  {
   "cell_type": "code",
   "execution_count": null,
   "id": "0904ba7c-45f8-49a7-a9b4-ec842521182e",
   "metadata": {},
   "outputs": [],
   "source": [
    "learning_rate = 0.0001\n",
    "opt = Adam(lr=learning_rate)\n",
    "model.compile(optimizer=opt,\n",
    "              loss='binary_crossentropy',\n",
    "              metrics=['accuracy'])"
   ]
  },
  {
   "cell_type": "code",
   "execution_count": null,
   "id": "414d65ab-7508-4bcd-b503-c0566e145bfa",
   "metadata": {},
   "outputs": [],
   "source": [
    "model.summary()"
   ]
  },
  {
   "cell_type": "code",
   "execution_count": null,
   "id": "72c63cb6-00c6-4ab8-a60e-d8a97af7a8d3",
   "metadata": {},
   "outputs": [],
   "source": [
    "epochs= pass\n",
    "evaluate_this_model(model, epochs)"
   ]
  }
 ],
 "metadata": {
  "kernelspec": {
   "display_name": "Python 3 (ipykernel)",
   "language": "python",
   "name": "python3"
  },
  "language_info": {
   "codemirror_mode": {
    "name": "ipython",
    "version": 3
   },
   "file_extension": ".py",
   "mimetype": "text/x-python",
   "name": "python",
   "nbconvert_exporter": "python",
   "pygments_lexer": "ipython3",
   "version": "3.9.7"
  }
 },
 "nbformat": 4,
 "nbformat_minor": 5
}
