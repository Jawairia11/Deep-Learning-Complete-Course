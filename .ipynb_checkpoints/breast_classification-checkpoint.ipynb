{
 "cells": [
  {
   "cell_type": "code",
   "execution_count": 1,
   "metadata": {
    "colab": {
     "base_uri": "https://localhost:8080/"
    },
    "executionInfo": {
     "elapsed": 4369,
     "status": "ok",
     "timestamp": 1670044580391,
     "user": {
      "displayName": "umar khan",
      "userId": "10949049121784379174"
     },
     "user_tz": -300
    },
    "id": "aFbkxY1mU2QA",
    "outputId": "3ea5c3f0-e2f9-44ee-b0dc-a3add45fc578"
   },
   "outputs": [
    {
     "name": "stdout",
     "output_type": "stream",
     "text": [
      "2.13.0\n"
     ]
    }
   ],
   "source": [
    "# get tensorflow \n",
    "\n",
    "import tensorflow as tf\n",
    "print(tf.__version__)"
   ]
  },
  {
   "cell_type": "code",
   "execution_count": 2,
   "metadata": {
    "executionInfo": {
     "elapsed": 7,
     "status": "ok",
     "timestamp": 1670044586201,
     "user": {
      "displayName": "umar khan",
      "userId": "10949049121784379174"
     },
     "user_tz": -300
    },
    "id": "QVQEwg7bVP0y"
   },
   "outputs": [],
   "source": [
    "# get dataset from sklearn\n",
    "\n",
    "from sklearn.datasets import load_breast_cancer\n",
    "data_bc=load_breast_cancer()"
   ]
  },
  {
   "cell_type": "code",
   "execution_count": 3,
   "metadata": {
    "colab": {
     "base_uri": "https://localhost:8080/"
    },
    "executionInfo": {
     "elapsed": 1395,
     "status": "ok",
     "timestamp": 1670044590542,
     "user": {
      "displayName": "umar khan",
      "userId": "10949049121784379174"
     },
     "user_tz": -300
    },
    "id": "rseXXKH-VbqO",
    "outputId": "c8f5de53-a4e1-483f-e7ab-4321dff84171"
   },
   "outputs": [
    {
     "data": {
      "text/plain": [
       "dict_keys(['data', 'target', 'frame', 'target_names', 'DESCR', 'feature_names', 'filename', 'data_module'])"
      ]
     },
     "execution_count": 3,
     "metadata": {},
     "output_type": "execute_result"
    }
   ],
   "source": [
    "# explore dataset\n",
    "\n",
    "data_bc.keys()"
   ]
  },
  {
   "cell_type": "code",
   "execution_count": 5,
   "metadata": {
    "colab": {
     "base_uri": "https://localhost:8080/"
    },
    "executionInfo": {
     "elapsed": 358,
     "status": "ok",
     "timestamp": 1670044653930,
     "user": {
      "displayName": "umar khan",
      "userId": "10949049121784379174"
     },
     "user_tz": -300
    },
    "id": "GcRgTlNTVgh3",
    "outputId": "f0b41e49-29c8-4453-c071-7451f36dc086"
   },
   "outputs": [
    {
     "name": "stdout",
     "output_type": "stream",
     "text": [
      "(569, 30) \n",
      "\n",
      " ['mean radius' 'mean texture' 'mean perimeter' 'mean area'\n",
      " 'mean smoothness' 'mean compactness' 'mean concavity'\n",
      " 'mean concave points' 'mean symmetry' 'mean fractal dimension'\n",
      " 'radius error' 'texture error' 'perimeter error' 'area error'\n",
      " 'smoothness error' 'compactness error' 'concavity error'\n",
      " 'concave points error' 'symmetry error' 'fractal dimension error'\n",
      " 'worst radius' 'worst texture' 'worst perimeter' 'worst area'\n",
      " 'worst smoothness' 'worst compactness' 'worst concavity'\n",
      " 'worst concave points' 'worst symmetry' 'worst fractal dimension'] \n",
      "\n",
      " (569,) \n",
      "\n",
      " ['malignant' 'benign']\n"
     ]
    }
   ],
   "source": [
    "print(data_bc.data.shape,'\\n\\n',data_bc.feature_names,'\\n\\n',data_bc.target.shape,'\\n\\n',data_bc.target_names)"
   ]
  },
  {
   "cell_type": "code",
   "execution_count": 6,
   "metadata": {
    "colab": {
     "base_uri": "https://localhost:8080/"
    },
    "executionInfo": {
     "elapsed": 401,
     "status": "ok",
     "timestamp": 1670044739822,
     "user": {
      "displayName": "umar khan",
      "userId": "10949049121784379174"
     },
     "user_tz": -300
    },
    "id": "Y0jnQCLJVtdj",
    "outputId": "ff230ead-a53c-4051-b850-ff1e680c78e5"
   },
   "outputs": [
    {
     "data": {
      "text/plain": [
       "array([0, 0, 0, 0, 0, 0, 0, 0, 0, 0, 0, 0, 0, 0, 0, 0, 0, 0, 0, 1, 1, 1,\n",
       "       0, 0, 0, 0, 0, 0, 0, 0, 0, 0, 0, 0, 0, 0, 0, 1, 0, 0, 0, 0, 0, 0,\n",
       "       0, 0, 1, 0, 1, 1, 1, 1, 1, 0, 0, 1, 0, 0, 1, 1, 1, 1, 0, 1, 0, 0,\n",
       "       1, 1, 1, 1, 0, 1, 0, 0, 1, 0, 1, 0, 0, 1, 1, 1, 0, 0, 1, 0, 0, 0,\n",
       "       1, 1, 1, 0, 1, 1, 0, 0, 1, 1, 1, 0, 0, 1, 1, 1, 1, 0, 1, 1, 0, 1,\n",
       "       1, 1, 1, 1, 1, 1, 1, 0, 0, 0, 1, 0, 0, 1, 1, 1, 0, 0, 1, 0, 1, 0,\n",
       "       0, 1, 0, 0, 1, 1, 0, 1, 1, 0, 1, 1, 1, 1, 0, 1, 1, 1, 1, 1, 1, 1,\n",
       "       1, 1, 0, 1, 1, 1, 1, 0, 0, 1, 0, 1, 1, 0, 0, 1, 1, 0, 0, 1, 1, 1,\n",
       "       1, 0, 1, 1, 0, 0, 0, 1, 0, 1, 0, 1, 1, 1, 0, 1, 1, 0, 0, 1, 0, 0,\n",
       "       0, 0, 1, 0, 0, 0, 1, 0, 1, 0, 1, 1, 0, 1, 0, 0, 0, 0, 1, 1, 0, 0,\n",
       "       1, 1, 1, 0, 1, 1, 1, 1, 1, 0, 0, 1, 1, 0, 1, 1, 0, 0, 1, 0, 1, 1,\n",
       "       1, 1, 0, 1, 1, 1, 1, 1, 0, 1, 0, 0, 0, 0, 0, 0, 0, 0, 0, 0, 0, 0,\n",
       "       0, 0, 1, 1, 1, 1, 1, 1, 0, 1, 0, 1, 1, 0, 1, 1, 0, 1, 0, 0, 1, 1,\n",
       "       1, 1, 1, 1, 1, 1, 1, 1, 1, 1, 1, 0, 1, 1, 0, 1, 0, 1, 1, 1, 1, 1,\n",
       "       1, 1, 1, 1, 1, 1, 1, 1, 1, 0, 1, 1, 1, 0, 1, 0, 1, 1, 1, 1, 0, 0,\n",
       "       0, 1, 1, 1, 1, 0, 1, 0, 1, 0, 1, 1, 1, 0, 1, 1, 1, 1, 1, 1, 1, 0,\n",
       "       0, 0, 1, 1, 1, 1, 1, 1, 1, 1, 1, 1, 1, 0, 0, 1, 0, 0, 0, 1, 0, 0,\n",
       "       1, 1, 1, 1, 1, 0, 1, 1, 1, 1, 1, 0, 1, 1, 1, 0, 1, 1, 0, 0, 1, 1,\n",
       "       1, 1, 1, 1, 0, 1, 1, 1, 1, 1, 1, 1, 0, 1, 1, 1, 1, 1, 0, 1, 1, 0,\n",
       "       1, 1, 1, 1, 1, 1, 1, 1, 1, 1, 1, 1, 0, 1, 0, 0, 1, 0, 1, 1, 1, 1,\n",
       "       1, 0, 1, 1, 0, 1, 0, 1, 1, 0, 1, 0, 1, 1, 1, 1, 1, 1, 1, 1, 0, 0,\n",
       "       1, 1, 1, 1, 1, 1, 0, 1, 1, 1, 1, 1, 1, 1, 1, 1, 1, 0, 1, 1, 1, 1,\n",
       "       1, 1, 1, 0, 1, 0, 1, 1, 0, 1, 1, 1, 1, 1, 0, 0, 1, 0, 1, 0, 1, 1,\n",
       "       1, 1, 1, 0, 1, 1, 0, 1, 0, 1, 0, 0, 1, 1, 1, 0, 1, 1, 1, 1, 1, 1,\n",
       "       1, 1, 1, 1, 1, 0, 1, 0, 0, 1, 1, 1, 1, 1, 1, 1, 1, 1, 1, 1, 1, 1,\n",
       "       1, 1, 1, 1, 1, 1, 1, 1, 1, 1, 1, 1, 0, 0, 0, 0, 0, 0, 1])"
      ]
     },
     "execution_count": 6,
     "metadata": {},
     "output_type": "execute_result"
    }
   ],
   "source": [
    "data_bc.target"
   ]
  },
  {
   "cell_type": "code",
   "execution_count": 7,
   "metadata": {
    "executionInfo": {
     "elapsed": 367,
     "status": "ok",
     "timestamp": 1670045670932,
     "user": {
      "displayName": "umar khan",
      "userId": "10949049121784379174"
     },
     "user_tz": -300
    },
    "id": "Ax4aJ_TAVv1U"
   },
   "outputs": [],
   "source": [
    "# split data into train and test datasets\n",
    "\n",
    "from sklearn.model_selection import train_test_split"
   ]
  },
  {
   "cell_type": "code",
   "execution_count": 8,
   "metadata": {
    "executionInfo": {
     "elapsed": 4,
     "status": "ok",
     "timestamp": 1670045762888,
     "user": {
      "displayName": "umar khan",
      "userId": "10949049121784379174"
     },
     "user_tz": -300
    },
    "id": "RJBjZ_hRWGvA"
   },
   "outputs": [],
   "source": [
    "x_train,x_test,y_train,y_test=train_test_split(data_bc.data,data_bc.target,test_size=0.2,random_state=42) # order is important "
   ]
  },
  {
   "cell_type": "code",
   "execution_count": 9,
   "metadata": {
    "executionInfo": {
     "elapsed": 3,
     "status": "ok",
     "timestamp": 1670045831564,
     "user": {
      "displayName": "umar khan",
      "userId": "10949049121784379174"
     },
     "user_tz": -300
    },
    "id": "T9RtRTvcWSXr"
   },
   "outputs": [],
   "source": [
    "m,n=x_train.shape # m number of examples , n number of features"
   ]
  },
  {
   "cell_type": "code",
   "execution_count": 10,
   "metadata": {
    "executionInfo": {
     "elapsed": 375,
     "status": "ok",
     "timestamp": 1670045846275,
     "user": {
      "displayName": "umar khan",
      "userId": "10949049121784379174"
     },
     "user_tz": -300
    },
    "id": "iMffEK7oWTgR"
   },
   "outputs": [],
   "source": [
    "#normalize the data \n",
    "\n",
    "from sklearn.preprocessing import StandardScaler"
   ]
  },
  {
   "cell_type": "code",
   "execution_count": 11,
   "metadata": {
    "executionInfo": {
     "elapsed": 362,
     "status": "ok",
     "timestamp": 1670045913860,
     "user": {
      "displayName": "umar khan",
      "userId": "10949049121784379174"
     },
     "user_tz": -300
    },
    "id": "ld9mDRgkWak0"
   },
   "outputs": [],
   "source": [
    "ss=StandardScaler()\n",
    "\n",
    "x_train=ss.fit_transform(x_train) # parameters are computed as well \n",
    "\n",
    "x_test=ss.transform(x_test) # only transform, using the above found parameters "
   ]
  },
  {
   "cell_type": "code",
   "execution_count": null,
   "metadata": {
    "id": "zmfJkV0IrKBK"
   },
   "outputs": [],
   "source": [
    "# import joblib\n",
    "# joblib.dump(ss,'ss.bin',compress=True)\n",
    "# ss_loaded=joblib.load('ss.bin')\n",
    "# ss_loaded.transform(x_test)"
   ]
  },
  {
   "cell_type": "code",
   "execution_count": 56,
   "metadata": {
    "colab": {
     "base_uri": "https://localhost:8080/"
    },
    "executionInfo": {
     "elapsed": 616,
     "status": "ok",
     "timestamp": 1670048474407,
     "user": {
      "displayName": "umar khan",
      "userId": "10949049121784379174"
     },
     "user_tz": -300
    },
    "id": "F5Z_ZfOMpSTz",
    "outputId": "1ff8d99b-b94e-4a8f-a268-85c702e30f1d"
   },
   "outputs": [
    {
     "name": "stdout",
     "output_type": "stream",
     "text": [
      "30\n"
     ]
    }
   ],
   "source": [
    "n=x_train.shape[1]\n",
    "print(n) # 32 "
   ]
  },
  {
   "cell_type": "code",
   "execution_count": 33,
   "metadata": {
    "colab": {
     "base_uri": "https://localhost:8080/"
    },
    "executionInfo": {
     "elapsed": 373,
     "status": "ok",
     "timestamp": 1670047525130,
     "user": {
      "displayName": "umar khan",
      "userId": "10949049121784379174"
     },
     "user_tz": -300
    },
    "id": "d-OAycZeW3Mq",
    "outputId": "72c96f50-f8d2-446b-fa1b-d2959de7091f"
   },
   "outputs": [
    {
     "name": "stdout",
     "output_type": "stream",
     "text": [
      "Model: \"sequential_2\"\n",
      "_________________________________________________________________\n",
      " Layer (type)                Output Shape              Param #   \n",
      "=================================================================\n",
      " dense_2 (Dense)             (None, 1)                 31        \n",
      "                                                                 \n",
      "=================================================================\n",
      "Total params: 31\n",
      "Trainable params: 31\n",
      "Non-trainable params: 0\n",
      "_________________________________________________________________\n"
     ]
    }
   ],
   "source": [
    "# build model \n",
    "\n",
    "\n",
    "btc=tf.keras.models.Sequential()\n",
    "btc.add(tf.keras.layers.Dense(1,input_shape=(n,),activation='sigmoid')) # input size  -- 1D # m,d\n",
    "\n",
    "btc.compile(optimizer='adam',loss='binary_crossentropy',metrics=['accuracy'])\n",
    "btc.summary()"
   ]
  },
  {
   "cell_type": "code",
   "execution_count": 39,
   "metadata": {
    "colab": {
     "base_uri": "https://localhost:8080/"
    },
    "executionInfo": {
     "elapsed": 10759,
     "status": "ok",
     "timestamp": 1670047670261,
     "user": {
      "displayName": "umar khan",
      "userId": "10949049121784379174"
     },
     "user_tz": -300
    },
    "id": "KzjmSL2EXetK",
    "outputId": "29bd5074-ef25-4856-ab2a-4adeaec0f86e"
   },
   "outputs": [
    {
     "name": "stdout",
     "output_type": "stream",
     "text": [
      "Epoch 1/100\n",
      "15/15 [==============================] - 0s 5ms/step - loss: 0.1002 - accuracy: 0.9802 - val_loss: 0.0812 - val_accuracy: 0.9825\n",
      "Epoch 2/100\n",
      "15/15 [==============================] - 0s 3ms/step - loss: 0.0998 - accuracy: 0.9802 - val_loss: 0.0808 - val_accuracy: 0.9825\n",
      "Epoch 3/100\n",
      "15/15 [==============================] - 0s 4ms/step - loss: 0.0992 - accuracy: 0.9802 - val_loss: 0.0804 - val_accuracy: 0.9825\n",
      "Epoch 4/100\n",
      "15/15 [==============================] - 0s 3ms/step - loss: 0.0988 - accuracy: 0.9802 - val_loss: 0.0799 - val_accuracy: 0.9825\n",
      "Epoch 5/100\n",
      "15/15 [==============================] - 0s 4ms/step - loss: 0.0983 - accuracy: 0.9802 - val_loss: 0.0794 - val_accuracy: 0.9825\n",
      "Epoch 6/100\n",
      "15/15 [==============================] - 0s 4ms/step - loss: 0.0978 - accuracy: 0.9802 - val_loss: 0.0789 - val_accuracy: 0.9825\n",
      "Epoch 7/100\n",
      "15/15 [==============================] - 0s 4ms/step - loss: 0.0974 - accuracy: 0.9802 - val_loss: 0.0785 - val_accuracy: 0.9825\n",
      "Epoch 8/100\n",
      "15/15 [==============================] - 0s 4ms/step - loss: 0.0969 - accuracy: 0.9802 - val_loss: 0.0781 - val_accuracy: 0.9825\n",
      "Epoch 9/100\n",
      "15/15 [==============================] - 0s 4ms/step - loss: 0.0965 - accuracy: 0.9802 - val_loss: 0.0777 - val_accuracy: 0.9825\n",
      "Epoch 10/100\n",
      "15/15 [==============================] - 0s 3ms/step - loss: 0.0961 - accuracy: 0.9824 - val_loss: 0.0772 - val_accuracy: 0.9825\n",
      "Epoch 11/100\n",
      "15/15 [==============================] - 0s 5ms/step - loss: 0.0957 - accuracy: 0.9824 - val_loss: 0.0768 - val_accuracy: 0.9825\n",
      "Epoch 12/100\n",
      "15/15 [==============================] - 0s 5ms/step - loss: 0.0953 - accuracy: 0.9824 - val_loss: 0.0767 - val_accuracy: 0.9825\n",
      "Epoch 13/100\n",
      "15/15 [==============================] - 0s 4ms/step - loss: 0.0949 - accuracy: 0.9824 - val_loss: 0.0764 - val_accuracy: 0.9825\n",
      "Epoch 14/100\n",
      "15/15 [==============================] - 0s 4ms/step - loss: 0.0946 - accuracy: 0.9824 - val_loss: 0.0759 - val_accuracy: 0.9825\n",
      "Epoch 15/100\n",
      "15/15 [==============================] - 0s 3ms/step - loss: 0.0942 - accuracy: 0.9824 - val_loss: 0.0756 - val_accuracy: 0.9825\n",
      "Epoch 16/100\n",
      "15/15 [==============================] - 0s 3ms/step - loss: 0.0938 - accuracy: 0.9824 - val_loss: 0.0753 - val_accuracy: 0.9825\n",
      "Epoch 17/100\n",
      "15/15 [==============================] - 0s 3ms/step - loss: 0.0935 - accuracy: 0.9824 - val_loss: 0.0750 - val_accuracy: 0.9825\n",
      "Epoch 18/100\n",
      "15/15 [==============================] - 0s 3ms/step - loss: 0.0931 - accuracy: 0.9824 - val_loss: 0.0746 - val_accuracy: 0.9825\n",
      "Epoch 19/100\n",
      "15/15 [==============================] - 0s 5ms/step - loss: 0.0927 - accuracy: 0.9824 - val_loss: 0.0742 - val_accuracy: 0.9825\n",
      "Epoch 20/100\n",
      "15/15 [==============================] - 0s 3ms/step - loss: 0.0924 - accuracy: 0.9824 - val_loss: 0.0740 - val_accuracy: 0.9825\n",
      "Epoch 21/100\n",
      "15/15 [==============================] - 0s 5ms/step - loss: 0.0920 - accuracy: 0.9824 - val_loss: 0.0735 - val_accuracy: 0.9825\n",
      "Epoch 22/100\n",
      "15/15 [==============================] - 0s 5ms/step - loss: 0.0917 - accuracy: 0.9824 - val_loss: 0.0731 - val_accuracy: 0.9825\n",
      "Epoch 23/100\n",
      "15/15 [==============================] - 0s 4ms/step - loss: 0.0913 - accuracy: 0.9824 - val_loss: 0.0728 - val_accuracy: 0.9825\n",
      "Epoch 24/100\n",
      "15/15 [==============================] - 0s 4ms/step - loss: 0.0910 - accuracy: 0.9824 - val_loss: 0.0728 - val_accuracy: 0.9825\n",
      "Epoch 25/100\n",
      "15/15 [==============================] - 0s 3ms/step - loss: 0.0906 - accuracy: 0.9824 - val_loss: 0.0727 - val_accuracy: 0.9825\n",
      "Epoch 26/100\n",
      "15/15 [==============================] - 0s 3ms/step - loss: 0.0903 - accuracy: 0.9824 - val_loss: 0.0724 - val_accuracy: 0.9825\n",
      "Epoch 27/100\n",
      "15/15 [==============================] - 0s 3ms/step - loss: 0.0900 - accuracy: 0.9824 - val_loss: 0.0722 - val_accuracy: 0.9825\n",
      "Epoch 28/100\n",
      "15/15 [==============================] - 0s 3ms/step - loss: 0.0896 - accuracy: 0.9824 - val_loss: 0.0717 - val_accuracy: 0.9825\n",
      "Epoch 29/100\n",
      "15/15 [==============================] - 0s 4ms/step - loss: 0.0893 - accuracy: 0.9824 - val_loss: 0.0715 - val_accuracy: 0.9825\n",
      "Epoch 30/100\n",
      "15/15 [==============================] - 0s 3ms/step - loss: 0.0890 - accuracy: 0.9824 - val_loss: 0.0712 - val_accuracy: 0.9825\n",
      "Epoch 31/100\n",
      "15/15 [==============================] - 0s 4ms/step - loss: 0.0887 - accuracy: 0.9824 - val_loss: 0.0709 - val_accuracy: 0.9825\n",
      "Epoch 32/100\n",
      "15/15 [==============================] - 0s 3ms/step - loss: 0.0884 - accuracy: 0.9824 - val_loss: 0.0706 - val_accuracy: 0.9825\n",
      "Epoch 33/100\n",
      "15/15 [==============================] - 0s 5ms/step - loss: 0.0880 - accuracy: 0.9824 - val_loss: 0.0703 - val_accuracy: 0.9825\n",
      "Epoch 34/100\n",
      "15/15 [==============================] - 0s 3ms/step - loss: 0.0877 - accuracy: 0.9824 - val_loss: 0.0702 - val_accuracy: 0.9825\n",
      "Epoch 35/100\n",
      "15/15 [==============================] - 0s 3ms/step - loss: 0.0875 - accuracy: 0.9824 - val_loss: 0.0701 - val_accuracy: 0.9825\n",
      "Epoch 36/100\n",
      "15/15 [==============================] - 0s 3ms/step - loss: 0.0871 - accuracy: 0.9824 - val_loss: 0.0698 - val_accuracy: 0.9825\n",
      "Epoch 37/100\n",
      "15/15 [==============================] - 0s 3ms/step - loss: 0.0869 - accuracy: 0.9824 - val_loss: 0.0696 - val_accuracy: 0.9825\n",
      "Epoch 38/100\n",
      "15/15 [==============================] - 0s 4ms/step - loss: 0.0865 - accuracy: 0.9824 - val_loss: 0.0693 - val_accuracy: 0.9825\n",
      "Epoch 39/100\n",
      "15/15 [==============================] - 0s 5ms/step - loss: 0.0863 - accuracy: 0.9824 - val_loss: 0.0689 - val_accuracy: 0.9825\n",
      "Epoch 40/100\n",
      "15/15 [==============================] - 0s 3ms/step - loss: 0.0860 - accuracy: 0.9824 - val_loss: 0.0688 - val_accuracy: 0.9825\n",
      "Epoch 41/100\n",
      "15/15 [==============================] - 0s 4ms/step - loss: 0.0857 - accuracy: 0.9824 - val_loss: 0.0686 - val_accuracy: 0.9825\n",
      "Epoch 42/100\n",
      "15/15 [==============================] - 0s 4ms/step - loss: 0.0854 - accuracy: 0.9824 - val_loss: 0.0684 - val_accuracy: 0.9825\n",
      "Epoch 43/100\n",
      "15/15 [==============================] - 0s 4ms/step - loss: 0.0851 - accuracy: 0.9824 - val_loss: 0.0681 - val_accuracy: 0.9825\n",
      "Epoch 44/100\n",
      "15/15 [==============================] - 0s 3ms/step - loss: 0.0849 - accuracy: 0.9824 - val_loss: 0.0679 - val_accuracy: 0.9825\n",
      "Epoch 45/100\n",
      "15/15 [==============================] - 0s 5ms/step - loss: 0.0846 - accuracy: 0.9824 - val_loss: 0.0676 - val_accuracy: 0.9825\n",
      "Epoch 46/100\n",
      "15/15 [==============================] - 0s 3ms/step - loss: 0.0843 - accuracy: 0.9824 - val_loss: 0.0674 - val_accuracy: 0.9825\n",
      "Epoch 47/100\n",
      "15/15 [==============================] - 0s 3ms/step - loss: 0.0841 - accuracy: 0.9824 - val_loss: 0.0672 - val_accuracy: 0.9825\n",
      "Epoch 48/100\n",
      "15/15 [==============================] - 0s 3ms/step - loss: 0.0838 - accuracy: 0.9824 - val_loss: 0.0670 - val_accuracy: 0.9825\n",
      "Epoch 49/100\n",
      "15/15 [==============================] - 0s 3ms/step - loss: 0.0835 - accuracy: 0.9824 - val_loss: 0.0669 - val_accuracy: 0.9825\n",
      "Epoch 50/100\n",
      "15/15 [==============================] - 0s 3ms/step - loss: 0.0833 - accuracy: 0.9824 - val_loss: 0.0667 - val_accuracy: 0.9825\n",
      "Epoch 51/100\n",
      "15/15 [==============================] - 0s 5ms/step - loss: 0.0830 - accuracy: 0.9824 - val_loss: 0.0665 - val_accuracy: 0.9825\n",
      "Epoch 52/100\n",
      "15/15 [==============================] - 0s 4ms/step - loss: 0.0828 - accuracy: 0.9824 - val_loss: 0.0666 - val_accuracy: 0.9825\n",
      "Epoch 53/100\n",
      "15/15 [==============================] - 0s 4ms/step - loss: 0.0825 - accuracy: 0.9824 - val_loss: 0.0664 - val_accuracy: 0.9825\n",
      "Epoch 54/100\n",
      "15/15 [==============================] - 0s 3ms/step - loss: 0.0823 - accuracy: 0.9824 - val_loss: 0.0661 - val_accuracy: 0.9825\n",
      "Epoch 55/100\n",
      "15/15 [==============================] - 0s 5ms/step - loss: 0.0820 - accuracy: 0.9824 - val_loss: 0.0658 - val_accuracy: 0.9825\n",
      "Epoch 56/100\n",
      "15/15 [==============================] - 0s 3ms/step - loss: 0.0818 - accuracy: 0.9824 - val_loss: 0.0656 - val_accuracy: 0.9825\n",
      "Epoch 57/100\n",
      "15/15 [==============================] - 0s 3ms/step - loss: 0.0816 - accuracy: 0.9824 - val_loss: 0.0654 - val_accuracy: 0.9825\n",
      "Epoch 58/100\n",
      "15/15 [==============================] - 0s 3ms/step - loss: 0.0813 - accuracy: 0.9824 - val_loss: 0.0652 - val_accuracy: 0.9825\n",
      "Epoch 59/100\n",
      "15/15 [==============================] - 0s 3ms/step - loss: 0.0811 - accuracy: 0.9824 - val_loss: 0.0653 - val_accuracy: 0.9825\n",
      "Epoch 60/100\n",
      "15/15 [==============================] - 0s 4ms/step - loss: 0.0808 - accuracy: 0.9824 - val_loss: 0.0651 - val_accuracy: 0.9825\n",
      "Epoch 61/100\n",
      "15/15 [==============================] - 0s 4ms/step - loss: 0.0806 - accuracy: 0.9824 - val_loss: 0.0649 - val_accuracy: 0.9825\n",
      "Epoch 62/100\n",
      "15/15 [==============================] - 0s 3ms/step - loss: 0.0804 - accuracy: 0.9824 - val_loss: 0.0647 - val_accuracy: 0.9825\n",
      "Epoch 63/100\n",
      "15/15 [==============================] - 0s 4ms/step - loss: 0.0802 - accuracy: 0.9824 - val_loss: 0.0645 - val_accuracy: 0.9825\n",
      "Epoch 64/100\n",
      "15/15 [==============================] - 0s 4ms/step - loss: 0.0800 - accuracy: 0.9824 - val_loss: 0.0644 - val_accuracy: 0.9825\n",
      "Epoch 65/100\n",
      "15/15 [==============================] - 0s 3ms/step - loss: 0.0797 - accuracy: 0.9824 - val_loss: 0.0641 - val_accuracy: 0.9825\n",
      "Epoch 66/100\n",
      "15/15 [==============================] - 0s 5ms/step - loss: 0.0795 - accuracy: 0.9824 - val_loss: 0.0639 - val_accuracy: 0.9825\n",
      "Epoch 67/100\n",
      "15/15 [==============================] - 0s 5ms/step - loss: 0.0793 - accuracy: 0.9824 - val_loss: 0.0637 - val_accuracy: 0.9825\n",
      "Epoch 68/100\n",
      "15/15 [==============================] - 0s 4ms/step - loss: 0.0791 - accuracy: 0.9824 - val_loss: 0.0636 - val_accuracy: 0.9912\n",
      "Epoch 69/100\n",
      "15/15 [==============================] - 0s 4ms/step - loss: 0.0789 - accuracy: 0.9824 - val_loss: 0.0634 - val_accuracy: 0.9825\n",
      "Epoch 70/100\n",
      "15/15 [==============================] - 0s 4ms/step - loss: 0.0787 - accuracy: 0.9824 - val_loss: 0.0635 - val_accuracy: 0.9825\n",
      "Epoch 71/100\n",
      "15/15 [==============================] - 0s 5ms/step - loss: 0.0785 - accuracy: 0.9824 - val_loss: 0.0633 - val_accuracy: 0.9912\n",
      "Epoch 72/100\n",
      "15/15 [==============================] - 0s 5ms/step - loss: 0.0783 - accuracy: 0.9824 - val_loss: 0.0631 - val_accuracy: 0.9912\n",
      "Epoch 73/100\n",
      "15/15 [==============================] - 0s 7ms/step - loss: 0.0781 - accuracy: 0.9824 - val_loss: 0.0629 - val_accuracy: 0.9912\n",
      "Epoch 74/100\n",
      "15/15 [==============================] - 0s 6ms/step - loss: 0.0779 - accuracy: 0.9824 - val_loss: 0.0628 - val_accuracy: 0.9912\n",
      "Epoch 75/100\n",
      "15/15 [==============================] - 0s 6ms/step - loss: 0.0777 - accuracy: 0.9824 - val_loss: 0.0627 - val_accuracy: 0.9912\n",
      "Epoch 76/100\n",
      "15/15 [==============================] - 0s 5ms/step - loss: 0.0775 - accuracy: 0.9824 - val_loss: 0.0625 - val_accuracy: 0.9912\n",
      "Epoch 77/100\n",
      "15/15 [==============================] - 0s 6ms/step - loss: 0.0773 - accuracy: 0.9824 - val_loss: 0.0624 - val_accuracy: 0.9912\n",
      "Epoch 78/100\n",
      "15/15 [==============================] - 0s 6ms/step - loss: 0.0771 - accuracy: 0.9824 - val_loss: 0.0622 - val_accuracy: 0.9912\n",
      "Epoch 79/100\n",
      "15/15 [==============================] - 0s 7ms/step - loss: 0.0769 - accuracy: 0.9824 - val_loss: 0.0622 - val_accuracy: 0.9825\n",
      "Epoch 80/100\n",
      "15/15 [==============================] - 0s 8ms/step - loss: 0.0767 - accuracy: 0.9824 - val_loss: 0.0623 - val_accuracy: 0.9825\n",
      "Epoch 81/100\n",
      "15/15 [==============================] - 0s 5ms/step - loss: 0.0765 - accuracy: 0.9824 - val_loss: 0.0622 - val_accuracy: 0.9825\n",
      "Epoch 82/100\n",
      "15/15 [==============================] - 0s 5ms/step - loss: 0.0763 - accuracy: 0.9824 - val_loss: 0.0621 - val_accuracy: 0.9825\n",
      "Epoch 83/100\n",
      "15/15 [==============================] - 0s 6ms/step - loss: 0.0762 - accuracy: 0.9824 - val_loss: 0.0621 - val_accuracy: 0.9825\n",
      "Epoch 84/100\n",
      "15/15 [==============================] - 0s 5ms/step - loss: 0.0761 - accuracy: 0.9824 - val_loss: 0.0620 - val_accuracy: 0.9912\n",
      "Epoch 85/100\n",
      "15/15 [==============================] - 0s 5ms/step - loss: 0.0758 - accuracy: 0.9824 - val_loss: 0.0619 - val_accuracy: 0.9825\n",
      "Epoch 86/100\n",
      "15/15 [==============================] - 0s 6ms/step - loss: 0.0756 - accuracy: 0.9824 - val_loss: 0.0617 - val_accuracy: 0.9912\n",
      "Epoch 87/100\n",
      "15/15 [==============================] - 0s 6ms/step - loss: 0.0755 - accuracy: 0.9824 - val_loss: 0.0616 - val_accuracy: 0.9825\n",
      "Epoch 88/100\n",
      "15/15 [==============================] - 0s 6ms/step - loss: 0.0753 - accuracy: 0.9824 - val_loss: 0.0614 - val_accuracy: 0.9825\n",
      "Epoch 89/100\n",
      "15/15 [==============================] - 0s 6ms/step - loss: 0.0751 - accuracy: 0.9824 - val_loss: 0.0613 - val_accuracy: 0.9912\n",
      "Epoch 90/100\n",
      "15/15 [==============================] - 0s 5ms/step - loss: 0.0749 - accuracy: 0.9824 - val_loss: 0.0612 - val_accuracy: 0.9912\n",
      "Epoch 91/100\n",
      "15/15 [==============================] - 0s 6ms/step - loss: 0.0747 - accuracy: 0.9824 - val_loss: 0.0612 - val_accuracy: 0.9912\n",
      "Epoch 92/100\n",
      "15/15 [==============================] - 0s 6ms/step - loss: 0.0746 - accuracy: 0.9824 - val_loss: 0.0611 - val_accuracy: 0.9825\n",
      "Epoch 93/100\n",
      "15/15 [==============================] - 0s 6ms/step - loss: 0.0744 - accuracy: 0.9824 - val_loss: 0.0608 - val_accuracy: 0.9912\n",
      "Epoch 94/100\n",
      "15/15 [==============================] - 0s 6ms/step - loss: 0.0742 - accuracy: 0.9824 - val_loss: 0.0609 - val_accuracy: 0.9912\n",
      "Epoch 95/100\n",
      "15/15 [==============================] - 0s 5ms/step - loss: 0.0740 - accuracy: 0.9824 - val_loss: 0.0608 - val_accuracy: 0.9825\n",
      "Epoch 96/100\n",
      "15/15 [==============================] - 0s 6ms/step - loss: 0.0739 - accuracy: 0.9824 - val_loss: 0.0607 - val_accuracy: 0.9825\n",
      "Epoch 97/100\n",
      "15/15 [==============================] - 0s 7ms/step - loss: 0.0737 - accuracy: 0.9824 - val_loss: 0.0607 - val_accuracy: 0.9825\n",
      "Epoch 98/100\n",
      "15/15 [==============================] - 0s 5ms/step - loss: 0.0736 - accuracy: 0.9824 - val_loss: 0.0605 - val_accuracy: 0.9825\n",
      "Epoch 99/100\n",
      "15/15 [==============================] - 0s 6ms/step - loss: 0.0735 - accuracy: 0.9824 - val_loss: 0.0605 - val_accuracy: 0.9825\n",
      "Epoch 100/100\n",
      "15/15 [==============================] - 0s 6ms/step - loss: 0.0733 - accuracy: 0.9824 - val_loss: 0.0604 - val_accuracy: 0.9825\n"
     ]
    }
   ],
   "source": [
    "btc_hist=btc.fit(x_train,y_train,validation_data=(x_test,y_test),epochs=100,verbose=1) # time involved \n"
   ]
  },
  {
   "cell_type": "code",
   "execution_count": 40,
   "metadata": {
    "colab": {
     "base_uri": "https://localhost:8080/"
    },
    "executionInfo": {
     "elapsed": 5,
     "status": "ok",
     "timestamp": 1670047670262,
     "user": {
      "displayName": "umar khan",
      "userId": "10949049121784379174"
     },
     "user_tz": -300
    },
    "id": "NP6TFFA6X2Uy",
    "outputId": "650425c1-60ce-4985-c8e0-5d6913c4f2d6"
   },
   "outputs": [
    {
     "name": "stdout",
     "output_type": "stream",
     "text": [
      "['loss', 'accuracy']\n",
      "[0.07313398271799088, 0.9824175834655762]\n",
      "[0.060397919267416, 0.9824561476707458]\n"
     ]
    }
   ],
   "source": [
    "print(btc.metrics_names)\n",
    "print(btc.evaluate(x_train,y_train,verbose=0))\n",
    "print(btc.evaluate(x_test,y_test,verbose=0))"
   ]
  },
  {
   "cell_type": "code",
   "execution_count": 41,
   "metadata": {
    "executionInfo": {
     "elapsed": 1,
     "status": "ok",
     "timestamp": 1670047670663,
     "user": {
      "displayName": "umar khan",
      "userId": "10949049121784379174"
     },
     "user_tz": -300
    },
    "id": "MUBRkbyLYY1X"
   },
   "outputs": [],
   "source": [
    "# visualize loss and accuracy \n",
    "\n",
    "import matplotlib.pyplot as plt"
   ]
  },
  {
   "cell_type": "code",
   "execution_count": 42,
   "metadata": {
    "colab": {
     "base_uri": "https://localhost:8080/"
    },
    "executionInfo": {
     "elapsed": 3,
     "status": "ok",
     "timestamp": 1670047671054,
     "user": {
      "displayName": "umar khan",
      "userId": "10949049121784379174"
     },
     "user_tz": -300
    },
    "id": "wPb7d4QFlPWZ",
    "outputId": "9d0de9b7-b1db-42f1-ae1f-cd4992a910bc"
   },
   "outputs": [
    {
     "data": {
      "text/plain": [
       "dict_keys(['loss', 'accuracy', 'val_loss', 'val_accuracy'])"
      ]
     },
     "execution_count": 42,
     "metadata": {},
     "output_type": "execute_result"
    }
   ],
   "source": [
    "btc_hist.history.keys()"
   ]
  },
  {
   "cell_type": "code",
   "execution_count": 43,
   "metadata": {
    "colab": {
     "base_uri": "https://localhost:8080/",
     "height": 265
    },
    "executionInfo": {
     "elapsed": 459,
     "status": "ok",
     "timestamp": 1670047678251,
     "user": {
      "displayName": "umar khan",
      "userId": "10949049121784379174"
     },
     "user_tz": -300
    },
    "id": "LlmxdmUiYiR3",
    "outputId": "c151a8a9-b7a8-4438-cde7-36c0a7c1413e"
   },
   "outputs": [
    {
     "data": {
      "image/png": "[encoded data removed]",
      "text/plain": [
       "<Figure size 432x288 with 1 Axes>"
      ]
     },
     "metadata": {
      "needs_background": "light"
     },
     "output_type": "display_data"
    }
   ],
   "source": [
    "plt.plot(btc_hist.history['loss'],label='Loss')\n",
    "plt.plot(btc_hist.history['val_loss'],label='Val_Loss')\n",
    "plt.legend()\n",
    "plt.show()"
   ]
  },
  {
   "cell_type": "code",
   "execution_count": null,
   "metadata": {
    "colab": {
     "base_uri": "https://localhost:8080/",
     "height": 265
    },
    "executionInfo": {
     "elapsed": 12,
     "status": "ok",
     "timestamp": 1669994244288,
     "user": {
      "displayName": "umar khan",
      "userId": "10949049121784379174"
     },
     "user_tz": -300
    },
    "id": "l7M0v99EYmbY",
    "outputId": "42c30792-4a16-4ab2-c5d1-da9e995b65af"
   },
   "outputs": [
    {
     "data": {
      "image/png": "[encoded data removed]",
      "text/plain": [
       "<Figure size 432x288 with 1 Axes>"
      ]
     },
     "metadata": {
      "needs_background": "light"
     },
     "output_type": "display_data"
    }
   ],
   "source": [
    "plt.plot(btc_hist.history['accuracy'],label='Accuracy')\n",
    "plt.plot(btc_hist.history['val_accuracy'],label='Val_Accuracy')\n",
    "plt.legend()\n",
    "plt.show()"
   ]
  },
  {
   "cell_type": "code",
   "execution_count": 44,
   "metadata": {
    "executionInfo": {
     "elapsed": 371,
     "status": "ok",
     "timestamp": 1670047721820,
     "user": {
      "displayName": "umar khan",
      "userId": "10949049121784379174"
     },
     "user_tz": -300
    },
    "id": "BFcEpmomZwib"
   },
   "outputs": [],
   "source": [
    "# make predictions "
   ]
  },
  {
   "cell_type": "code",
   "execution_count": 47,
   "metadata": {
    "colab": {
     "base_uri": "https://localhost:8080/"
    },
    "executionInfo": {
     "elapsed": 6,
     "status": "ok",
     "timestamp": 1670047851760,
     "user": {
      "displayName": "umar khan",
      "userId": "10949049121784379174"
     },
     "user_tz": -300
    },
    "id": "JXaewbLKaxaU",
    "outputId": "56394aee-ba15-44a6-abe7-e437f7e0b312"
   },
   "outputs": [
    {
     "name": "stdout",
     "output_type": "stream",
     "text": [
      "(30,)\n",
      "(1, 30)\n",
      "0\n"
     ]
    }
   ],
   "source": [
    "x=x_test[20]\n",
    "print(x.shape)\n",
    "x=x.reshape(1,-1) \n",
    "print(x.shape)\n",
    "\n",
    "\n",
    "y=y_test[20]\n",
    "print(y)"
   ]
  },
  {
   "cell_type": "code",
   "execution_count": 48,
   "metadata": {
    "executionInfo": {
     "elapsed": 356,
     "status": "ok",
     "timestamp": 1670047924494,
     "user": {
      "displayName": "umar khan",
      "userId": "10949049121784379174"
     },
     "user_tz": -300
    },
    "id": "KdBDQfffaydE"
   },
   "outputs": [],
   "source": [
    "pred_prob=btc.predict(x,verbose=0)  # returns probability of class being 1"
   ]
  },
  {
   "cell_type": "code",
   "execution_count": 49,
   "metadata": {
    "colab": {
     "base_uri": "https://localhost:8080/"
    },
    "executionInfo": {
     "elapsed": 366,
     "status": "ok",
     "timestamp": 1670047932044,
     "user": {
      "displayName": "umar khan",
      "userId": "10949049121784379174"
     },
     "user_tz": -300
    },
    "id": "ZQmu649ja_My",
    "outputId": "22c3184a-d172-43a1-aff3-99aff39c33a4"
   },
   "outputs": [
    {
     "name": "stdout",
     "output_type": "stream",
     "text": [
      "Class 1\n"
     ]
    }
   ],
   "source": [
    "if pred_prob[0][0]<0.5:\n",
    "  print('Class 0')\n",
    "else:\n",
    "  print('Class 1')"
   ]
  },
  {
   "cell_type": "code",
   "execution_count": 50,
   "metadata": {
    "colab": {
     "base_uri": "https://localhost:8080/"
    },
    "executionInfo": {
     "elapsed": 369,
     "status": "ok",
     "timestamp": 1670047936439,
     "user": {
      "displayName": "umar khan",
      "userId": "10949049121784379174"
     },
     "user_tz": -300
    },
    "id": "dasYi9jvbXSm",
    "outputId": "87154cff-1456-41ee-97fb-e1b2cadee6d9"
   },
   "outputs": [
    {
     "data": {
      "text/plain": [
       "array([[0.85030395]], dtype=float32)"
      ]
     },
     "execution_count": 50,
     "metadata": {},
     "output_type": "execute_result"
    }
   ],
   "source": [
    "pred_prob"
   ]
  },
  {
   "cell_type": "code",
   "execution_count": null,
   "metadata": {
    "id": "61U_B1EeboLG"
   },
   "outputs": [],
   "source": []
  }
 ],
 "metadata": {
  "colab": {
   "authorship_tag": "ABX9TyOFewszTJPPkSq/wuxTvlcy",
   "provenance": []
  },
  "kernelspec": {
   "display_name": "Python 3 (ipykernel)",
   "language": "python",
   "name": "python3"
  },
  "language_info": {
   "codemirror_mode": {
    "name": "ipython",
    "version": 3
   },
   "file_extension": ".py",
   "mimetype": "text/x-python",
   "name": "python",
   "nbconvert_exporter": "python",
   "pygments_lexer": "ipython3",
   "version": "3.11.3"
  }
 },
 "nbformat": 4,
 "nbformat_minor": 1
}
