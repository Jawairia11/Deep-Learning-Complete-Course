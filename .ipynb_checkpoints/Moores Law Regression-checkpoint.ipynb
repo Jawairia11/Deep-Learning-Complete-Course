{
 "cells": [
  {
   "cell_type": "code",
   "execution_count": 1,
   "metadata": {
    "colab": {
     "base_uri": "https://localhost:8080/"
    },
    "executionInfo": {
     "elapsed": 3454,
     "status": "ok",
     "timestamp": 1670052025002,
     "user": {
      "displayName": "umar khan",
      "userId": "10949049121784379174"
     },
     "user_tz": -300
    },
    "id": "xmIXNRDriHCA",
    "outputId": "3dd19f81-8d7f-41c2-feb7-05cf287cfc23"
   },
   "outputs": [
    {
     "name": "stdout",
     "output_type": "stream",
     "text": [
      "2.9.2\n"
     ]
    }
   ],
   "source": [
    "import tensorflow as tf\n",
    "print(tf.__version__)"
   ]
  },
  {
   "cell_type": "code",
   "execution_count": 2,
   "metadata": {
    "executionInfo": {
     "elapsed": 8,
     "status": "ok",
     "timestamp": 1670052025003,
     "user": {
      "displayName": "umar khan",
      "userId": "10949049121784379174"
     },
     "user_tz": -300
    },
    "id": "XkpmyJ7kiw41"
   },
   "outputs": [],
   "source": [
    "import pandas as pd\n",
    "import numpy as np\n",
    "import matplotlib.pyplot as plt"
   ]
  },
  {
   "cell_type": "code",
   "execution_count": 3,
   "metadata": {
    "colab": {
     "base_uri": "https://localhost:8080/",
     "height": 223
    },
    "executionInfo": {
     "elapsed": 378,
     "status": "ok",
     "timestamp": 1670052025374,
     "user": {
      "displayName": "umar khan",
      "userId": "10949049121784379174"
     },
     "user_tz": -300
    },
    "id": "w5NrNX4sjPfD",
    "outputId": "46b8ffb3-3add-4509-a720-1cea68ff7481"
   },
   "outputs": [
    {
     "name": "stdout",
     "output_type": "stream",
     "text": [
      "(162, 2)\n"
     ]
    },
    {
     "data": {
      "text/html": [
       "\n",
       "  <div id=\"df-8b62a069-89de-43da-ad12-5d2911067880\">\n",
       "    <div class=\"colab-df-container\">\n",
       "      <div>\n",
       "<style scoped>\n",
       "    .dataframe tbody tr th:only-of-type {\n",
       "        vertical-align: middle;\n",
       "    }\n",
       "\n",
       "    .dataframe tbody tr th {\n",
       "        vertical-align: top;\n",
       "    }\n",
       "\n",
       "    .dataframe thead th {\n",
       "        text-align: right;\n",
       "    }\n",
       "</style>\n",
       "<table border=\"1\" class=\"dataframe\">\n",
       "  <thead>\n",
       "    <tr style=\"text-align: right;\">\n",
       "      <th></th>\n",
       "      <th>0</th>\n",
       "      <th>1</th>\n",
       "    </tr>\n",
       "  </thead>\n",
       "  <tbody>\n",
       "    <tr>\n",
       "      <th>0</th>\n",
       "      <td>1971</td>\n",
       "      <td>2300</td>\n",
       "    </tr>\n",
       "    <tr>\n",
       "      <th>1</th>\n",
       "      <td>1972</td>\n",
       "      <td>3500</td>\n",
       "    </tr>\n",
       "    <tr>\n",
       "      <th>2</th>\n",
       "      <td>1973</td>\n",
       "      <td>2500</td>\n",
       "    </tr>\n",
       "    <tr>\n",
       "      <th>3</th>\n",
       "      <td>1973</td>\n",
       "      <td>2500</td>\n",
       "    </tr>\n",
       "    <tr>\n",
       "      <th>4</th>\n",
       "      <td>1974</td>\n",
       "      <td>4100</td>\n",
       "    </tr>\n",
       "  </tbody>\n",
       "</table>\n",
       "</div>\n",
       "      <button class=\"colab-df-convert\" onclick=\"convertToInteractive('df-8b62a069-89de-43da-ad12-5d2911067880')\"\n",
       "              title=\"Convert this dataframe to an interactive table.\"\n",
       "              style=\"display:none;\">\n",
       "        \n",
       "  <svg xmlns=\"http://www.w3.org/2000/svg\" height=\"24px\"viewBox=\"0 0 24 24\"\n",
       "       width=\"24px\">\n",
       "    <path d=\"M0 0h24v24H0V0z\" fill=\"none\"/>\n",
       "    <path d=\"M18.56 5.44l.94 2.06.94-2.06 2.06-.94-2.06-.94-.94-2.06-.94 2.06-2.06.94zm-11 1L8.5 8.5l.94-2.06 2.06-.94-2.06-.94L8.5 2.5l-.94 2.06-2.06.94zm10 10l.94 2.06.94-2.06 2.06-.94-2.06-.94-.94-2.06-.94 2.06-2.06.94z\"/><path d=\"M17.41 7.96l-1.37-1.37c-.4-.4-.92-.59-1.43-.59-.52 0-1.04.2-1.43.59L10.3 9.45l-7.72 7.72c-.78.78-.78 2.05 0 2.83L4 21.41c.39.39.9.59 1.41.59.51 0 1.02-.2 1.41-.59l7.78-7.78 2.81-2.81c.8-.78.8-2.07 0-2.86zM5.41 20L4 18.59l7.72-7.72 1.47 1.35L5.41 20z\"/>\n",
       "  </svg>\n",
       "      </button>\n",
       "      \n",
       "  <style>\n",
       "    .colab-df-container {\n",
       "      display:flex;\n",
       "      flex-wrap:wrap;\n",
       "      gap: 12px;\n",
       "    }\n",
       "\n",
       "    .colab-df-convert {\n",
       "      background-color: #E8F0FE;\n",
       "      border: none;\n",
       "      border-radius: 50%;\n",
       "      cursor: pointer;\n",
       "      display: none;\n",
       "      fill: #1967D2;\n",
       "      height: 32px;\n",
       "      padding: 0 0 0 0;\n",
       "      width: 32px;\n",
       "    }\n",
       "\n",
       "    .colab-df-convert:hover {\n",
       "      background-color: #E2EBFA;\n",
       "      box-shadow: 0px 1px 2px rgba(60, 64, 67, 0.3), 0px 1px 3px 1px rgba(60, 64, 67, 0.15);\n",
       "      fill: #174EA6;\n",
       "    }\n",
       "\n",
       "    [theme=dark] .colab-df-convert {\n",
       "      background-color: #3B4455;\n",
       "      fill: #D2E3FC;\n",
       "    }\n",
       "\n",
       "    [theme=dark] .colab-df-convert:hover {\n",
       "      background-color: #434B5C;\n",
       "      box-shadow: 0px 1px 3px 1px rgba(0, 0, 0, 0.15);\n",
       "      filter: drop-shadow(0px 1px 2px rgba(0, 0, 0, 0.3));\n",
       "      fill: #FFFFFF;\n",
       "    }\n",
       "  </style>\n",
       "\n",
       "      <script>\n",
       "        const buttonEl =\n",
       "          document.querySelector('#df-8b62a069-89de-43da-ad12-5d2911067880 button.colab-df-convert');\n",
       "        buttonEl.style.display =\n",
       "          google.colab.kernel.accessAllowed ? 'block' : 'none';\n",
       "\n",
       "        async function convertToInteractive(key) {\n",
       "          const element = document.querySelector('#df-8b62a069-89de-43da-ad12-5d2911067880');\n",
       "          const dataTable =\n",
       "            await google.colab.kernel.invokeFunction('convertToInteractive',\n",
       "                                                     [key], {});\n",
       "          if (!dataTable) return;\n",
       "\n",
       "          const docLinkHtml = 'Like what you see? Visit the ' +\n",
       "            '<a target=\"_blank\" href=https://colab.research.google.com/notebooks/data_table.ipynb>data table notebook</a>'\n",
       "            + ' to learn more about interactive tables.';\n",
       "          element.innerHTML = '';\n",
       "          dataTable['output_type'] = 'display_data';\n",
       "          await google.colab.output.renderOutput(dataTable, element);\n",
       "          const docLink = document.createElement('div');\n",
       "          docLink.innerHTML = docLinkHtml;\n",
       "          element.appendChild(docLink);\n",
       "        }\n",
       "      </script>\n",
       "    </div>\n",
       "  </div>\n",
       "  "
      ],
      "text/plain": [
       "      0     1\n",
       "0  1971  2300\n",
       "1  1972  3500\n",
       "2  1973  2500\n",
       "3  1973  2500\n",
       "4  1974  4100"
      ]
     },
     "execution_count": 3,
     "metadata": {},
     "output_type": "execute_result"
    }
   ],
   "source": [
    "data=pd.read_csv('/content/drive/MyDrive/DeepLearning_UmarKhan/moore.csv',header=None)\n",
    "print(data.shape)\n",
    "data.head()"
   ]
  },
  {
   "cell_type": "code",
   "execution_count": 4,
   "metadata": {
    "colab": {
     "base_uri": "https://localhost:8080/"
    },
    "executionInfo": {
     "elapsed": 3,
     "status": "ok",
     "timestamp": 1670052085352,
     "user": {
      "displayName": "umar khan",
      "userId": "10949049121784379174"
     },
     "user_tz": -300
    },
    "id": "soiNAVm4jVQq",
    "outputId": "02e8d613-0d6e-456b-c326-557f1bb94a69"
   },
   "outputs": [
    {
     "name": "stdout",
     "output_type": "stream",
     "text": [
      "(162, 1) (162,)\n"
     ]
    }
   ],
   "source": [
    "x=data.values[:,0].reshape(-1,1)\n",
    "y=data.values[:,1]\n",
    "\n",
    "print(x.shape,y.shape)"
   ]
  },
  {
   "cell_type": "code",
   "execution_count": 5,
   "metadata": {
    "colab": {
     "base_uri": "https://localhost:8080/",
     "height": 293
    },
    "executionInfo": {
     "elapsed": 10,
     "status": "ok",
     "timestamp": 1670052088315,
     "user": {
      "displayName": "umar khan",
      "userId": "10949049121784379174"
     },
     "user_tz": -300
    },
    "id": "7-5lHeFNjmWx",
    "outputId": "e7182d2d-7949-43cb-9b7b-de48d1c6140f"
   },
   "outputs": [
    {
     "data": {
      "text/plain": [
       "<matplotlib.collections.PathCollection at 0x7f7bcef2eb50>"
      ]
     },
     "execution_count": 5,
     "metadata": {},
     "output_type": "execute_result"
    },
    {
     "data": {
      "image/png": "[encoded data removed]",
      "text/plain": [
       "<Figure size 432x288 with 1 Axes>"
      ]
     },
     "metadata": {
      "needs_background": "light"
     },
     "output_type": "display_data"
    }
   ],
   "source": [
    "plt.scatter(x,y)"
   ]
  },
  {
   "cell_type": "code",
   "execution_count": 6,
   "metadata": {
    "executionInfo": {
     "elapsed": 359,
     "status": "ok",
     "timestamp": 1670052097850,
     "user": {
      "displayName": "umar khan",
      "userId": "10949049121784379174"
     },
     "user_tz": -300
    },
    "id": "6MQ9nDaAj-E-"
   },
   "outputs": [],
   "source": [
    "Y=np.log(y)"
   ]
  },
  {
   "cell_type": "code",
   "execution_count": 7,
   "metadata": {
    "colab": {
     "base_uri": "https://localhost:8080/",
     "height": 282
    },
    "executionInfo": {
     "elapsed": 469,
     "status": "ok",
     "timestamp": 1670052098729,
     "user": {
      "displayName": "umar khan",
      "userId": "10949049121784379174"
     },
     "user_tz": -300
    },
    "id": "CqF2nuLEkAqF",
    "outputId": "d5d5b2de-e85b-487f-a8ac-47e097bd8bc8"
   },
   "outputs": [
    {
     "data": {
      "text/plain": [
       "<matplotlib.collections.PathCollection at 0x7f7bceeb2f50>"
      ]
     },
     "execution_count": 7,
     "metadata": {},
     "output_type": "execute_result"
    },
    {
     "data": {
      "image/png": "[encoded data removed]",
      "text/plain": [
       "<Figure size 432x288 with 1 Axes>"
      ]
     },
     "metadata": {
      "needs_background": "light"
     },
     "output_type": "display_data"
    }
   ],
   "source": [
    "plt.scatter(x,Y)"
   ]
  },
  {
   "cell_type": "code",
   "execution_count": 8,
   "metadata": {
    "colab": {
     "base_uri": "https://localhost:8080/"
    },
    "executionInfo": {
     "elapsed": 924,
     "status": "ok",
     "timestamp": 1670052107731,
     "user": {
      "displayName": "umar khan",
      "userId": "10949049121784379174"
     },
     "user_tz": -300
    },
    "id": "xStzhYxLlbaZ",
    "outputId": "b0df38fb-c74f-49de-cf7f-194fc6f2bf9f"
   },
   "outputs": [
    {
     "name": "stdout",
     "output_type": "stream",
     "text": [
      "(145, 1) (145,)\n"
     ]
    }
   ],
   "source": [
    "from sklearn.model_selection import train_test_split\n",
    "\n",
    "x_train,x_test,y_train,y_test=train_test_split(x,Y,test_size=0.1) # y \n",
    "print(x_train.shape,y_train.shape)"
   ]
  },
  {
   "cell_type": "code",
   "execution_count": 9,
   "metadata": {
    "executionInfo": {
     "elapsed": 346,
     "status": "ok",
     "timestamp": 1670052110017,
     "user": {
      "displayName": "umar khan",
      "userId": "10949049121784379174"
     },
     "user_tz": -300
    },
    "id": "2KAjXIPemUUt"
   },
   "outputs": [],
   "source": [
    "from sklearn.preprocessing import StandardScaler\n",
    "\n",
    "ss=StandardScaler()\n",
    "x_train=ss.fit_transform(x_train)\n",
    "x_test=ss.transform(x_test)"
   ]
  },
  {
   "cell_type": "code",
   "execution_count": 26,
   "metadata": {
    "colab": {
     "base_uri": "https://localhost:8080/"
    },
    "executionInfo": {
     "elapsed": 4,
     "status": "ok",
     "timestamp": 1670053613655,
     "user": {
      "displayName": "umar khan",
      "userId": "10949049121784379174"
     },
     "user_tz": -300
    },
    "id": "Brs9_6G5mkP-",
    "outputId": "44ea77f4-640f-42fe-838f-27be6633abab"
   },
   "outputs": [
    {
     "name": "stdout",
     "output_type": "stream",
     "text": [
      "Model: \"sequential_5\"\n",
      "_________________________________________________________________\n",
      " Layer (type)                Output Shape              Param #   \n",
      "=================================================================\n",
      " dense_5 (Dense)             (None, 1)                 2         \n",
      "                                                                 \n",
      "=================================================================\n",
      "Total params: 2\n",
      "Trainable params: 2\n",
      "Non-trainable params: 0\n",
      "_________________________________________________________________\n"
     ]
    }
   ],
   "source": [
    "mrs=tf.keras.models.Sequential()\n",
    "\n",
    "mrs.add(tf.keras.layers.Dense(1,input_shape=(1,)))  # wx+b == {mx+c}\n",
    "\n",
    "mrs.compile(optimizer=tf.keras.optimizers.SGD(0.001,0.9),loss='mse') #SGD with LR,momentum # metric \n",
    "\n",
    "mrs.summary()"
   ]
  },
  {
   "cell_type": "code",
   "execution_count": 27,
   "metadata": {
    "executionInfo": {
     "elapsed": 1,
     "status": "ok",
     "timestamp": 1670053614018,
     "user": {
      "displayName": "umar khan",
      "userId": "10949049121784379174"
     },
     "user_tz": -300
    },
    "id": "ODtHVQjXnduA"
   },
   "outputs": [],
   "source": [
    "def schedule(epoch,lr): #standard def\n",
    "  if(epoch>=50 and epoch<100):\n",
    "    return 0.0001 # reduce LR \n",
    "  return 0.001 #start with bigger values of LR\n",
    "\n",
    "scheduler=tf.keras.callbacks.LearningRateScheduler(schedule)"
   ]
  },
  {
   "cell_type": "code",
   "execution_count": 28,
   "metadata": {
    "colab": {
     "base_uri": "https://localhost:8080/"
    },
    "executionInfo": {
     "elapsed": 6805,
     "status": "ok",
     "timestamp": 1670053623847,
     "user": {
      "displayName": "umar khan",
      "userId": "10949049121784379174"
     },
     "user_tz": -300
    },
    "id": "OQU1h7GGnvQL",
    "outputId": "35704b5e-bddd-4a46-f2b9-3539bae03035"
   },
   "outputs": [
    {
     "name": "stdout",
     "output_type": "stream",
     "text": [
      "Epoch 1/150\n",
      "5/5 [==============================] - 0s 33ms/step - loss: 324.7693 - val_loss: 332.1435 - lr: 0.0010\n",
      "Epoch 2/150\n",
      "5/5 [==============================] - 0s 7ms/step - loss: 300.6109 - val_loss: 295.0925 - lr: 0.0010\n",
      "Epoch 3/150\n",
      "5/5 [==============================] - 0s 7ms/step - loss: 262.9320 - val_loss: 251.4574 - lr: 0.0010\n",
      "Epoch 4/150\n",
      "5/5 [==============================] - 0s 7ms/step - loss: 222.3391 - val_loss: 207.8704 - lr: 0.0010\n",
      "Epoch 5/150\n",
      "5/5 [==============================] - 0s 10ms/step - loss: 182.3759 - val_loss: 168.9530 - lr: 0.0010\n",
      "Epoch 6/150\n",
      "5/5 [==============================] - 0s 7ms/step - loss: 147.4978 - val_loss: 135.3630 - lr: 0.0010\n",
      "Epoch 7/150\n",
      "5/5 [==============================] - 0s 8ms/step - loss: 117.3551 - val_loss: 107.4275 - lr: 0.0010\n",
      "Epoch 8/150\n",
      "5/5 [==============================] - 0s 12ms/step - loss: 93.0848 - val_loss: 84.3814 - lr: 0.0010\n",
      "Epoch 9/150\n",
      "5/5 [==============================] - 0s 8ms/step - loss: 72.6892 - val_loss: 66.0730 - lr: 0.0010\n",
      "Epoch 10/150\n",
      "5/5 [==============================] - 0s 8ms/step - loss: 57.1538 - val_loss: 51.4088 - lr: 0.0010\n",
      "Epoch 11/150\n",
      "5/5 [==============================] - 0s 7ms/step - loss: 44.2708 - val_loss: 40.0155 - lr: 0.0010\n",
      "Epoch 12/150\n",
      "5/5 [==============================] - 0s 8ms/step - loss: 34.4061 - val_loss: 31.1065 - lr: 0.0010\n",
      "Epoch 13/150\n",
      "5/5 [==============================] - 0s 7ms/step - loss: 26.9442 - val_loss: 24.0366 - lr: 0.0010\n",
      "Epoch 14/150\n",
      "5/5 [==============================] - 0s 7ms/step - loss: 20.8828 - val_loss: 18.6098 - lr: 0.0010\n",
      "Epoch 15/150\n",
      "5/5 [==============================] - 0s 7ms/step - loss: 16.2013 - val_loss: 14.4472 - lr: 0.0010\n",
      "Epoch 16/150\n",
      "5/5 [==============================] - 0s 7ms/step - loss: 12.6614 - val_loss: 11.2169 - lr: 0.0010\n",
      "Epoch 17/150\n",
      "5/5 [==============================] - 0s 7ms/step - loss: 9.9355 - val_loss: 8.7219 - lr: 0.0010\n",
      "Epoch 18/150\n",
      "5/5 [==============================] - 0s 7ms/step - loss: 7.8431 - val_loss: 6.8082 - lr: 0.0010\n",
      "Epoch 19/150\n",
      "5/5 [==============================] - 0s 8ms/step - loss: 6.1796 - val_loss: 5.3609 - lr: 0.0010\n",
      "Epoch 20/150\n",
      "5/5 [==============================] - 0s 8ms/step - loss: 4.9534 - val_loss: 4.2378 - lr: 0.0010\n",
      "Epoch 21/150\n",
      "5/5 [==============================] - 0s 8ms/step - loss: 4.0192 - val_loss: 3.3735 - lr: 0.0010\n",
      "Epoch 22/150\n",
      "5/5 [==============================] - 0s 7ms/step - loss: 3.2888 - val_loss: 2.7112 - lr: 0.0010\n",
      "Epoch 23/150\n",
      "5/5 [==============================] - 0s 8ms/step - loss: 2.7480 - val_loss: 2.1964 - lr: 0.0010\n",
      "Epoch 24/150\n",
      "5/5 [==============================] - 0s 8ms/step - loss: 2.3183 - val_loss: 1.8050 - lr: 0.0010\n",
      "Epoch 25/150\n",
      "5/5 [==============================] - 0s 8ms/step - loss: 1.9816 - val_loss: 1.5067 - lr: 0.0010\n",
      "Epoch 26/150\n",
      "5/5 [==============================] - 0s 7ms/step - loss: 1.7286 - val_loss: 1.2762 - lr: 0.0010\n",
      "Epoch 27/150\n",
      "5/5 [==============================] - 0s 7ms/step - loss: 1.5488 - val_loss: 1.0956 - lr: 0.0010\n",
      "Epoch 28/150\n",
      "5/5 [==============================] - 0s 7ms/step - loss: 1.4001 - val_loss: 0.9558 - lr: 0.0010\n",
      "Epoch 29/150\n",
      "5/5 [==============================] - 0s 7ms/step - loss: 1.2866 - val_loss: 0.8496 - lr: 0.0010\n",
      "Epoch 30/150\n",
      "5/5 [==============================] - 0s 8ms/step - loss: 1.2006 - val_loss: 0.7670 - lr: 0.0010\n",
      "Epoch 31/150\n",
      "5/5 [==============================] - 0s 7ms/step - loss: 1.1358 - val_loss: 0.7009 - lr: 0.0010\n",
      "Epoch 32/150\n",
      "5/5 [==============================] - 0s 7ms/step - loss: 1.0789 - val_loss: 0.6518 - lr: 0.0010\n",
      "Epoch 33/150\n",
      "5/5 [==============================] - 0s 7ms/step - loss: 1.0425 - val_loss: 0.6120 - lr: 0.0010\n",
      "Epoch 34/150\n",
      "5/5 [==============================] - 0s 9ms/step - loss: 1.0122 - val_loss: 0.5806 - lr: 0.0010\n",
      "Epoch 35/150\n",
      "5/5 [==============================] - 0s 7ms/step - loss: 0.9892 - val_loss: 0.5562 - lr: 0.0010\n",
      "Epoch 36/150\n",
      "5/5 [==============================] - 0s 7ms/step - loss: 0.9707 - val_loss: 0.5380 - lr: 0.0010\n",
      "Epoch 37/150\n",
      "5/5 [==============================] - 0s 7ms/step - loss: 0.9584 - val_loss: 0.5238 - lr: 0.0010\n",
      "Epoch 38/150\n",
      "5/5 [==============================] - 0s 7ms/step - loss: 0.9488 - val_loss: 0.5128 - lr: 0.0010\n",
      "Epoch 39/150\n",
      "5/5 [==============================] - 0s 7ms/step - loss: 0.9398 - val_loss: 0.5049 - lr: 0.0010\n",
      "Epoch 40/150\n",
      "5/5 [==============================] - 0s 7ms/step - loss: 0.9351 - val_loss: 0.4985 - lr: 0.0010\n",
      "Epoch 41/150\n",
      "5/5 [==============================] - 0s 7ms/step - loss: 0.9298 - val_loss: 0.4937 - lr: 0.0010\n",
      "Epoch 42/150\n",
      "5/5 [==============================] - 0s 7ms/step - loss: 0.9288 - val_loss: 0.4891 - lr: 0.0010\n",
      "Epoch 43/150\n",
      "5/5 [==============================] - 0s 7ms/step - loss: 0.9247 - val_loss: 0.4860 - lr: 0.0010\n",
      "Epoch 44/150\n",
      "5/5 [==============================] - 0s 12ms/step - loss: 0.9232 - val_loss: 0.4834 - lr: 0.0010\n",
      "Epoch 45/150\n",
      "5/5 [==============================] - 0s 8ms/step - loss: 0.9219 - val_loss: 0.4815 - lr: 0.0010\n",
      "Epoch 46/150\n",
      "5/5 [==============================] - 0s 7ms/step - loss: 0.9207 - val_loss: 0.4803 - lr: 0.0010\n",
      "Epoch 47/150\n",
      "5/5 [==============================] - 0s 8ms/step - loss: 0.9206 - val_loss: 0.4789 - lr: 0.0010\n",
      "Epoch 48/150\n",
      "5/5 [==============================] - 0s 8ms/step - loss: 0.9191 - val_loss: 0.4783 - lr: 0.0010\n",
      "Epoch 49/150\n",
      "5/5 [==============================] - 0s 8ms/step - loss: 0.9188 - val_loss: 0.4775 - lr: 0.0010\n",
      "Epoch 50/150\n",
      "5/5 [==============================] - 0s 7ms/step - loss: 0.9189 - val_loss: 0.4767 - lr: 0.0010\n",
      "Epoch 51/150\n",
      "5/5 [==============================] - 0s 7ms/step - loss: 0.9181 - val_loss: 0.4765 - lr: 1.0000e-04\n",
      "Epoch 52/150\n",
      "5/5 [==============================] - 0s 8ms/step - loss: 0.9181 - val_loss: 0.4763 - lr: 1.0000e-04\n",
      "Epoch 53/150\n",
      "5/5 [==============================] - 0s 7ms/step - loss: 0.9180 - val_loss: 0.4762 - lr: 1.0000e-04\n",
      "Epoch 54/150\n",
      "5/5 [==============================] - 0s 7ms/step - loss: 0.9180 - val_loss: 0.4761 - lr: 1.0000e-04\n",
      "Epoch 55/150\n",
      "5/5 [==============================] - 0s 7ms/step - loss: 0.9179 - val_loss: 0.4760 - lr: 1.0000e-04\n",
      "Epoch 56/150\n",
      "5/5 [==============================] - 0s 7ms/step - loss: 0.9179 - val_loss: 0.4759 - lr: 1.0000e-04\n",
      "Epoch 57/150\n",
      "5/5 [==============================] - 0s 8ms/step - loss: 0.9179 - val_loss: 0.4759 - lr: 1.0000e-04\n",
      "Epoch 58/150\n",
      "5/5 [==============================] - 0s 8ms/step - loss: 0.9179 - val_loss: 0.4758 - lr: 1.0000e-04\n",
      "Epoch 59/150\n",
      "5/5 [==============================] - 0s 7ms/step - loss: 0.9178 - val_loss: 0.4757 - lr: 1.0000e-04\n",
      "Epoch 60/150\n",
      "5/5 [==============================] - 0s 7ms/step - loss: 0.9178 - val_loss: 0.4757 - lr: 1.0000e-04\n",
      "Epoch 61/150\n",
      "5/5 [==============================] - 0s 7ms/step - loss: 0.9178 - val_loss: 0.4756 - lr: 1.0000e-04\n",
      "Epoch 62/150\n",
      "5/5 [==============================] - 0s 8ms/step - loss: 0.9178 - val_loss: 0.4755 - lr: 1.0000e-04\n",
      "Epoch 63/150\n",
      "5/5 [==============================] - 0s 7ms/step - loss: 0.9178 - val_loss: 0.4754 - lr: 1.0000e-04\n",
      "Epoch 64/150\n",
      "5/5 [==============================] - 0s 7ms/step - loss: 0.9177 - val_loss: 0.4754 - lr: 1.0000e-04\n",
      "Epoch 65/150\n",
      "5/5 [==============================] - 0s 7ms/step - loss: 0.9177 - val_loss: 0.4754 - lr: 1.0000e-04\n",
      "Epoch 66/150\n",
      "5/5 [==============================] - 0s 7ms/step - loss: 0.9177 - val_loss: 0.4753 - lr: 1.0000e-04\n",
      "Epoch 67/150\n",
      "5/5 [==============================] - 0s 8ms/step - loss: 0.9177 - val_loss: 0.4753 - lr: 1.0000e-04\n",
      "Epoch 68/150\n",
      "5/5 [==============================] - 0s 7ms/step - loss: 0.9177 - val_loss: 0.4752 - lr: 1.0000e-04\n",
      "Epoch 69/150\n",
      "5/5 [==============================] - 0s 7ms/step - loss: 0.9177 - val_loss: 0.4752 - lr: 1.0000e-04\n",
      "Epoch 70/150\n",
      "5/5 [==============================] - 0s 7ms/step - loss: 0.9177 - val_loss: 0.4752 - lr: 1.0000e-04\n",
      "Epoch 71/150\n",
      "5/5 [==============================] - 0s 7ms/step - loss: 0.9177 - val_loss: 0.4751 - lr: 1.0000e-04\n",
      "Epoch 72/150\n",
      "5/5 [==============================] - 0s 8ms/step - loss: 0.9176 - val_loss: 0.4750 - lr: 1.0000e-04\n",
      "Epoch 73/150\n",
      "5/5 [==============================] - 0s 9ms/step - loss: 0.9176 - val_loss: 0.4749 - lr: 1.0000e-04\n",
      "Epoch 74/150\n",
      "5/5 [==============================] - 0s 7ms/step - loss: 0.9176 - val_loss: 0.4749 - lr: 1.0000e-04\n",
      "Epoch 75/150\n",
      "5/5 [==============================] - 0s 7ms/step - loss: 0.9176 - val_loss: 0.4748 - lr: 1.0000e-04\n",
      "Epoch 76/150\n",
      "5/5 [==============================] - 0s 8ms/step - loss: 0.9176 - val_loss: 0.4748 - lr: 1.0000e-04\n",
      "Epoch 77/150\n",
      "5/5 [==============================] - 0s 7ms/step - loss: 0.9175 - val_loss: 0.4747 - lr: 1.0000e-04\n",
      "Epoch 78/150\n",
      "5/5 [==============================] - 0s 7ms/step - loss: 0.9175 - val_loss: 0.4746 - lr: 1.0000e-04\n",
      "Epoch 79/150\n",
      "5/5 [==============================] - 0s 7ms/step - loss: 0.9175 - val_loss: 0.4745 - lr: 1.0000e-04\n",
      "Epoch 80/150\n",
      "5/5 [==============================] - 0s 8ms/step - loss: 0.9175 - val_loss: 0.4745 - lr: 1.0000e-04\n",
      "Epoch 81/150\n",
      "5/5 [==============================] - 0s 7ms/step - loss: 0.9175 - val_loss: 0.4744 - lr: 1.0000e-04\n",
      "Epoch 82/150\n",
      "5/5 [==============================] - 0s 7ms/step - loss: 0.9175 - val_loss: 0.4744 - lr: 1.0000e-04\n",
      "Epoch 83/150\n",
      "5/5 [==============================] - 0s 8ms/step - loss: 0.9175 - val_loss: 0.4743 - lr: 1.0000e-04\n",
      "Epoch 84/150\n",
      "5/5 [==============================] - 0s 7ms/step - loss: 0.9175 - val_loss: 0.4743 - lr: 1.0000e-04\n",
      "Epoch 85/150\n",
      "5/5 [==============================] - 0s 7ms/step - loss: 0.9174 - val_loss: 0.4743 - lr: 1.0000e-04\n",
      "Epoch 86/150\n",
      "5/5 [==============================] - 0s 7ms/step - loss: 0.9174 - val_loss: 0.4743 - lr: 1.0000e-04\n",
      "Epoch 87/150\n",
      "5/5 [==============================] - 0s 7ms/step - loss: 0.9174 - val_loss: 0.4742 - lr: 1.0000e-04\n",
      "Epoch 88/150\n",
      "5/5 [==============================] - 0s 7ms/step - loss: 0.9174 - val_loss: 0.4742 - lr: 1.0000e-04\n",
      "Epoch 89/150\n",
      "5/5 [==============================] - 0s 12ms/step - loss: 0.9174 - val_loss: 0.4742 - lr: 1.0000e-04\n",
      "Epoch 90/150\n",
      "5/5 [==============================] - 0s 9ms/step - loss: 0.9174 - val_loss: 0.4741 - lr: 1.0000e-04\n",
      "Epoch 91/150\n",
      "5/5 [==============================] - 0s 7ms/step - loss: 0.9174 - val_loss: 0.4741 - lr: 1.0000e-04\n",
      "Epoch 92/150\n",
      "5/5 [==============================] - 0s 7ms/step - loss: 0.9174 - val_loss: 0.4740 - lr: 1.0000e-04\n",
      "Epoch 93/150\n",
      "5/5 [==============================] - 0s 7ms/step - loss: 0.9174 - val_loss: 0.4740 - lr: 1.0000e-04\n",
      "Epoch 94/150\n",
      "5/5 [==============================] - 0s 7ms/step - loss: 0.9174 - val_loss: 0.4740 - lr: 1.0000e-04\n",
      "Epoch 95/150\n",
      "5/5 [==============================] - 0s 7ms/step - loss: 0.9174 - val_loss: 0.4739 - lr: 1.0000e-04\n",
      "Epoch 96/150\n",
      "5/5 [==============================] - 0s 11ms/step - loss: 0.9173 - val_loss: 0.4739 - lr: 1.0000e-04\n",
      "Epoch 97/150\n",
      "5/5 [==============================] - 0s 10ms/step - loss: 0.9173 - val_loss: 0.4739 - lr: 1.0000e-04\n",
      "Epoch 98/150\n",
      "5/5 [==============================] - 0s 7ms/step - loss: 0.9173 - val_loss: 0.4738 - lr: 1.0000e-04\n",
      "Epoch 99/150\n",
      "5/5 [==============================] - 0s 10ms/step - loss: 0.9173 - val_loss: 0.4738 - lr: 1.0000e-04\n",
      "Epoch 100/150\n",
      "5/5 [==============================] - 0s 7ms/step - loss: 0.9173 - val_loss: 0.4738 - lr: 1.0000e-04\n",
      "Epoch 101/150\n",
      "5/5 [==============================] - 0s 7ms/step - loss: 0.9174 - val_loss: 0.4738 - lr: 0.0010\n",
      "Epoch 102/150\n",
      "5/5 [==============================] - 0s 8ms/step - loss: 0.9174 - val_loss: 0.4735 - lr: 0.0010\n",
      "Epoch 103/150\n",
      "5/5 [==============================] - 0s 7ms/step - loss: 0.9175 - val_loss: 0.4734 - lr: 0.0010\n",
      "Epoch 104/150\n",
      "5/5 [==============================] - 0s 7ms/step - loss: 0.9174 - val_loss: 0.4735 - lr: 0.0010\n",
      "Epoch 105/150\n",
      "5/5 [==============================] - 0s 9ms/step - loss: 0.9174 - val_loss: 0.4736 - lr: 0.0010\n",
      "Epoch 106/150\n",
      "5/5 [==============================] - 0s 7ms/step - loss: 0.9175 - val_loss: 0.4736 - lr: 0.0010\n",
      "Epoch 107/150\n",
      "5/5 [==============================] - 0s 8ms/step - loss: 0.9176 - val_loss: 0.4732 - lr: 0.0010\n",
      "Epoch 108/150\n",
      "5/5 [==============================] - 0s 7ms/step - loss: 0.9173 - val_loss: 0.4731 - lr: 0.0010\n",
      "Epoch 109/150\n",
      "5/5 [==============================] - 0s 8ms/step - loss: 0.9173 - val_loss: 0.4731 - lr: 0.0010\n",
      "Epoch 110/150\n",
      "5/5 [==============================] - 0s 8ms/step - loss: 0.9172 - val_loss: 0.4733 - lr: 0.0010\n",
      "Epoch 111/150\n",
      "5/5 [==============================] - 0s 12ms/step - loss: 0.9173 - val_loss: 0.4732 - lr: 0.0010\n",
      "Epoch 112/150\n",
      "5/5 [==============================] - 0s 8ms/step - loss: 0.9175 - val_loss: 0.4732 - lr: 0.0010\n",
      "Epoch 113/150\n",
      "5/5 [==============================] - 0s 7ms/step - loss: 0.9173 - val_loss: 0.4730 - lr: 0.0010\n",
      "Epoch 114/150\n",
      "5/5 [==============================] - 0s 8ms/step - loss: 0.9172 - val_loss: 0.4726 - lr: 0.0010\n",
      "Epoch 115/150\n",
      "5/5 [==============================] - 0s 7ms/step - loss: 0.9172 - val_loss: 0.4723 - lr: 0.0010\n",
      "Epoch 116/150\n",
      "5/5 [==============================] - 0s 10ms/step - loss: 0.9172 - val_loss: 0.4722 - lr: 0.0010\n",
      "Epoch 117/150\n",
      "5/5 [==============================] - 0s 7ms/step - loss: 0.9173 - val_loss: 0.4723 - lr: 0.0010\n",
      "Epoch 118/150\n",
      "5/5 [==============================] - 0s 8ms/step - loss: 0.9172 - val_loss: 0.4721 - lr: 0.0010\n",
      "Epoch 119/150\n",
      "5/5 [==============================] - 0s 8ms/step - loss: 0.9171 - val_loss: 0.4721 - lr: 0.0010\n",
      "Epoch 120/150\n",
      "5/5 [==============================] - 0s 9ms/step - loss: 0.9173 - val_loss: 0.4721 - lr: 0.0010\n",
      "Epoch 121/150\n",
      "5/5 [==============================] - 0s 7ms/step - loss: 0.9172 - val_loss: 0.4723 - lr: 0.0010\n",
      "Epoch 122/150\n",
      "5/5 [==============================] - 0s 8ms/step - loss: 0.9172 - val_loss: 0.4722 - lr: 0.0010\n",
      "Epoch 123/150\n",
      "5/5 [==============================] - 0s 7ms/step - loss: 0.9172 - val_loss: 0.4720 - lr: 0.0010\n",
      "Epoch 124/150\n",
      "5/5 [==============================] - 0s 7ms/step - loss: 0.9174 - val_loss: 0.4722 - lr: 0.0010\n",
      "Epoch 125/150\n",
      "5/5 [==============================] - 0s 7ms/step - loss: 0.9170 - val_loss: 0.4719 - lr: 0.0010\n",
      "Epoch 126/150\n",
      "5/5 [==============================] - 0s 7ms/step - loss: 0.9172 - val_loss: 0.4717 - lr: 0.0010\n",
      "Epoch 127/150\n",
      "5/5 [==============================] - 0s 7ms/step - loss: 0.9172 - val_loss: 0.4718 - lr: 0.0010\n",
      "Epoch 128/150\n",
      "5/5 [==============================] - 0s 9ms/step - loss: 0.9172 - val_loss: 0.4717 - lr: 0.0010\n",
      "Epoch 129/150\n",
      "5/5 [==============================] - 0s 7ms/step - loss: 0.9172 - val_loss: 0.4718 - lr: 0.0010\n",
      "Epoch 130/150\n",
      "5/5 [==============================] - 0s 7ms/step - loss: 0.9172 - val_loss: 0.4720 - lr: 0.0010\n",
      "Epoch 131/150\n",
      "5/5 [==============================] - 0s 8ms/step - loss: 0.9172 - val_loss: 0.4718 - lr: 0.0010\n",
      "Epoch 132/150\n",
      "5/5 [==============================] - 0s 9ms/step - loss: 0.9172 - val_loss: 0.4718 - lr: 0.0010\n",
      "Epoch 133/150\n",
      "5/5 [==============================] - 0s 7ms/step - loss: 0.9172 - val_loss: 0.4717 - lr: 0.0010\n",
      "Epoch 134/150\n",
      "5/5 [==============================] - 0s 7ms/step - loss: 0.9171 - val_loss: 0.4716 - lr: 0.0010\n",
      "Epoch 135/150\n",
      "5/5 [==============================] - 0s 7ms/step - loss: 0.9172 - val_loss: 0.4716 - lr: 0.0010\n",
      "Epoch 136/150\n",
      "5/5 [==============================] - 0s 8ms/step - loss: 0.9171 - val_loss: 0.4714 - lr: 0.0010\n",
      "Epoch 137/150\n",
      "5/5 [==============================] - 0s 8ms/step - loss: 0.9172 - val_loss: 0.4710 - lr: 0.0010\n",
      "Epoch 138/150\n",
      "5/5 [==============================] - 0s 8ms/step - loss: 0.9171 - val_loss: 0.4709 - lr: 0.0010\n",
      "Epoch 139/150\n",
      "5/5 [==============================] - 0s 7ms/step - loss: 0.9171 - val_loss: 0.4709 - lr: 0.0010\n",
      "Epoch 140/150\n",
      "5/5 [==============================] - 0s 9ms/step - loss: 0.9171 - val_loss: 0.4709 - lr: 0.0010\n",
      "Epoch 141/150\n",
      "5/5 [==============================] - 0s 7ms/step - loss: 0.9172 - val_loss: 0.4708 - lr: 0.0010\n",
      "Epoch 142/150\n",
      "5/5 [==============================] - 0s 7ms/step - loss: 0.9171 - val_loss: 0.4708 - lr: 0.0010\n",
      "Epoch 143/150\n",
      "5/5 [==============================] - 0s 7ms/step - loss: 0.9172 - val_loss: 0.4707 - lr: 0.0010\n",
      "Epoch 144/150\n",
      "5/5 [==============================] - 0s 7ms/step - loss: 0.9173 - val_loss: 0.4709 - lr: 0.0010\n",
      "Epoch 145/150\n",
      "5/5 [==============================] - 0s 9ms/step - loss: 0.9174 - val_loss: 0.4709 - lr: 0.0010\n",
      "Epoch 146/150\n",
      "5/5 [==============================] - 0s 7ms/step - loss: 0.9171 - val_loss: 0.4709 - lr: 0.0010\n",
      "Epoch 147/150\n",
      "5/5 [==============================] - 0s 8ms/step - loss: 0.9173 - val_loss: 0.4711 - lr: 0.0010\n",
      "Epoch 148/150\n",
      "5/5 [==============================] - 0s 7ms/step - loss: 0.9172 - val_loss: 0.4711 - lr: 0.0010\n",
      "Epoch 149/150\n",
      "5/5 [==============================] - 0s 9ms/step - loss: 0.9172 - val_loss: 0.4712 - lr: 0.0010\n",
      "Epoch 150/150\n",
      "5/5 [==============================] - 0s 7ms/step - loss: 0.9173 - val_loss: 0.4714 - lr: 0.0010\n"
     ]
    }
   ],
   "source": [
    "# print(mrs.optimizer.lr.numpy())\n",
    "\n",
    "mrs_hist=mrs.fit(x_train,y_train,validation_data=(x_test,y_test),epochs=150,verbose=True,callbacks=[scheduler])\n",
    "\n",
    "# print(mrs.optimizer.lr.numpy())"
   ]
  },
  {
   "cell_type": "code",
   "execution_count": 29,
   "metadata": {
    "colab": {
     "base_uri": "https://localhost:8080/",
     "height": 282
    },
    "executionInfo": {
     "elapsed": 25,
     "status": "ok",
     "timestamp": 1670053623847,
     "user": {
      "displayName": "umar khan",
      "userId": "10949049121784379174"
     },
     "user_tz": -300
    },
    "id": "vaPrA-tTolB9",
    "outputId": "efa72c5b-868f-4955-c4ad-6c99cebedd5d"
   },
   "outputs": [
    {
     "data": {
      "text/plain": [
       "<matplotlib.legend.Legend at 0x7f7bc008af90>"
      ]
     },
     "execution_count": 29,
     "metadata": {},
     "output_type": "execute_result"
    },
    {
     "data": {
      "image/png": "[encoded data removed]",
      "text/plain": [
       "<Figure size 432x288 with 1 Axes>"
      ]
     },
     "metadata": {
      "needs_background": "light"
     },
     "output_type": "display_data"
    }
   ],
   "source": [
    "plt.plot(mrs_hist.history['loss'], label='Loss')\n",
    "plt.plot(mrs_hist.history['val_loss'], label='Val_Loss')\n",
    "plt.legend()"
   ]
  },
  {
   "cell_type": "code",
   "execution_count": null,
   "metadata": {
    "id": "RJ3IRytWwmQB"
   },
   "outputs": [],
   "source": [
    "#evaluating and making predictions "
   ]
  },
  {
   "cell_type": "code",
   "execution_count": null,
   "metadata": {
    "id": "-I9c9TXkwmLD"
   },
   "outputs": [],
   "source": []
  },
  {
   "cell_type": "code",
   "execution_count": null,
   "metadata": {
    "colab": {
     "base_uri": "https://localhost:8080/"
    },
    "executionInfo": {
     "elapsed": 7,
     "status": "ok",
     "timestamp": 1669998270282,
     "user": {
      "displayName": "umar khan",
      "userId": "10949049121784379174"
     },
     "user_tz": -300
    },
    "id": "P8LQiKzYpbqt",
    "outputId": "a4bd0212-ed70-478f-cc55-fc804b4a7727"
   },
   "outputs": [
    {
     "name": "stdout",
     "output_type": "stream",
     "text": [
      "['loss']\n",
      "2.3950390815734863\n"
     ]
    }
   ],
   "source": [
    "print(mrs.metrics_names)\n",
    "print(mrs.evaluate(x_test,y_test,verbose=0))"
   ]
  },
  {
   "cell_type": "code",
   "execution_count": null,
   "metadata": {
    "colab": {
     "base_uri": "https://localhost:8080/"
    },
    "executionInfo": {
     "elapsed": 995,
     "status": "ok",
     "timestamp": 1669998510000,
     "user": {
      "displayName": "umar khan",
      "userId": "10949049121784379174"
     },
     "user_tz": -300
    },
    "id": "mA4-FtsEp0BQ",
    "outputId": "b411c85e-0210-4bbc-8637-41edcca568be"
   },
   "outputs": [
    {
     "name": "stdout",
     "output_type": "stream",
     "text": [
      "(1,)\n",
      "(1, 1)\n",
      "17.073607095985757\n"
     ]
    }
   ],
   "source": [
    "x=x_test[5]\n",
    "print(x.shape)\n",
    "x=x.reshape(1,-1)\n",
    "print(x.shape)\n",
    "y=y_test[5]\n",
    "print(y)"
   ]
  },
  {
   "cell_type": "code",
   "execution_count": null,
   "metadata": {
    "colab": {
     "base_uri": "https://localhost:8080/"
    },
    "executionInfo": {
     "elapsed": 368,
     "status": "ok",
     "timestamp": 1669998518285,
     "user": {
      "displayName": "umar khan",
      "userId": "10949049121784379174"
     },
     "user_tz": -300
    },
    "id": "ubYcJpa4p5xm",
    "outputId": "986cd964-8892-4f64-890d-7c761903969f"
   },
   "outputs": [
    {
     "name": "stdout",
     "output_type": "stream",
     "text": [
      "1/1 [==============================] - 0s 20ms/step\n"
     ]
    },
    {
     "data": {
      "text/plain": [
       "array([[19.449806]], dtype=float32)"
      ]
     },
     "execution_count": 63,
     "metadata": {},
     "output_type": "execute_result"
    }
   ],
   "source": [
    "out= mrs.predict(x)\n",
    "out"
   ]
  },
  {
   "cell_type": "code",
   "execution_count": null,
   "metadata": {
    "colab": {
     "base_uri": "https://localhost:8080/",
     "height": 300
    },
    "executionInfo": {
     "elapsed": 12,
     "status": "ok",
     "timestamp": 1669999306203,
     "user": {
      "displayName": "umar khan",
      "userId": "10949049121784379174"
     },
     "user_tz": -300
    },
    "id": "fxSSv3Utqdvh",
    "outputId": "7b0701ac-5da2-4586-a6aa-2f54d95d4319"
   },
   "outputs": [
    {
     "name": "stdout",
     "output_type": "stream",
     "text": [
      "1/1 [==============================] - 0s 19ms/step\n"
     ]
    },
    {
     "data": {
      "text/plain": [
       "[<matplotlib.lines.Line2D at 0x7f01275ac790>]"
      ]
     },
     "execution_count": 71,
     "metadata": {},
     "output_type": "execute_result"
    },
    {
     "data": {
      "image/png": "[encoded data removed]",
      "text/plain": [
       "<Figure size 432x288 with 1 Axes>"
      ]
     },
     "metadata": {
      "needs_background": "light"
     },
     "output_type": "display_data"
    }
   ],
   "source": [
    "y_hat=mrs.predict(x_test).flatten()\n",
    "plt.scatter(x_test,y_test)\n",
    "plt.plot(x_test,y_hat,color='red')"
   ]
  },
  {
   "cell_type": "code",
   "execution_count": null,
   "metadata": {
    "colab": {
     "base_uri": "https://localhost:8080/"
    },
    "executionInfo": {
     "elapsed": 5,
     "status": "ok",
     "timestamp": 1669999533331,
     "user": {
      "displayName": "umar khan",
      "userId": "10949049121784379174"
     },
     "user_tz": -300
    },
    "id": "slYIpCgetNRa",
    "outputId": "039e019c-826b-4b3e-e241-10019728c711"
   },
   "outputs": [
    {
     "name": "stdout",
     "output_type": "stream",
     "text": [
      "(1, 1) (1,)\n"
     ]
    }
   ],
   "source": [
    "w,b=mrs.layers[0].get_weights()\n",
    "print(w.shape,b.shape)"
   ]
  },
  {
   "cell_type": "code",
   "execution_count": null,
   "metadata": {
    "colab": {
     "base_uri": "https://localhost:8080/"
    },
    "executionInfo": {
     "elapsed": 730,
     "status": "ok",
     "timestamp": 1670000016370,
     "user": {
      "displayName": "umar khan",
      "userId": "10949049121784379174"
     },
     "user_tz": -300
    },
    "id": "8H8-nHe_werY",
    "outputId": "d4ed42d3-f17c-45a0-b501-5f2579ad4a50"
   },
   "outputs": [
    {
     "data": {
      "text/plain": [
       "(array([[4.729749]], dtype=float32), array([17.814152], dtype=float32))"
      ]
     },
     "execution_count": 97,
     "metadata": {},
     "output_type": "execute_result"
    }
   ],
   "source": [
    "w,b"
   ]
  },
  {
   "cell_type": "code",
   "execution_count": null,
   "metadata": {
    "id": "-x4Kp0wbuilO"
   },
   "outputs": [],
   "source": [
    "y_hat_2=(np.dot(x_test,w)+b).flatten()"
   ]
  },
  {
   "cell_type": "code",
   "execution_count": null,
   "metadata": {
    "colab": {
     "base_uri": "https://localhost:8080/"
    },
    "executionInfo": {
     "elapsed": 6,
     "status": "ok",
     "timestamp": 1669999794037,
     "user": {
      "displayName": "umar khan",
      "userId": "10949049121784379174"
     },
     "user_tz": -300
    },
    "id": "MVfsHDVJuqd_",
    "outputId": "5410d7e6-703f-4ca6-effb-f86dd2efcdc5"
   },
   "outputs": [
    {
     "data": {
      "text/plain": [
       "True"
      ]
     },
     "execution_count": 90,
     "metadata": {},
     "output_type": "execute_result"
    }
   ],
   "source": [
    "np.allclose(y_hat,y_hat_2)"
   ]
  },
  {
   "cell_type": "code",
   "execution_count": null,
   "metadata": {
    "id": "oQAyEqAiwh0h"
   },
   "outputs": [],
   "source": [
    "# saving and loading model "
   ]
  },
  {
   "cell_type": "code",
   "execution_count": null,
   "metadata": {
    "id": "F0XD6zPsvkVm"
   },
   "outputs": [],
   "source": [
    "mrs.save('mrs_model.h5')"
   ]
  },
  {
   "cell_type": "code",
   "execution_count": null,
   "metadata": {
    "colab": {
     "base_uri": "https://localhost:8080/"
    },
    "executionInfo": {
     "elapsed": 418,
     "status": "ok",
     "timestamp": 1669999901119,
     "user": {
      "displayName": "umar khan",
      "userId": "10949049121784379174"
     },
     "user_tz": -300
    },
    "id": "xDJND7B3v9DU",
    "outputId": "7db57420-86d1-43a7-db58-6c7dd4ac1afc"
   },
   "outputs": [
    {
     "name": "stdout",
     "output_type": "stream",
     "text": [
      "moore.csv  mrs_model.h5  sample_data\n"
     ]
    }
   ],
   "source": [
    "!ls"
   ]
  },
  {
   "cell_type": "code",
   "execution_count": null,
   "metadata": {
    "id": "Wq5NXGGLwDCK"
   },
   "outputs": [],
   "source": [
    "model=tf.keras.models.load_model('mrs_model.h5')"
   ]
  },
  {
   "cell_type": "code",
   "execution_count": null,
   "metadata": {
    "colab": {
     "base_uri": "https://localhost:8080/"
    },
    "executionInfo": {
     "elapsed": 1139,
     "status": "ok",
     "timestamp": 1669999985227,
     "user": {
      "displayName": "umar khan",
      "userId": "10949049121784379174"
     },
     "user_tz": -300
    },
    "id": "uYVokZIqwU_K",
    "outputId": "a861bc3b-e9fb-43ea-84ef-3fe34c667540"
   },
   "outputs": [
    {
     "name": "stdout",
     "output_type": "stream",
     "text": [
      "Model: \"sequential_1\"\n",
      "_________________________________________________________________\n",
      " Layer (type)                Output Shape              Param #   \n",
      "=================================================================\n",
      " dense_1 (Dense)             (None, 1)                 2         \n",
      "                                                                 \n",
      "=================================================================\n",
      "Total params: 2\n",
      "Trainable params: 2\n",
      "Non-trainable params: 0\n",
      "_________________________________________________________________\n"
     ]
    }
   ],
   "source": [
    "model.summary()"
   ]
  },
  {
   "cell_type": "code",
   "execution_count": null,
   "metadata": {
    "colab": {
     "base_uri": "https://localhost:8080/"
    },
    "executionInfo": {
     "elapsed": 2337,
     "status": "ok",
     "timestamp": 1670000002291,
     "user": {
      "displayName": "umar khan",
      "userId": "10949049121784379174"
     },
     "user_tz": -300
    },
    "id": "orfy8YlpwXAQ",
    "outputId": "7e630f01-084c-4ef5-9fea-bf3ec8f6b9ce"
   },
   "outputs": [
    {
     "data": {
      "text/plain": [
       "[array([[4.729749]], dtype=float32), array([17.814152], dtype=float32)]"
      ]
     },
     "execution_count": 96,
     "metadata": {},
     "output_type": "execute_result"
    }
   ],
   "source": [
    "model.layers[0].get_weights()"
   ]
  },
  {
   "cell_type": "code",
   "execution_count": null,
   "metadata": {
    "id": "Bmnkr-4GwbZA"
   },
   "outputs": [],
   "source": []
  }
 ],
 "metadata": {
  "colab": {
   "authorship_tag": "ABX9TyMi2osCDVy6a5GG0w8BmuxT",
   "mount_file_id": "1PlPlblx9m4lbt6qT3vO_8djSKwDdanZU",
   "provenance": []
  },
  "kernelspec": {
   "display_name": "Python 3 (ipykernel)",
   "language": "python",
   "name": "python3"
  },
  "language_info": {
   "codemirror_mode": {
    "name": "ipython",
    "version": 3
   },
   "file_extension": ".py",
   "mimetype": "text/x-python",
   "name": "python",
   "nbconvert_exporter": "python",
   "pygments_lexer": "ipython3",
   "version": "3.11.3"
  }
 },
 "nbformat": 4,
 "nbformat_minor": 1
}
