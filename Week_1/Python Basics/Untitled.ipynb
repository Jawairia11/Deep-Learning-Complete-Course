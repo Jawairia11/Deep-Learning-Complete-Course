{
 "cells": [
  {
   "cell_type": "code",
   "execution_count": 1,
   "id": "4b0bb138",
   "metadata": {},
   "outputs": [
    {
     "name": "stdout",
     "output_type": "stream",
     "text": [
      "It was True !\n"
     ]
    }
   ],
   "source": [
    "if True:\n",
    "    print('It was True !')"
   ]
  },
  {
   "cell_type": "code",
   "execution_count": 2,
   "id": "5698caf5",
   "metadata": {},
   "outputs": [
    {
     "name": "stdout",
     "output_type": "stream",
     "text": [
      " I will be printed anywhere X is not true \n",
      "Here it is \n"
     ]
    }
   ],
   "source": [
    "x = False\n",
    "if x:\n",
    "    print('X was True !')\n",
    "else: \n",
    "    print(' I will be printed anywhere X is not true ')\n",
    "    print('Here it is ')\n",
    "    "
   ]
  },
  {
   "cell_type": "code",
   "execution_count": 3,
   "id": "8d0c433a",
   "metadata": {},
   "outputs": [
    {
     "name": "stdout",
     "output_type": "stream",
     "text": [
      "Welcome to the bank!\n"
     ]
    }
   ],
   "source": [
    "loc = 'Bank'\n",
    "\n",
    "if loc == 'Auto Shop':\n",
    "    print('Welcome to the Auto Shop!')\n",
    "elif loc == 'Bank':\n",
    "    print('Welcome to the bank!')\n",
    "else:\n",
    "    print('Where are you?')"
   ]
  },
  {
   "cell_type": "code",
   "execution_count": 4,
   "id": "44d20923",
   "metadata": {},
   "outputs": [
    {
     "name": "stdout",
     "output_type": "stream",
     "text": [
      "Where are you ?\n"
     ]
    }
   ],
   "source": [
    "loc = 'none'\n",
    "\n",
    "if loc =='Autoshop':\n",
    "    print('welcome to the Autoshop!')\n",
    "elif loc =='Bank':\n",
    "    print('Welcome to the Bank !')\n",
    "    \n",
    "else:\n",
    "    print('Where are you ?')"
   ]
  },
  {
   "cell_type": "code",
   "execution_count": 5,
   "id": "a027397b",
   "metadata": {},
   "outputs": [
    {
     "name": "stdout",
     "output_type": "stream",
     "text": [
      "1\n",
      "2\n",
      "3\n",
      "4\n",
      "5\n",
      "6\n",
      "7\n",
      "8\n",
      "9\n",
      "10\n"
     ]
    }
   ],
   "source": [
    "list1 = [1,2,3,4,5,6,7,8,9,10]\n",
    "\n",
    "for num in list1:\n",
    "    print(num)"
   ]
  },
  {
   "cell_type": "code",
   "execution_count": 6,
   "id": "c8e6859a",
   "metadata": {},
   "outputs": [
    {
     "name": "stdout",
     "output_type": "stream",
     "text": [
      "w\n",
      "o\n",
      "r\n",
      "d\n"
     ]
    }
   ],
   "source": [
    "list2 = ['w','o', 'r', 'd']\n",
    "for num in list2:\n",
    "    print(num) "
   ]
  },
  {
   "cell_type": "code",
   "execution_count": 7,
   "id": "fd6ba060",
   "metadata": {},
   "outputs": [
    {
     "data": {
      "text/plain": [
       "'word'"
      ]
     },
     "execution_count": 7,
     "metadata": {},
     "output_type": "execute_result"
    }
   ],
   "source": [
    "result=''\n",
    "for elements in list2:\n",
    "    result += elements\n",
    "result    "
   ]
  },
  {
   "cell_type": "code",
   "execution_count": 8,
   "id": "a08d6147",
   "metadata": {},
   "outputs": [
    {
     "name": "stdout",
     "output_type": "stream",
     "text": [
      "j\n",
      "a\n",
      "w\n",
      "a\n",
      "i\n",
      "r\n",
      "i\n",
      "a\n"
     ]
    },
    {
     "data": {
      "text/plain": [
       "'jawairia'"
      ]
     },
     "execution_count": 8,
     "metadata": {},
     "output_type": "execute_result"
    }
   ],
   "source": [
    "list3 = ['j','a','w','a','i','r','i','a']\n",
    "\n",
    "for elements in list3:\n",
    "    print(elements)\n",
    "    \n",
    "name=''\n",
    "\n",
    "for elements in list3:\n",
    "    name += elements\n",
    "name"
   ]
  },
  {
   "cell_type": "code",
   "execution_count": 9,
   "id": "fbf28c15",
   "metadata": {},
   "outputs": [
    {
     "name": "stdout",
     "output_type": "stream",
     "text": [
      "w\n",
      "o\n",
      "r\n",
      "d\n"
     ]
    }
   ],
   "source": [
    "list1 = ['w','o','r','d']\n",
    "for num in list1:\n",
    "    print(num)"
   ]
  },
  {
   "cell_type": "code",
   "execution_count": 10,
   "id": "38cd5674",
   "metadata": {},
   "outputs": [
    {
     "data": {
      "text/plain": [
       "'word'"
      ]
     },
     "execution_count": 10,
     "metadata": {},
     "output_type": "execute_result"
    }
   ],
   "source": [
    "name = \"\"\n",
    "\n",
    "for elements in list1:\n",
    "    name += elements \n",
    "name    "
   ]
  },
  {
   "cell_type": "code",
   "execution_count": 11,
   "id": "b1bb62b9",
   "metadata": {},
   "outputs": [
    {
     "name": "stdout",
     "output_type": "stream",
     "text": [
      "2\n",
      "4\n",
      "6\n",
      "8\n",
      "10\n"
     ]
    }
   ],
   "source": [
    "list1 = [1,2,3,4,5,6,7,8,9,10]\n",
    "\n",
    "for num in list1:\n",
    "    if num%2==0:\n",
    "        print(num)"
   ]
  },
  {
   "cell_type": "code",
   "execution_count": 12,
   "id": "f8f02edf",
   "metadata": {},
   "outputs": [
    {
     "name": "stdout",
     "output_type": "stream",
     "text": [
      "1\n",
      "3\n",
      "5\n",
      "7\n",
      "9\n"
     ]
    }
   ],
   "source": [
    "for num in list1:\n",
    "    if num%2!=0:\n",
    "        print(num)"
   ]
  },
  {
   "cell_type": "markdown",
   "id": "4509e6ab",
   "metadata": {},
   "source": [
    "# for loop Exercise"
   ]
  },
  {
   "cell_type": "code",
   "execution_count": 13,
   "id": "25edfba6",
   "metadata": {},
   "outputs": [],
   "source": [
    "#create empty list\n",
    "\n",
    "list1 = []\n",
    "\n",
    "#write for loop to assign each letter of \"result\" separately to list\n",
    "\n",
    "str_0 = 'result'\n",
    "for element in str_0:\n",
    "    list1.append(element)"
   ]
  },
  {
   "cell_type": "code",
   "execution_count": 14,
   "id": "ea98ea66",
   "metadata": {},
   "outputs": [
    {
     "data": {
      "text/plain": [
       "['r', 'e', 's', 'u', 'l', 't']"
      ]
     },
     "execution_count": 14,
     "metadata": {},
     "output_type": "execute_result"
    }
   ],
   "source": [
    "# print list1\n",
    "list1"
   ]
  },
  {
   "cell_type": "code",
   "execution_count": 15,
   "id": "f7037b09",
   "metadata": {},
   "outputs": [],
   "source": [
    "#create empty list\n",
    "\n",
    "list1 = []\n",
    "\n",
    "#write for loop to assign each letter of \"result\" separately to list\n",
    "\n",
    "str_1 = 'result'\n",
    "\n",
    "for elements in str_1:\n",
    "    \n",
    "    list1.append(elements)\n"
   ]
  },
  {
   "cell_type": "code",
   "execution_count": 16,
   "id": "2c39b085",
   "metadata": {},
   "outputs": [
    {
     "name": "stdout",
     "output_type": "stream",
     "text": [
      "['r', 'e', 's', 'u', 'l', 't']\n"
     ]
    }
   ],
   "source": [
    "# print list \n",
    "print(list1)"
   ]
  },
  {
   "cell_type": "code",
   "execution_count": 17,
   "id": "edf4bed7",
   "metadata": {},
   "outputs": [
    {
     "name": "stdout",
     "output_type": "stream",
     "text": [
      "x is currently:  0\n",
      " x is still less than 10, adding 1 to x\n",
      "x is currently:  1\n",
      " x is still less than 10, adding 1 to x\n",
      "x is currently:  2\n",
      " x is still less than 10, adding 1 to x\n",
      "x is currently:  3\n",
      " x is still less than 10, adding 1 to x\n",
      "x is currently:  4\n",
      " x is still less than 10, adding 1 to x\n",
      "x is currently:  5\n",
      " x is still less than 10, adding 1 to x\n",
      "x is currently:  6\n",
      " x is still less than 10, adding 1 to x\n",
      "x is currently:  7\n",
      " x is still less than 10, adding 1 to x\n",
      "x is currently:  8\n",
      " x is still less than 10, adding 1 to x\n",
      "x is currently:  9\n",
      " x is still less than 10, adding 1 to x\n",
      "All Done!\n"
     ]
    }
   ],
   "source": [
    "x = 0\n",
    "\n",
    "while x < 10:\n",
    "    print('x is currently: ',x)\n",
    "    print(' x is still less than 10, adding 1 to x')\n",
    "    x+=1\n",
    "    \n",
    "else:\n",
    "    print('All Done!')"
   ]
  },
  {
   "cell_type": "code",
   "execution_count": 31,
   "id": "c9d1e617",
   "metadata": {},
   "outputs": [
    {
     "name": "stdout",
     "output_type": "stream",
     "text": [
      "\n",
      " x is currently :  0\n",
      " x is still less than 3 , adding 1 to  0\n",
      " After adding 1 to x , Now x is :  1\n",
      "\n",
      " x is currently :  1\n",
      " x is still less than 3 , adding 1 to  1\n",
      " After adding 1 to x , Now x is :  2\n",
      "\n",
      " x is currently :  2\n",
      " x is still less than 3 , adding 1 to  2\n",
      " After adding 1 to x , Now x is :  3\n",
      "\n",
      " All is done !\n"
     ]
    }
   ],
   "source": [
    "x = 0\n",
    "while x < 3:\n",
    "    print('\\n x is currently : ' , x)\n",
    "    print(' x is still less than 3 , adding 1 to ', x)\n",
    "    x+=1\n",
    "    print(' After adding 1 to x , Now x is : ' , x)\n",
    "else:\n",
    "    print('\\n All is done !')"
   ]
  },
  {
   "cell_type": "code",
   "execution_count": null,
   "id": "61be7eec",
   "metadata": {},
   "outputs": [],
   "source": [
    "x = 0\n",
    "\n",
    "while x < 10:\n",
    "    print('x is currently: ',x)\n",
    "    print(' x is still less than 10, adding 1 to x')\n",
    "    x+=1\n",
    "    if x==3:\n",
    "        print('x==3')\n",
    "    else:\n",
    "        print('continuing...')\n",
    "        continue #pass\n",
    "        print('is this executed?')"
   ]
  },
  {
   "cell_type": "code",
   "execution_count": 33,
   "id": "d0947a61",
   "metadata": {},
   "outputs": [
    {
     "name": "stdout",
     "output_type": "stream",
     "text": [
      "x is currently: 0\n",
      "x is still less than 10, adding 1 to x 0\n",
      "continuing....\n",
      "x is currently: 1\n",
      "x is still less than 10, adding 1 to x 1\n",
      "continuing....\n",
      "x is currently: 2\n",
      "x is still less than 10, adding 1 to x 2\n",
      "x==3\n",
      "x is currently: 3\n",
      "x is still less than 10, adding 1 to x 3\n",
      "continuing....\n",
      "x is currently: 4\n",
      "x is still less than 10, adding 1 to x 4\n",
      "continuing....\n",
      "x is currently: 5\n",
      "x is still less than 10, adding 1 to x 5\n",
      "continuing....\n",
      "x is currently: 6\n",
      "x is still less than 10, adding 1 to x 6\n",
      "continuing....\n",
      "x is currently: 7\n",
      "x is still less than 10, adding 1 to x 7\n",
      "continuing....\n",
      "x is currently: 8\n",
      "x is still less than 10, adding 1 to x 8\n",
      "continuing....\n",
      "x is currently: 9\n",
      "x is still less than 10, adding 1 to x 9\n",
      "continuing....\n"
     ]
    }
   ],
   "source": [
    "x = 0\n",
    "while x <10:\n",
    "    print('x is currently:', x)\n",
    "    print('x is still less than 10, adding 1 to x' , x)\n",
    "    x+=1\n",
    "    if x==3:\n",
    "        print('x==3')\n",
    "    else:\n",
    "        print('continuing....')    \n",
    "        continue \n",
    "        print('Is this executed ?')"
   ]
  },
  {
   "cell_type": "code",
   "execution_count": 34,
   "id": "c4884f5f",
   "metadata": {},
   "outputs": [
    {
     "name": "stdout",
     "output_type": "stream",
     "text": [
      "x is currently:  0\n",
      " x is still less than 10, adding 1 to x\n",
      "continuing...\n",
      "x is currently:  1\n",
      " x is still less than 10, adding 1 to x\n",
      "continuing...\n",
      "x is currently:  2\n",
      " x is still less than 10, adding 1 to x\n",
      "Breaking because x==3\n"
     ]
    }
   ],
   "source": [
    "x = 0\n",
    "\n",
    "while x < 10:\n",
    "    print('x is currently: ',x)\n",
    "    print(' x is still less than 10, adding 1 to x')\n",
    "    x+=1\n",
    "    if x==3:\n",
    "        print('Breaking because x==3')\n",
    "        break\n",
    "    else:\n",
    "        print('continuing...')\n",
    "        continue"
   ]
  },
  {
   "cell_type": "code",
   "execution_count": null,
   "id": "4add83ce",
   "metadata": {},
   "outputs": [],
   "source": []
  }
 ],
 "metadata": {
  "kernelspec": {
   "display_name": "Python 3",
   "language": "python",
   "name": "python3"
  },
  "language_info": {
   "codemirror_mode": {
    "name": "ipython",
    "version": 3
   },
   "file_extension": ".py",
   "mimetype": "text/x-python",
   "name": "python",
   "nbconvert_exporter": "python",
   "pygments_lexer": "ipython3",
   "version": "3.8.8"
  }
 },
 "nbformat": 4,
 "nbformat_minor": 5
}
