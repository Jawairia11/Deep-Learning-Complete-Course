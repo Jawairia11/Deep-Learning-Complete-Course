{
 "cells": [
  {
   "cell_type": "code",
   "execution_count": 1,
   "metadata": {
    "colab": {
     "base_uri": "https://localhost:8080/"
    },
    "executionInfo": {
     "elapsed": 4369,
     "status": "ok",
     "timestamp": 1670044580391,
     "user": {
      "displayName": "umar khan",
      "userId": "10949049121784379174"
     },
     "user_tz": -300
    },
    "id": "aFbkxY1mU2QA",
    "outputId": "3ea5c3f0-e2f9-44ee-b0dc-a3add45fc578"
   },
   "outputs": [
    {
     "name": "stdout",
     "output_type": "stream",
     "text": [
      "2.13.0\n"
     ]
    }
   ],
   "source": [
    "# get tensorflow \n",
    "\n",
    "import tensorflow as tf\n",
    "print(tf.__version__)"
   ]
  },
  {
   "cell_type": "code",
   "execution_count": 2,
   "metadata": {
    "executionInfo": {
     "elapsed": 7,
     "status": "ok",
     "timestamp": 1670044586201,
     "user": {
      "displayName": "umar khan",
      "userId": "10949049121784379174"
     },
     "user_tz": -300
    },
    "id": "QVQEwg7bVP0y"
   },
   "outputs": [],
   "source": [
    "# get dataset from sklearn\n",
    "\n",
    "from sklearn.datasets import load_breast_cancer\n",
    "data_bc=load_breast_cancer()"
   ]
  },
  {
   "cell_type": "code",
   "execution_count": 3,
   "metadata": {
    "colab": {
     "base_uri": "https://localhost:8080/"
    },
    "executionInfo": {
     "elapsed": 1395,
     "status": "ok",
     "timestamp": 1670044590542,
     "user": {
      "displayName": "umar khan",
      "userId": "10949049121784379174"
     },
     "user_tz": -300
    },
    "id": "rseXXKH-VbqO",
    "outputId": "c8f5de53-a4e1-483f-e7ab-4321dff84171"
   },
   "outputs": [
    {
     "data": {
      "text/plain": [
       "dict_keys(['data', 'target', 'frame', 'target_names', 'DESCR', 'feature_names', 'filename', 'data_module'])"
      ]
     },
     "execution_count": 3,
     "metadata": {},
     "output_type": "execute_result"
    }
   ],
   "source": [
    "# explore dataset\n",
    "\n",
    "data_bc.keys()"
   ]
  },
  {
   "cell_type": "code",
   "execution_count": 5,
   "metadata": {
    "colab": {
     "base_uri": "https://localhost:8080/"
    },
    "executionInfo": {
     "elapsed": 358,
     "status": "ok",
     "timestamp": 1670044653930,
     "user": {
      "displayName": "umar khan",
      "userId": "10949049121784379174"
     },
     "user_tz": -300
    },
    "id": "GcRgTlNTVgh3",
    "outputId": "f0b41e49-29c8-4453-c071-7451f36dc086"
   },
   "outputs": [
    {
     "name": "stdout",
     "output_type": "stream",
     "text": [
      "(569, 30) \n",
      "\n",
      " ['mean radius' 'mean texture' 'mean perimeter' 'mean area'\n",
      " 'mean smoothness' 'mean compactness' 'mean concavity'\n",
      " 'mean concave points' 'mean symmetry' 'mean fractal dimension'\n",
      " 'radius error' 'texture error' 'perimeter error' 'area error'\n",
      " 'smoothness error' 'compactness error' 'concavity error'\n",
      " 'concave points error' 'symmetry error' 'fractal dimension error'\n",
      " 'worst radius' 'worst texture' 'worst perimeter' 'worst area'\n",
      " 'worst smoothness' 'worst compactness' 'worst concavity'\n",
      " 'worst concave points' 'worst symmetry' 'worst fractal dimension'] \n",
      "\n",
      " (569,) \n",
      "\n",
      " ['malignant' 'benign']\n"
     ]
    }
   ],
   "source": [
    "print(data_bc.data.shape,'\\n\\n',data_bc.feature_names,'\\n\\n',data_bc.target.shape,'\\n\\n',data_bc.target_names)"
   ]
  },
  {
   "cell_type": "code",
   "execution_count": 6,
   "metadata": {
    "colab": {
     "base_uri": "https://localhost:8080/"
    },
    "executionInfo": {
     "elapsed": 401,
     "status": "ok",
     "timestamp": 1670044739822,
     "user": {
      "displayName": "umar khan",
      "userId": "10949049121784379174"
     },
     "user_tz": -300
    },
    "id": "Y0jnQCLJVtdj",
    "outputId": "ff230ead-a53c-4051-b850-ff1e680c78e5"
   },
   "outputs": [
    {
     "data": {
      "text/plain": [
       "array([0, 0, 0, 0, 0, 0, 0, 0, 0, 0, 0, 0, 0, 0, 0, 0, 0, 0, 0, 1, 1, 1,\n",
       "       0, 0, 0, 0, 0, 0, 0, 0, 0, 0, 0, 0, 0, 0, 0, 1, 0, 0, 0, 0, 0, 0,\n",
       "       0, 0, 1, 0, 1, 1, 1, 1, 1, 0, 0, 1, 0, 0, 1, 1, 1, 1, 0, 1, 0, 0,\n",
       "       1, 1, 1, 1, 0, 1, 0, 0, 1, 0, 1, 0, 0, 1, 1, 1, 0, 0, 1, 0, 0, 0,\n",
       "       1, 1, 1, 0, 1, 1, 0, 0, 1, 1, 1, 0, 0, 1, 1, 1, 1, 0, 1, 1, 0, 1,\n",
       "       1, 1, 1, 1, 1, 1, 1, 0, 0, 0, 1, 0, 0, 1, 1, 1, 0, 0, 1, 0, 1, 0,\n",
       "       0, 1, 0, 0, 1, 1, 0, 1, 1, 0, 1, 1, 1, 1, 0, 1, 1, 1, 1, 1, 1, 1,\n",
       "       1, 1, 0, 1, 1, 1, 1, 0, 0, 1, 0, 1, 1, 0, 0, 1, 1, 0, 0, 1, 1, 1,\n",
       "       1, 0, 1, 1, 0, 0, 0, 1, 0, 1, 0, 1, 1, 1, 0, 1, 1, 0, 0, 1, 0, 0,\n",
       "       0, 0, 1, 0, 0, 0, 1, 0, 1, 0, 1, 1, 0, 1, 0, 0, 0, 0, 1, 1, 0, 0,\n",
       "       1, 1, 1, 0, 1, 1, 1, 1, 1, 0, 0, 1, 1, 0, 1, 1, 0, 0, 1, 0, 1, 1,\n",
       "       1, 1, 0, 1, 1, 1, 1, 1, 0, 1, 0, 0, 0, 0, 0, 0, 0, 0, 0, 0, 0, 0,\n",
       "       0, 0, 1, 1, 1, 1, 1, 1, 0, 1, 0, 1, 1, 0, 1, 1, 0, 1, 0, 0, 1, 1,\n",
       "       1, 1, 1, 1, 1, 1, 1, 1, 1, 1, 1, 0, 1, 1, 0, 1, 0, 1, 1, 1, 1, 1,\n",
       "       1, 1, 1, 1, 1, 1, 1, 1, 1, 0, 1, 1, 1, 0, 1, 0, 1, 1, 1, 1, 0, 0,\n",
       "       0, 1, 1, 1, 1, 0, 1, 0, 1, 0, 1, 1, 1, 0, 1, 1, 1, 1, 1, 1, 1, 0,\n",
       "       0, 0, 1, 1, 1, 1, 1, 1, 1, 1, 1, 1, 1, 0, 0, 1, 0, 0, 0, 1, 0, 0,\n",
       "       1, 1, 1, 1, 1, 0, 1, 1, 1, 1, 1, 0, 1, 1, 1, 0, 1, 1, 0, 0, 1, 1,\n",
       "       1, 1, 1, 1, 0, 1, 1, 1, 1, 1, 1, 1, 0, 1, 1, 1, 1, 1, 0, 1, 1, 0,\n",
       "       1, 1, 1, 1, 1, 1, 1, 1, 1, 1, 1, 1, 0, 1, 0, 0, 1, 0, 1, 1, 1, 1,\n",
       "       1, 0, 1, 1, 0, 1, 0, 1, 1, 0, 1, 0, 1, 1, 1, 1, 1, 1, 1, 1, 0, 0,\n",
       "       1, 1, 1, 1, 1, 1, 0, 1, 1, 1, 1, 1, 1, 1, 1, 1, 1, 0, 1, 1, 1, 1,\n",
       "       1, 1, 1, 0, 1, 0, 1, 1, 0, 1, 1, 1, 1, 1, 0, 0, 1, 0, 1, 0, 1, 1,\n",
       "       1, 1, 1, 0, 1, 1, 0, 1, 0, 1, 0, 0, 1, 1, 1, 0, 1, 1, 1, 1, 1, 1,\n",
       "       1, 1, 1, 1, 1, 0, 1, 0, 0, 1, 1, 1, 1, 1, 1, 1, 1, 1, 1, 1, 1, 1,\n",
       "       1, 1, 1, 1, 1, 1, 1, 1, 1, 1, 1, 1, 0, 0, 0, 0, 0, 0, 1])"
      ]
     },
     "execution_count": 6,
     "metadata": {},
     "output_type": "execute_result"
    }
   ],
   "source": [
    "data_bc.target"
   ]
  },
  {
   "cell_type": "code",
   "execution_count": 7,
   "metadata": {
    "executionInfo": {
     "elapsed": 367,
     "status": "ok",
     "timestamp": 1670045670932,
     "user": {
      "displayName": "umar khan",
      "userId": "10949049121784379174"
     },
     "user_tz": -300
    },
    "id": "Ax4aJ_TAVv1U"
   },
   "outputs": [],
   "source": [
    "# split data into train and test datasets\n",
    "\n",
    "from sklearn.model_selection import train_test_split"
   ]
  },
  {
   "cell_type": "code",
   "execution_count": 8,
   "metadata": {
    "executionInfo": {
     "elapsed": 4,
     "status": "ok",
     "timestamp": 1670045762888,
     "user": {
      "displayName": "umar khan",
      "userId": "10949049121784379174"
     },
     "user_tz": -300
    },
    "id": "RJBjZ_hRWGvA"
   },
   "outputs": [],
   "source": [
    "x_train,x_test,y_train,y_test=train_test_split(data_bc.data,data_bc.target,test_size=0.2,random_state=42) # order is important "
   ]
  },
  {
   "cell_type": "code",
   "execution_count": 9,
   "metadata": {
    "executionInfo": {
     "elapsed": 3,
     "status": "ok",
     "timestamp": 1670045831564,
     "user": {
      "displayName": "umar khan",
      "userId": "10949049121784379174"
     },
     "user_tz": -300
    },
    "id": "T9RtRTvcWSXr"
   },
   "outputs": [],
   "source": [
    "m,n=x_train.shape # m number of examples , n number of features"
   ]
  },
  {
   "cell_type": "code",
   "execution_count": 10,
   "metadata": {
    "executionInfo": {
     "elapsed": 375,
     "status": "ok",
     "timestamp": 1670045846275,
     "user": {
      "displayName": "umar khan",
      "userId": "10949049121784379174"
     },
     "user_tz": -300
    },
    "id": "iMffEK7oWTgR"
   },
   "outputs": [],
   "source": [
    "#normalize the data \n",
    "\n",
    "from sklearn.preprocessing import StandardScaler"
   ]
  },
  {
   "cell_type": "code",
   "execution_count": 11,
   "metadata": {
    "executionInfo": {
     "elapsed": 362,
     "status": "ok",
     "timestamp": 1670045913860,
     "user": {
      "displayName": "umar khan",
      "userId": "10949049121784379174"
     },
     "user_tz": -300
    },
    "id": "ld9mDRgkWak0"
   },
   "outputs": [],
   "source": [
    "ss=StandardScaler()\n",
    "\n",
    "x_train=ss.fit_transform(x_train) # parameters are computed as well \n",
    "\n",
    "x_test=ss.transform(x_test) # only transform, using the above found parameters "
   ]
  },
  {
   "cell_type": "code",
   "execution_count": 12,
   "metadata": {
    "id": "zmfJkV0IrKBK"
   },
   "outputs": [],
   "source": [
    "# import joblib\n",
    "# joblib.dump(ss,'ss.bin',compress=True)\n",
    "# ss_loaded=joblib.load('ss.bin')\n",
    "# ss_loaded.transform(x_test)"
   ]
  },
  {
   "cell_type": "code",
   "execution_count": 13,
   "metadata": {
    "colab": {
     "base_uri": "https://localhost:8080/"
    },
    "executionInfo": {
     "elapsed": 616,
     "status": "ok",
     "timestamp": 1670048474407,
     "user": {
      "displayName": "umar khan",
      "userId": "10949049121784379174"
     },
     "user_tz": -300
    },
    "id": "F5Z_ZfOMpSTz",
    "outputId": "1ff8d99b-b94e-4a8f-a268-85c702e30f1d"
   },
   "outputs": [
    {
     "name": "stdout",
     "output_type": "stream",
     "text": [
      "30\n"
     ]
    }
   ],
   "source": [
    "n=x_train.shape[1]\n",
    "print(n) # 32 "
   ]
  },
  {
   "cell_type": "code",
   "execution_count": 14,
   "metadata": {
    "colab": {
     "base_uri": "https://localhost:8080/"
    },
    "executionInfo": {
     "elapsed": 373,
     "status": "ok",
     "timestamp": 1670047525130,
     "user": {
      "displayName": "umar khan",
      "userId": "10949049121784379174"
     },
     "user_tz": -300
    },
    "id": "d-OAycZeW3Mq",
    "outputId": "72c96f50-f8d2-446b-fa1b-d2959de7091f"
   },
   "outputs": [
    {
     "name": "stdout",
     "output_type": "stream",
     "text": [
      "Model: \"sequential\"\n",
      "_________________________________________________________________\n",
      " Layer (type)                Output Shape              Param #   \n",
      "=================================================================\n",
      " dense (Dense)               (None, 1)                 31        \n",
      "                                                                 \n",
      "=================================================================\n",
      "Total params: 31 (124.00 Byte)\n",
      "Trainable params: 31 (124.00 Byte)\n",
      "Non-trainable params: 0 (0.00 Byte)\n",
      "_________________________________________________________________\n"
     ]
    }
   ],
   "source": [
    "# build model \n",
    "\n",
    "\n",
    "btc=tf.keras.models.Sequential()\n",
    "btc.add(tf.keras.layers.Dense(1,input_shape=(n,),activation='sigmoid')) # input size  -- 1D # m,d\n",
    "\n",
    "btc.compile(optimizer='adam',loss='binary_crossentropy',metrics=['accuracy'])\n",
    "btc.summary()"
   ]
  },
  {
   "cell_type": "code",
   "execution_count": 15,
   "metadata": {
    "colab": {
     "base_uri": "https://localhost:8080/"
    },
    "executionInfo": {
     "elapsed": 10759,
     "status": "ok",
     "timestamp": 1670047670261,
     "user": {
      "displayName": "umar khan",
      "userId": "10949049121784379174"
     },
     "user_tz": -300
    },
    "id": "KzjmSL2EXetK",
    "outputId": "29bd5074-ef25-4856-ab2a-4adeaec0f86e"
   },
   "outputs": [
    {
     "name": "stdout",
     "output_type": "stream",
     "text": [
      "Epoch 1/100\n",
      "15/15 [==============================] - 1s 26ms/step - loss: 1.1176 - accuracy: 0.3231 - val_loss: 1.0306 - val_accuracy: 0.3684\n",
      "Epoch 2/100\n",
      "15/15 [==============================] - 0s 6ms/step - loss: 0.9852 - accuracy: 0.3978 - val_loss: 0.9061 - val_accuracy: 0.4298\n",
      "Epoch 3/100\n",
      "15/15 [==============================] - 0s 7ms/step - loss: 0.8670 - accuracy: 0.4527 - val_loss: 0.7971 - val_accuracy: 0.5000\n",
      "Epoch 4/100\n",
      "15/15 [==============================] - 0s 7ms/step - loss: 0.7644 - accuracy: 0.5253 - val_loss: 0.7034 - val_accuracy: 0.6140\n",
      "Epoch 5/100\n",
      "15/15 [==============================] - 0s 6ms/step - loss: 0.6782 - accuracy: 0.6132 - val_loss: 0.6254 - val_accuracy: 0.6754\n",
      "Epoch 6/100\n",
      "15/15 [==============================] - 0s 6ms/step - loss: 0.6047 - accuracy: 0.6769 - val_loss: 0.5607 - val_accuracy: 0.7456\n",
      "Epoch 7/100\n",
      "15/15 [==============================] - 0s 7ms/step - loss: 0.5458 - accuracy: 0.7297 - val_loss: 0.5082 - val_accuracy: 0.7807\n",
      "Epoch 8/100\n",
      "15/15 [==============================] - 0s 8ms/step - loss: 0.4970 - accuracy: 0.7846 - val_loss: 0.4637 - val_accuracy: 0.8246\n",
      "Epoch 9/100\n",
      "15/15 [==============================] - 0s 8ms/step - loss: 0.4546 - accuracy: 0.8176 - val_loss: 0.4264 - val_accuracy: 0.8509\n",
      "Epoch 10/100\n",
      "15/15 [==============================] - 0s 7ms/step - loss: 0.4200 - accuracy: 0.8484 - val_loss: 0.3940 - val_accuracy: 0.9035\n",
      "Epoch 11/100\n",
      "15/15 [==============================] - 0s 7ms/step - loss: 0.3904 - accuracy: 0.8637 - val_loss: 0.3665 - val_accuracy: 0.9386\n",
      "Epoch 12/100\n",
      "15/15 [==============================] - 0s 7ms/step - loss: 0.3649 - accuracy: 0.8835 - val_loss: 0.3431 - val_accuracy: 0.9474\n",
      "Epoch 13/100\n",
      "15/15 [==============================] - 0s 6ms/step - loss: 0.3435 - accuracy: 0.8945 - val_loss: 0.3228 - val_accuracy: 0.9474\n",
      "Epoch 14/100\n",
      "15/15 [==============================] - 0s 6ms/step - loss: 0.3251 - accuracy: 0.9099 - val_loss: 0.3051 - val_accuracy: 0.9474\n",
      "Epoch 15/100\n",
      "15/15 [==============================] - 0s 5ms/step - loss: 0.3091 - accuracy: 0.9143 - val_loss: 0.2894 - val_accuracy: 0.9474\n",
      "Epoch 16/100\n",
      "15/15 [==============================] - 0s 6ms/step - loss: 0.2951 - accuracy: 0.9231 - val_loss: 0.2757 - val_accuracy: 0.9474\n",
      "Epoch 17/100\n",
      "15/15 [==============================] - 0s 6ms/step - loss: 0.2824 - accuracy: 0.9253 - val_loss: 0.2633 - val_accuracy: 0.9474\n",
      "Epoch 18/100\n",
      "15/15 [==============================] - 0s 6ms/step - loss: 0.2712 - accuracy: 0.9275 - val_loss: 0.2519 - val_accuracy: 0.9474\n",
      "Epoch 19/100\n",
      "15/15 [==============================] - 0s 5ms/step - loss: 0.2612 - accuracy: 0.9319 - val_loss: 0.2410 - val_accuracy: 0.9561\n",
      "Epoch 20/100\n",
      "15/15 [==============================] - 0s 6ms/step - loss: 0.2515 - accuracy: 0.9385 - val_loss: 0.2315 - val_accuracy: 0.9649\n",
      "Epoch 21/100\n",
      "15/15 [==============================] - 0s 6ms/step - loss: 0.2432 - accuracy: 0.9429 - val_loss: 0.2230 - val_accuracy: 0.9649\n",
      "Epoch 22/100\n",
      "15/15 [==============================] - 0s 6ms/step - loss: 0.2356 - accuracy: 0.9451 - val_loss: 0.2152 - val_accuracy: 0.9649\n",
      "Epoch 23/100\n",
      "15/15 [==============================] - 0s 6ms/step - loss: 0.2287 - accuracy: 0.9495 - val_loss: 0.2081 - val_accuracy: 0.9649\n",
      "Epoch 24/100\n",
      "15/15 [==============================] - 0s 5ms/step - loss: 0.2225 - accuracy: 0.9495 - val_loss: 0.2015 - val_accuracy: 0.9649\n",
      "Epoch 25/100\n",
      "15/15 [==============================] - 0s 5ms/step - loss: 0.2164 - accuracy: 0.9473 - val_loss: 0.1958 - val_accuracy: 0.9649\n",
      "Epoch 26/100\n",
      "15/15 [==============================] - 0s 5ms/step - loss: 0.2111 - accuracy: 0.9473 - val_loss: 0.1900 - val_accuracy: 0.9649\n",
      "Epoch 27/100\n",
      "15/15 [==============================] - 0s 5ms/step - loss: 0.2059 - accuracy: 0.9495 - val_loss: 0.1849 - val_accuracy: 0.9737\n",
      "Epoch 28/100\n",
      "15/15 [==============================] - 0s 5ms/step - loss: 0.2012 - accuracy: 0.9495 - val_loss: 0.1797 - val_accuracy: 0.9737\n",
      "Epoch 29/100\n",
      "15/15 [==============================] - 0s 5ms/step - loss: 0.1964 - accuracy: 0.9538 - val_loss: 0.1752 - val_accuracy: 0.9737\n",
      "Epoch 30/100\n",
      "15/15 [==============================] - 0s 6ms/step - loss: 0.1919 - accuracy: 0.9560 - val_loss: 0.1709 - val_accuracy: 0.9737\n",
      "Epoch 31/100\n",
      "15/15 [==============================] - 0s 5ms/step - loss: 0.1879 - accuracy: 0.9560 - val_loss: 0.1668 - val_accuracy: 0.9737\n",
      "Epoch 32/100\n",
      "15/15 [==============================] - 0s 5ms/step - loss: 0.1841 - accuracy: 0.9582 - val_loss: 0.1631 - val_accuracy: 0.9737\n",
      "Epoch 33/100\n",
      "15/15 [==============================] - 0s 6ms/step - loss: 0.1805 - accuracy: 0.9582 - val_loss: 0.1594 - val_accuracy: 0.9737\n",
      "Epoch 34/100\n",
      "15/15 [==============================] - 0s 5ms/step - loss: 0.1771 - accuracy: 0.9626 - val_loss: 0.1562 - val_accuracy: 0.9737\n",
      "Epoch 35/100\n",
      "15/15 [==============================] - 0s 6ms/step - loss: 0.1738 - accuracy: 0.9626 - val_loss: 0.1530 - val_accuracy: 0.9825\n",
      "Epoch 36/100\n",
      "15/15 [==============================] - 0s 6ms/step - loss: 0.1707 - accuracy: 0.9626 - val_loss: 0.1498 - val_accuracy: 0.9825\n",
      "Epoch 37/100\n",
      "15/15 [==============================] - 0s 5ms/step - loss: 0.1679 - accuracy: 0.9626 - val_loss: 0.1473 - val_accuracy: 0.9825\n",
      "Epoch 38/100\n",
      "15/15 [==============================] - 0s 5ms/step - loss: 0.1652 - accuracy: 0.9670 - val_loss: 0.1447 - val_accuracy: 0.9825\n",
      "Epoch 39/100\n",
      "15/15 [==============================] - 0s 6ms/step - loss: 0.1625 - accuracy: 0.9692 - val_loss: 0.1421 - val_accuracy: 0.9825\n",
      "Epoch 40/100\n",
      "15/15 [==============================] - 0s 6ms/step - loss: 0.1599 - accuracy: 0.9692 - val_loss: 0.1397 - val_accuracy: 0.9912\n",
      "Epoch 41/100\n",
      "15/15 [==============================] - 0s 6ms/step - loss: 0.1574 - accuracy: 0.9692 - val_loss: 0.1373 - val_accuracy: 0.9912\n",
      "Epoch 42/100\n",
      "15/15 [==============================] - 0s 5ms/step - loss: 0.1550 - accuracy: 0.9692 - val_loss: 0.1351 - val_accuracy: 0.9912\n",
      "Epoch 43/100\n",
      "15/15 [==============================] - 0s 5ms/step - loss: 0.1529 - accuracy: 0.9692 - val_loss: 0.1330 - val_accuracy: 0.9912\n",
      "Epoch 44/100\n",
      "15/15 [==============================] - 0s 6ms/step - loss: 0.1507 - accuracy: 0.9692 - val_loss: 0.1310 - val_accuracy: 0.9912\n",
      "Epoch 45/100\n",
      "15/15 [==============================] - 0s 6ms/step - loss: 0.1486 - accuracy: 0.9670 - val_loss: 0.1290 - val_accuracy: 0.9912\n",
      "Epoch 46/100\n",
      "15/15 [==============================] - 0s 6ms/step - loss: 0.1466 - accuracy: 0.9670 - val_loss: 0.1271 - val_accuracy: 0.9912\n",
      "Epoch 47/100\n",
      "15/15 [==============================] - 0s 6ms/step - loss: 0.1448 - accuracy: 0.9670 - val_loss: 0.1253 - val_accuracy: 0.9912\n",
      "Epoch 48/100\n",
      "15/15 [==============================] - 0s 6ms/step - loss: 0.1428 - accuracy: 0.9670 - val_loss: 0.1236 - val_accuracy: 0.9912\n",
      "Epoch 49/100\n",
      "15/15 [==============================] - 0s 6ms/step - loss: 0.1410 - accuracy: 0.9670 - val_loss: 0.1220 - val_accuracy: 0.9912\n",
      "Epoch 50/100\n",
      "15/15 [==============================] - 0s 6ms/step - loss: 0.1393 - accuracy: 0.9670 - val_loss: 0.1204 - val_accuracy: 0.9912\n",
      "Epoch 51/100\n",
      "15/15 [==============================] - 0s 7ms/step - loss: 0.1377 - accuracy: 0.9692 - val_loss: 0.1189 - val_accuracy: 0.9912\n",
      "Epoch 52/100\n",
      "15/15 [==============================] - 0s 6ms/step - loss: 0.1360 - accuracy: 0.9714 - val_loss: 0.1175 - val_accuracy: 0.9912\n",
      "Epoch 53/100\n",
      "15/15 [==============================] - 0s 5ms/step - loss: 0.1345 - accuracy: 0.9736 - val_loss: 0.1160 - val_accuracy: 0.9912\n",
      "Epoch 54/100\n",
      "15/15 [==============================] - 0s 5ms/step - loss: 0.1331 - accuracy: 0.9736 - val_loss: 0.1147 - val_accuracy: 0.9912\n",
      "Epoch 55/100\n",
      "15/15 [==============================] - 0s 6ms/step - loss: 0.1316 - accuracy: 0.9758 - val_loss: 0.1134 - val_accuracy: 0.9912\n",
      "Epoch 56/100\n",
      "15/15 [==============================] - 0s 6ms/step - loss: 0.1302 - accuracy: 0.9758 - val_loss: 0.1121 - val_accuracy: 0.9912\n",
      "Epoch 57/100\n",
      "15/15 [==============================] - 0s 6ms/step - loss: 0.1289 - accuracy: 0.9758 - val_loss: 0.1109 - val_accuracy: 0.9912\n",
      "Epoch 58/100\n",
      "15/15 [==============================] - 0s 6ms/step - loss: 0.1276 - accuracy: 0.9758 - val_loss: 0.1097 - val_accuracy: 0.9912\n"
     ]
    },
    {
     "name": "stdout",
     "output_type": "stream",
     "text": [
      "Epoch 59/100\n",
      "15/15 [==============================] - 0s 6ms/step - loss: 0.1263 - accuracy: 0.9758 - val_loss: 0.1085 - val_accuracy: 0.9912\n",
      "Epoch 60/100\n",
      "15/15 [==============================] - 0s 6ms/step - loss: 0.1250 - accuracy: 0.9758 - val_loss: 0.1075 - val_accuracy: 0.9912\n",
      "Epoch 61/100\n",
      "15/15 [==============================] - 0s 6ms/step - loss: 0.1239 - accuracy: 0.9758 - val_loss: 0.1064 - val_accuracy: 0.9912\n",
      "Epoch 62/100\n",
      "15/15 [==============================] - 0s 5ms/step - loss: 0.1227 - accuracy: 0.9758 - val_loss: 0.1055 - val_accuracy: 0.9912\n",
      "Epoch 63/100\n",
      "15/15 [==============================] - 0s 7ms/step - loss: 0.1216 - accuracy: 0.9758 - val_loss: 0.1045 - val_accuracy: 0.9912\n",
      "Epoch 64/100\n",
      "15/15 [==============================] - 0s 6ms/step - loss: 0.1206 - accuracy: 0.9758 - val_loss: 0.1035 - val_accuracy: 0.9912\n",
      "Epoch 65/100\n",
      "15/15 [==============================] - 0s 6ms/step - loss: 0.1195 - accuracy: 0.9758 - val_loss: 0.1026 - val_accuracy: 0.9912\n",
      "Epoch 66/100\n",
      "15/15 [==============================] - 0s 5ms/step - loss: 0.1185 - accuracy: 0.9758 - val_loss: 0.1016 - val_accuracy: 0.9912\n",
      "Epoch 67/100\n",
      "15/15 [==============================] - 0s 5ms/step - loss: 0.1175 - accuracy: 0.9758 - val_loss: 0.1008 - val_accuracy: 0.9912\n",
      "Epoch 68/100\n",
      "15/15 [==============================] - 0s 5ms/step - loss: 0.1165 - accuracy: 0.9758 - val_loss: 0.0999 - val_accuracy: 0.9912\n",
      "Epoch 69/100\n",
      "15/15 [==============================] - 0s 5ms/step - loss: 0.1156 - accuracy: 0.9758 - val_loss: 0.0990 - val_accuracy: 0.9912\n",
      "Epoch 70/100\n",
      "15/15 [==============================] - 0s 5ms/step - loss: 0.1146 - accuracy: 0.9758 - val_loss: 0.0982 - val_accuracy: 0.9912\n",
      "Epoch 71/100\n",
      "15/15 [==============================] - 0s 5ms/step - loss: 0.1138 - accuracy: 0.9780 - val_loss: 0.0974 - val_accuracy: 0.9912\n",
      "Epoch 72/100\n",
      "15/15 [==============================] - 0s 5ms/step - loss: 0.1129 - accuracy: 0.9780 - val_loss: 0.0966 - val_accuracy: 0.9912\n",
      "Epoch 73/100\n",
      "15/15 [==============================] - 0s 5ms/step - loss: 0.1121 - accuracy: 0.9780 - val_loss: 0.0959 - val_accuracy: 0.9912\n",
      "Epoch 74/100\n",
      "15/15 [==============================] - 0s 5ms/step - loss: 0.1113 - accuracy: 0.9780 - val_loss: 0.0952 - val_accuracy: 0.9912\n",
      "Epoch 75/100\n",
      "15/15 [==============================] - 0s 5ms/step - loss: 0.1105 - accuracy: 0.9780 - val_loss: 0.0945 - val_accuracy: 0.9912\n",
      "Epoch 76/100\n",
      "15/15 [==============================] - 0s 5ms/step - loss: 0.1096 - accuracy: 0.9780 - val_loss: 0.0938 - val_accuracy: 0.9912\n",
      "Epoch 77/100\n",
      "15/15 [==============================] - 0s 5ms/step - loss: 0.1089 - accuracy: 0.9780 - val_loss: 0.0931 - val_accuracy: 0.9912\n",
      "Epoch 78/100\n",
      "15/15 [==============================] - 0s 5ms/step - loss: 0.1081 - accuracy: 0.9780 - val_loss: 0.0925 - val_accuracy: 0.9912\n",
      "Epoch 79/100\n",
      "15/15 [==============================] - 0s 6ms/step - loss: 0.1074 - accuracy: 0.9780 - val_loss: 0.0919 - val_accuracy: 0.9912\n",
      "Epoch 80/100\n",
      "15/15 [==============================] - 0s 5ms/step - loss: 0.1067 - accuracy: 0.9780 - val_loss: 0.0913 - val_accuracy: 0.9912\n",
      "Epoch 81/100\n",
      "15/15 [==============================] - 0s 5ms/step - loss: 0.1060 - accuracy: 0.9780 - val_loss: 0.0906 - val_accuracy: 0.9912\n",
      "Epoch 82/100\n",
      "15/15 [==============================] - 0s 6ms/step - loss: 0.1053 - accuracy: 0.9780 - val_loss: 0.0900 - val_accuracy: 0.9912\n",
      "Epoch 83/100\n",
      "15/15 [==============================] - 0s 5ms/step - loss: 0.1046 - accuracy: 0.9780 - val_loss: 0.0894 - val_accuracy: 0.9912\n",
      "Epoch 84/100\n",
      "15/15 [==============================] - 0s 5ms/step - loss: 0.1039 - accuracy: 0.9802 - val_loss: 0.0889 - val_accuracy: 0.9912\n",
      "Epoch 85/100\n",
      "15/15 [==============================] - 0s 5ms/step - loss: 0.1033 - accuracy: 0.9802 - val_loss: 0.0883 - val_accuracy: 0.9912\n",
      "Epoch 86/100\n",
      "15/15 [==============================] - 0s 5ms/step - loss: 0.1027 - accuracy: 0.9802 - val_loss: 0.0877 - val_accuracy: 0.9912\n",
      "Epoch 87/100\n",
      "15/15 [==============================] - 0s 5ms/step - loss: 0.1021 - accuracy: 0.9802 - val_loss: 0.0872 - val_accuracy: 0.9912\n",
      "Epoch 88/100\n",
      "15/15 [==============================] - 0s 5ms/step - loss: 0.1015 - accuracy: 0.9802 - val_loss: 0.0867 - val_accuracy: 0.9912\n",
      "Epoch 89/100\n",
      "15/15 [==============================] - 0s 5ms/step - loss: 0.1009 - accuracy: 0.9802 - val_loss: 0.0862 - val_accuracy: 0.9912\n",
      "Epoch 90/100\n",
      "15/15 [==============================] - 0s 5ms/step - loss: 0.1004 - accuracy: 0.9802 - val_loss: 0.0857 - val_accuracy: 0.9912\n",
      "Epoch 91/100\n",
      "15/15 [==============================] - 0s 5ms/step - loss: 0.0998 - accuracy: 0.9802 - val_loss: 0.0852 - val_accuracy: 0.9912\n",
      "Epoch 92/100\n",
      "15/15 [==============================] - 0s 5ms/step - loss: 0.0993 - accuracy: 0.9802 - val_loss: 0.0847 - val_accuracy: 0.9912\n",
      "Epoch 93/100\n",
      "15/15 [==============================] - 0s 5ms/step - loss: 0.0987 - accuracy: 0.9802 - val_loss: 0.0843 - val_accuracy: 0.9912\n",
      "Epoch 94/100\n",
      "15/15 [==============================] - 0s 5ms/step - loss: 0.0982 - accuracy: 0.9802 - val_loss: 0.0838 - val_accuracy: 0.9912\n",
      "Epoch 95/100\n",
      "15/15 [==============================] - 0s 5ms/step - loss: 0.0977 - accuracy: 0.9802 - val_loss: 0.0833 - val_accuracy: 0.9912\n",
      "Epoch 96/100\n",
      "15/15 [==============================] - 0s 5ms/step - loss: 0.0971 - accuracy: 0.9802 - val_loss: 0.0829 - val_accuracy: 0.9912\n",
      "Epoch 97/100\n",
      "15/15 [==============================] - 0s 5ms/step - loss: 0.0966 - accuracy: 0.9802 - val_loss: 0.0826 - val_accuracy: 0.9912\n",
      "Epoch 98/100\n",
      "15/15 [==============================] - 0s 5ms/step - loss: 0.0961 - accuracy: 0.9802 - val_loss: 0.0822 - val_accuracy: 0.9912\n",
      "Epoch 99/100\n",
      "15/15 [==============================] - 0s 5ms/step - loss: 0.0956 - accuracy: 0.9802 - val_loss: 0.0818 - val_accuracy: 0.9912\n",
      "Epoch 100/100\n",
      "15/15 [==============================] - 0s 6ms/step - loss: 0.0950 - accuracy: 0.9824 - val_loss: 0.0814 - val_accuracy: 0.9912\n"
     ]
    }
   ],
   "source": [
    "btc_hist=btc.fit(x_train,y_train,validation_data=(x_test,y_test),epochs=100,verbose=1) # time involved \n"
   ]
  },
  {
   "cell_type": "code",
   "execution_count": 16,
   "metadata": {
    "colab": {
     "base_uri": "https://localhost:8080/"
    },
    "executionInfo": {
     "elapsed": 5,
     "status": "ok",
     "timestamp": 1670047670262,
     "user": {
      "displayName": "umar khan",
      "userId": "10949049121784379174"
     },
     "user_tz": -300
    },
    "id": "NP6TFFA6X2Uy",
    "outputId": "650425c1-60ce-4985-c8e0-5d6913c4f2d6"
   },
   "outputs": [
    {
     "name": "stdout",
     "output_type": "stream",
     "text": [
      "['loss', 'accuracy']\n",
      "[0.09478165954351425, 0.9824175834655762]\n",
      "[0.08142799884080887, 0.9912280440330505]\n"
     ]
    }
   ],
   "source": [
    "print(btc.metrics_names)\n",
    "print(btc.evaluate(x_train,y_train,verbose=0))\n",
    "print(btc.evaluate(x_test,y_test,verbose=0))"
   ]
  },
  {
   "cell_type": "code",
   "execution_count": 17,
   "metadata": {
    "executionInfo": {
     "elapsed": 1,
     "status": "ok",
     "timestamp": 1670047670663,
     "user": {
      "displayName": "umar khan",
      "userId": "10949049121784379174"
     },
     "user_tz": -300
    },
    "id": "MUBRkbyLYY1X"
   },
   "outputs": [],
   "source": [
    "# visualize loss and accuracy \n",
    "\n",
    "import matplotlib.pyplot as plt"
   ]
  },
  {
   "cell_type": "code",
   "execution_count": 18,
   "metadata": {
    "colab": {
     "base_uri": "https://localhost:8080/"
    },
    "executionInfo": {
     "elapsed": 3,
     "status": "ok",
     "timestamp": 1670047671054,
     "user": {
      "displayName": "umar khan",
      "userId": "10949049121784379174"
     },
     "user_tz": -300
    },
    "id": "wPb7d4QFlPWZ",
    "outputId": "9d0de9b7-b1db-42f1-ae1f-cd4992a910bc"
   },
   "outputs": [
    {
     "data": {
      "text/plain": [
       "dict_keys(['loss', 'accuracy', 'val_loss', 'val_accuracy'])"
      ]
     },
     "execution_count": 18,
     "metadata": {},
     "output_type": "execute_result"
    }
   ],
   "source": [
    "btc_hist.history.keys()"
   ]
  },
  {
   "cell_type": "code",
   "execution_count": 19,
   "metadata": {
    "colab": {
     "base_uri": "https://localhost:8080/",
     "height": 265
    },
    "executionInfo": {
     "elapsed": 459,
     "status": "ok",
     "timestamp": 1670047678251,
     "user": {
      "displayName": "umar khan",
      "userId": "10949049121784379174"
     },
     "user_tz": -300
    },
    "id": "LlmxdmUiYiR3",
    "outputId": "c151a8a9-b7a8-4438-cde7-36c0a7c1413e"
   },
   "outputs": [
    {
     "data": {
      "image/png": "[encoded data removed]",
      "text/plain": [
       "<Figure size 640x480 with 1 Axes>"
      ]
     },
     "metadata": {},
     "output_type": "display_data"
    }
   ],
   "source": [
    "plt.plot(btc_hist.history['loss'],label='Loss')\n",
    "plt.plot(btc_hist.history['val_loss'],label='Val_Loss')\n",
    "plt.legend()\n",
    "plt.show()"
   ]
  },
  {
   "cell_type": "code",
   "execution_count": 20,
   "metadata": {
    "colab": {
     "base_uri": "https://localhost:8080/",
     "height": 265
    },
    "executionInfo": {
     "elapsed": 12,
     "status": "ok",
     "timestamp": 1669994244288,
     "user": {
      "displayName": "umar khan",
      "userId": "10949049121784379174"
     },
     "user_tz": -300
    },
    "id": "l7M0v99EYmbY",
    "outputId": "42c30792-4a16-4ab2-c5d1-da9e995b65af"
   },
   "outputs": [
    {
     "data": {
      "image/png": "[encoded data removed]",
      "text/plain": [
       "<Figure size 640x480 with 1 Axes>"
      ]
     },
     "metadata": {},
     "output_type": "display_data"
    }
   ],
   "source": [
    "plt.plot(btc_hist.history['accuracy'],label='Accuracy')\n",
    "plt.plot(btc_hist.history['val_accuracy'],label='Val_Accuracy')\n",
    "plt.legend()\n",
    "plt.show()"
   ]
  },
  {
   "cell_type": "code",
   "execution_count": 21,
   "metadata": {
    "executionInfo": {
     "elapsed": 371,
     "status": "ok",
     "timestamp": 1670047721820,
     "user": {
      "displayName": "umar khan",
      "userId": "10949049121784379174"
     },
     "user_tz": -300
    },
    "id": "BFcEpmomZwib"
   },
   "outputs": [],
   "source": [
    "# make predictions "
   ]
  },
  {
   "cell_type": "code",
   "execution_count": 22,
   "metadata": {
    "colab": {
     "base_uri": "https://localhost:8080/"
    },
    "executionInfo": {
     "elapsed": 6,
     "status": "ok",
     "timestamp": 1670047851760,
     "user": {
      "displayName": "umar khan",
      "userId": "10949049121784379174"
     },
     "user_tz": -300
    },
    "id": "JXaewbLKaxaU",
    "outputId": "56394aee-ba15-44a6-abe7-e437f7e0b312"
   },
   "outputs": [
    {
     "name": "stdout",
     "output_type": "stream",
     "text": [
      "(30,)\n",
      "(1, 30)\n",
      "0\n"
     ]
    }
   ],
   "source": [
    "x=x_test[20]\n",
    "print(x.shape)\n",
    "x=x.reshape(1,-1) \n",
    "print(x.shape)\n",
    "\n",
    "\n",
    "y=y_test[20]\n",
    "print(y)"
   ]
  },
  {
   "cell_type": "code",
   "execution_count": 23,
   "metadata": {
    "executionInfo": {
     "elapsed": 356,
     "status": "ok",
     "timestamp": 1670047924494,
     "user": {
      "displayName": "umar khan",
      "userId": "10949049121784379174"
     },
     "user_tz": -300
    },
    "id": "KdBDQfffaydE"
   },
   "outputs": [],
   "source": [
    "pred_prob=btc.predict(x,verbose=0)  # returns probability of class being 1"
   ]
  },
  {
   "cell_type": "code",
   "execution_count": 24,
   "metadata": {
    "colab": {
     "base_uri": "https://localhost:8080/"
    },
    "executionInfo": {
     "elapsed": 366,
     "status": "ok",
     "timestamp": 1670047932044,
     "user": {
      "displayName": "umar khan",
      "userId": "10949049121784379174"
     },
     "user_tz": -300
    },
    "id": "ZQmu649ja_My",
    "outputId": "22c3184a-d172-43a1-aff3-99aff39c33a4"
   },
   "outputs": [
    {
     "name": "stdout",
     "output_type": "stream",
     "text": [
      "Class 1\n"
     ]
    }
   ],
   "source": [
    "if pred_prob[0][0]<0.5:\n",
    "  print('Class 0')\n",
    "else:\n",
    "  print('Class 1')"
   ]
  },
  {
   "cell_type": "code",
   "execution_count": 25,
   "metadata": {
    "colab": {
     "base_uri": "https://localhost:8080/"
    },
    "executionInfo": {
     "elapsed": 369,
     "status": "ok",
     "timestamp": 1670047936439,
     "user": {
      "displayName": "umar khan",
      "userId": "10949049121784379174"
     },
     "user_tz": -300
    },
    "id": "dasYi9jvbXSm",
    "outputId": "87154cff-1456-41ee-97fb-e1b2cadee6d9"
   },
   "outputs": [
    {
     "data": {
      "text/plain": [
       "array([[0.8043532]], dtype=float32)"
      ]
     },
     "execution_count": 25,
     "metadata": {},
     "output_type": "execute_result"
    }
   ],
   "source": [
    "pred_prob"
   ]
  },
  {
   "cell_type": "code",
   "execution_count": null,
   "metadata": {
    "id": "61U_B1EeboLG"
   },
   "outputs": [],
   "source": []
  },
  {
   "cell_type": "code",
   "execution_count": null,
   "metadata": {},
   "outputs": [],
   "source": []
  }
 ],
 "metadata": {
  "colab": {
   "authorship_tag": "ABX9TyOFewszTJPPkSq/wuxTvlcy",
   "provenance": []
  },
  "kernelspec": {
   "display_name": "Python 3 (ipykernel)",
   "language": "python",
   "name": "python3"
  },
  "language_info": {
   "codemirror_mode": {
    "name": "ipython",
    "version": 3
   },
   "file_extension": ".py",
   "mimetype": "text/x-python",
   "name": "python",
   "nbconvert_exporter": "python",
   "pygments_lexer": "ipython3",
   "version": "3.11.3"
  }
 },
 "nbformat": 4,
 "nbformat_minor": 1
}
