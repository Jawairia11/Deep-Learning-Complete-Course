{
 "cells": [
  {
   "cell_type": "markdown",
   "metadata": {},
   "source": [
    "# Predicting Student Admissions with Neural Networks in Keras\n",
    "In this notebook, we predict student admissions to graduate school at UCLA based on three pieces of data:\n",
    "- GRE Scores (Test)\n",
    "- GPA Scores (Grades)\n",
    "- Class rank (1-4)\n",
    "\n",
    "The dataset originally came from here: http://www.ats.ucla.edu/\n",
    "\n",
    "## Loading the data\n",
    "To load the data and format it nicely, we will use two very useful packages called Pandas and Numpy. You can read on the documentation here:\n",
    "- https://pandas.pydata.org/pandas-docs/stable/\n",
    "- https://docs.scipy.org/"
   ]
  },
  {
   "cell_type": "code",
   "execution_count": 148,
   "metadata": {},
   "outputs": [
    {
     "data": {
      "text/plain": [
       "'C:\\\\Users\\\\dell\\\\Desktop\\\\Deep Learning\\\\Week_3\\\\Keras_Student_Admission\\\\jupyterwork'"
      ]
     },
     "execution_count": 148,
     "metadata": {},
     "output_type": "execute_result"
    }
   ],
   "source": [
    "pwd"
   ]
  },
  {
   "cell_type": "markdown",
   "metadata": {},
   "source": [
    "# Task 1\n",
    "## Loading the data\n",
    "Read the data file named: \"student_data.csv\"\n"
   ]
  },
  {
   "cell_type": "code",
   "execution_count": 106,
   "metadata": {},
   "outputs": [
    {
     "data": {
      "text/html": [
       "<div>\n",
       "<style scoped>\n",
       "    .dataframe tbody tr th:only-of-type {\n",
       "        vertical-align: middle;\n",
       "    }\n",
       "\n",
       "    .dataframe tbody tr th {\n",
       "        vertical-align: top;\n",
       "    }\n",
       "\n",
       "    .dataframe thead th {\n",
       "        text-align: right;\n",
       "    }\n",
       "</style>\n",
       "<table border=\"1\" class=\"dataframe\">\n",
       "  <thead>\n",
       "    <tr style=\"text-align: right;\">\n",
       "      <th></th>\n",
       "      <th>admit</th>\n",
       "      <th>gre</th>\n",
       "      <th>gpa</th>\n",
       "      <th>rank</th>\n",
       "    </tr>\n",
       "  </thead>\n",
       "  <tbody>\n",
       "    <tr>\n",
       "      <th>0</th>\n",
       "      <td>0</td>\n",
       "      <td>380</td>\n",
       "      <td>3.61</td>\n",
       "      <td>3</td>\n",
       "    </tr>\n",
       "    <tr>\n",
       "      <th>1</th>\n",
       "      <td>1</td>\n",
       "      <td>660</td>\n",
       "      <td>3.67</td>\n",
       "      <td>3</td>\n",
       "    </tr>\n",
       "    <tr>\n",
       "      <th>2</th>\n",
       "      <td>1</td>\n",
       "      <td>800</td>\n",
       "      <td>4.00</td>\n",
       "      <td>1</td>\n",
       "    </tr>\n",
       "    <tr>\n",
       "      <th>3</th>\n",
       "      <td>1</td>\n",
       "      <td>640</td>\n",
       "      <td>3.19</td>\n",
       "      <td>4</td>\n",
       "    </tr>\n",
       "    <tr>\n",
       "      <th>4</th>\n",
       "      <td>0</td>\n",
       "      <td>520</td>\n",
       "      <td>2.93</td>\n",
       "      <td>4</td>\n",
       "    </tr>\n",
       "    <tr>\n",
       "      <th>5</th>\n",
       "      <td>1</td>\n",
       "      <td>760</td>\n",
       "      <td>3.00</td>\n",
       "      <td>2</td>\n",
       "    </tr>\n",
       "    <tr>\n",
       "      <th>6</th>\n",
       "      <td>1</td>\n",
       "      <td>560</td>\n",
       "      <td>2.98</td>\n",
       "      <td>1</td>\n",
       "    </tr>\n",
       "    <tr>\n",
       "      <th>7</th>\n",
       "      <td>0</td>\n",
       "      <td>400</td>\n",
       "      <td>3.08</td>\n",
       "      <td>2</td>\n",
       "    </tr>\n",
       "    <tr>\n",
       "      <th>8</th>\n",
       "      <td>1</td>\n",
       "      <td>540</td>\n",
       "      <td>3.39</td>\n",
       "      <td>3</td>\n",
       "    </tr>\n",
       "    <tr>\n",
       "      <th>9</th>\n",
       "      <td>0</td>\n",
       "      <td>700</td>\n",
       "      <td>3.92</td>\n",
       "      <td>2</td>\n",
       "    </tr>\n",
       "  </tbody>\n",
       "</table>\n",
       "</div>"
      ],
      "text/plain": [
       "   admit  gre   gpa  rank\n",
       "0      0  380  3.61     3\n",
       "1      1  660  3.67     3\n",
       "2      1  800  4.00     1\n",
       "3      1  640  3.19     4\n",
       "4      0  520  2.93     4\n",
       "5      1  760  3.00     2\n",
       "6      1  560  2.98     1\n",
       "7      0  400  3.08     2\n",
       "8      1  540  3.39     3\n",
       "9      0  700  3.92     2"
      ]
     },
     "execution_count": 106,
     "metadata": {},
     "output_type": "execute_result"
    }
   ],
   "source": [
    "# Importing pandas and numpy\n",
    "import pandas as pd\n",
    "import numpy as np\n",
    "\n",
    "# Reading the csv file into a pandas DataFrame\n",
    "data = pd.read_csv(\"student_data.csv\")\n",
    "\n",
    "# Printing out the first 10 rows of our data\n",
    "data[:10]\n",
    "#data.head(10)"
   ]
  },
  {
   "cell_type": "code",
   "execution_count": 107,
   "metadata": {},
   "outputs": [
    {
     "name": "stdout",
     "output_type": "stream",
     "text": [
      "<class 'pandas.core.frame.DataFrame'>\n",
      "RangeIndex: 400 entries, 0 to 399\n",
      "Data columns (total 4 columns):\n",
      " #   Column  Non-Null Count  Dtype  \n",
      "---  ------  --------------  -----  \n",
      " 0   admit   400 non-null    int64  \n",
      " 1   gre     400 non-null    int64  \n",
      " 2   gpa     400 non-null    float64\n",
      " 3   rank    400 non-null    int64  \n",
      "dtypes: float64(1), int64(3)\n",
      "memory usage: 12.6 KB\n"
     ]
    }
   ],
   "source": [
    "data.info()"
   ]
  },
  {
   "cell_type": "code",
   "execution_count": 108,
   "metadata": {},
   "outputs": [
    {
     "data": {
      "text/html": [
       "<div>\n",
       "<style scoped>\n",
       "    .dataframe tbody tr th:only-of-type {\n",
       "        vertical-align: middle;\n",
       "    }\n",
       "\n",
       "    .dataframe tbody tr th {\n",
       "        vertical-align: top;\n",
       "    }\n",
       "\n",
       "    .dataframe thead th {\n",
       "        text-align: right;\n",
       "    }\n",
       "</style>\n",
       "<table border=\"1\" class=\"dataframe\">\n",
       "  <thead>\n",
       "    <tr style=\"text-align: right;\">\n",
       "      <th></th>\n",
       "      <th>admit</th>\n",
       "      <th>gre</th>\n",
       "      <th>gpa</th>\n",
       "      <th>rank</th>\n",
       "    </tr>\n",
       "  </thead>\n",
       "  <tbody>\n",
       "    <tr>\n",
       "      <th>count</th>\n",
       "      <td>400.000000</td>\n",
       "      <td>400.000000</td>\n",
       "      <td>400.000000</td>\n",
       "      <td>400.00000</td>\n",
       "    </tr>\n",
       "    <tr>\n",
       "      <th>mean</th>\n",
       "      <td>0.317500</td>\n",
       "      <td>587.700000</td>\n",
       "      <td>3.389900</td>\n",
       "      <td>2.48500</td>\n",
       "    </tr>\n",
       "    <tr>\n",
       "      <th>std</th>\n",
       "      <td>0.466087</td>\n",
       "      <td>115.516536</td>\n",
       "      <td>0.380567</td>\n",
       "      <td>0.94446</td>\n",
       "    </tr>\n",
       "    <tr>\n",
       "      <th>min</th>\n",
       "      <td>0.000000</td>\n",
       "      <td>220.000000</td>\n",
       "      <td>2.260000</td>\n",
       "      <td>1.00000</td>\n",
       "    </tr>\n",
       "    <tr>\n",
       "      <th>25%</th>\n",
       "      <td>0.000000</td>\n",
       "      <td>520.000000</td>\n",
       "      <td>3.130000</td>\n",
       "      <td>2.00000</td>\n",
       "    </tr>\n",
       "    <tr>\n",
       "      <th>50%</th>\n",
       "      <td>0.000000</td>\n",
       "      <td>580.000000</td>\n",
       "      <td>3.395000</td>\n",
       "      <td>2.00000</td>\n",
       "    </tr>\n",
       "    <tr>\n",
       "      <th>75%</th>\n",
       "      <td>1.000000</td>\n",
       "      <td>660.000000</td>\n",
       "      <td>3.670000</td>\n",
       "      <td>3.00000</td>\n",
       "    </tr>\n",
       "    <tr>\n",
       "      <th>max</th>\n",
       "      <td>1.000000</td>\n",
       "      <td>800.000000</td>\n",
       "      <td>4.000000</td>\n",
       "      <td>4.00000</td>\n",
       "    </tr>\n",
       "  </tbody>\n",
       "</table>\n",
       "</div>"
      ],
      "text/plain": [
       "            admit         gre         gpa       rank\n",
       "count  400.000000  400.000000  400.000000  400.00000\n",
       "mean     0.317500  587.700000    3.389900    2.48500\n",
       "std      0.466087  115.516536    0.380567    0.94446\n",
       "min      0.000000  220.000000    2.260000    1.00000\n",
       "25%      0.000000  520.000000    3.130000    2.00000\n",
       "50%      0.000000  580.000000    3.395000    2.00000\n",
       "75%      1.000000  660.000000    3.670000    3.00000\n",
       "max      1.000000  800.000000    4.000000    4.00000"
      ]
     },
     "execution_count": 108,
     "metadata": {},
     "output_type": "execute_result"
    }
   ],
   "source": [
    "data.describe()"
   ]
  },
  {
   "cell_type": "markdown",
   "metadata": {},
   "source": [
    "## Plotting the data\n",
    "\n",
    "First let's make a plot of our data to see how it looks. In order to have a 2D plot, let's ingore the rank."
   ]
  },
  {
   "cell_type": "code",
   "execution_count": 109,
   "metadata": {},
   "outputs": [
    {
     "data": {
      "image/png": "[encoded data removed]",
      "text/plain": [
       "<Figure size 432x288 with 1 Axes>"
      ]
     },
     "metadata": {
      "needs_background": "light"
     },
     "output_type": "display_data"
    }
   ],
   "source": [
    "# Importing matplotlib\n",
    "import matplotlib.pyplot as plt\n",
    "\n",
    "# Function to help us plot\n",
    "def plot_points(data):\n",
    "    X = np.array(data[[\"gre\",\"gpa\"]])\n",
    "    y = np.array(data[\"admit\"])\n",
    "    admitted = X[np.argwhere(y==1)]\n",
    "    rejected = X[np.argwhere(y==0)]\n",
    "# The below is doing for LIST COMPREHENSION indtead of doing with loop as showing in below graph The same graph is with for loop \n",
    "    plt.scatter([s[0][0] for s in rejected], [s[0][1] for s in rejected], s = 25, color = 'red', edgecolor = 'k')\n",
    "    plt.scatter([s[0][0] for s in admitted], [s[0][1] for s in admitted], s = 25, color = 'cyan', edgecolor = 'k')\n",
    "    plt.xlabel('Test (GRE)')\n",
    "    plt.ylabel('Grades (GPA)')\n",
    "    \n",
    "# Plotting the points\n",
    "plot_points(data)\n",
    "plt.show()"
   ]
  },
  {
   "cell_type": "code",
   "execution_count": 110,
   "metadata": {},
   "outputs": [
    {
     "data": {
      "text/plain": [
       "<AxesSubplot:xlabel='gre', ylabel='gpa'>"
      ]
     },
     "execution_count": 110,
     "metadata": {},
     "output_type": "execute_result"
    },
    {
     "data": {
      "image/png": "[encoded data removed]",
      "text/plain": [
       "<Figure size 432x288 with 1 Axes>"
      ]
     },
     "metadata": {
      "needs_background": "light"
     },
     "output_type": "display_data"
    }
   ],
   "source": [
    "# Or we can plot above graph through seaborn instead of matplotlib\n",
    "import seaborn as sns\n",
    "sns.scatterplot(data=data , x='gre',y='gpa',hue='admit', palette=['red','blue'] , style='admit' )"
   ]
  },
  {
   "cell_type": "code",
   "execution_count": 74,
   "metadata": {},
   "outputs": [
    {
     "data": {
      "text/plain": [
       "array([[  1,   0],\n",
       "       [  2,   0],\n",
       "       [  3,   0],\n",
       "       [  5,   0],\n",
       "       [  6,   0],\n",
       "       [  8,   0],\n",
       "       [ 12,   0],\n",
       "       [ 14,   0],\n",
       "       [ 19,   0],\n",
       "       [ 21,   0],\n",
       "       [ 24,   0],\n",
       "       [ 25,   0],\n",
       "       [ 26,   0],\n",
       "       [ 27,   0],\n",
       "       [ 28,   0],\n",
       "       [ 33,   0],\n",
       "       [ 38,   0],\n",
       "       [ 39,   0],\n",
       "       [ 41,   0],\n",
       "       [ 42,   0],\n",
       "       [ 45,   0],\n",
       "       [ 46,   0],\n",
       "       [ 53,   0],\n",
       "       [ 55,   0],\n",
       "       [ 60,   0],\n",
       "       [ 63,   0],\n",
       "       [ 77,   0],\n",
       "       [ 79,   0],\n",
       "       [ 84,   0],\n",
       "       [ 89,   0],\n",
       "       [ 91,   0],\n",
       "       [ 94,   0],\n",
       "       [104,   0],\n",
       "       [105,   0],\n",
       "       [106,   0],\n",
       "       [116,   0],\n",
       "       [118,   0],\n",
       "       [120,   0],\n",
       "       [121,   0],\n",
       "       [126,   0],\n",
       "       [130,   0],\n",
       "       [139,   0],\n",
       "       [141,   0],\n",
       "       [148,   0],\n",
       "       [150,   0],\n",
       "       [152,   0],\n",
       "       [155,   0],\n",
       "       [157,   0],\n",
       "       [162,   0],\n",
       "       [173,   0],\n",
       "       [175,   0],\n",
       "       [177,   0],\n",
       "       [183,   0],\n",
       "       [190,   0],\n",
       "       [194,   0],\n",
       "       [197,   0],\n",
       "       [201,   0],\n",
       "       [202,   0],\n",
       "       [204,   0],\n",
       "       [205,   0],\n",
       "       [207,   0],\n",
       "       [214,   0],\n",
       "       [215,   0],\n",
       "       [217,   0],\n",
       "       [219,   0],\n",
       "       [222,   0],\n",
       "       [225,   0],\n",
       "       [229,   0],\n",
       "       [234,   0],\n",
       "       [236,   0],\n",
       "       [241,   0],\n",
       "       [242,   0],\n",
       "       [252,   0],\n",
       "       [253,   0],\n",
       "       [254,   0],\n",
       "       [256,   0],\n",
       "       [257,   0],\n",
       "       [262,   0],\n",
       "       [263,   0],\n",
       "       [264,   0],\n",
       "       [267,   0],\n",
       "       [268,   0],\n",
       "       [270,   0],\n",
       "       [272,   0],\n",
       "       [275,   0],\n",
       "       [277,   0],\n",
       "       [278,   0],\n",
       "       [279,   0],\n",
       "       [284,   0],\n",
       "       [286,   0],\n",
       "       [287,   0],\n",
       "       [290,   0],\n",
       "       [301,   0],\n",
       "       [302,   0],\n",
       "       [303,   0],\n",
       "       [306,   0],\n",
       "       [313,   0],\n",
       "       [315,   0],\n",
       "       [316,   0],\n",
       "       [317,   0],\n",
       "       [318,   0],\n",
       "       [327,   0],\n",
       "       [334,   0],\n",
       "       [335,   0],\n",
       "       [339,   0],\n",
       "       [341,   0],\n",
       "       [350,   0],\n",
       "       [352,   0],\n",
       "       [354,   0],\n",
       "       [355,   0],\n",
       "       [358,   0],\n",
       "       [360,   0],\n",
       "       [361,   0],\n",
       "       [364,   0],\n",
       "       [370,   0],\n",
       "       [371,   0],\n",
       "       [372,   0],\n",
       "       [373,   0],\n",
       "       [377,   0],\n",
       "       [381,   0],\n",
       "       [384,   0],\n",
       "       [386,   0],\n",
       "       [390,   0],\n",
       "       [391,   0],\n",
       "       [392,   0],\n",
       "       [393,   0],\n",
       "       [394,   0]], dtype=int64)"
      ]
     },
     "execution_count": 74,
     "metadata": {},
     "output_type": "execute_result"
    }
   ],
   "source": [
    "#  Expalining argwhere for our understanding not to be used here as separately\n",
    "#Jahan 1 ho ga wahan true ho jaey ga aur jahan 0 ho ga wahan false aa jaey ga\n",
    "\n",
    "X = np.array(data[[\"gre\",\"gpa\"]])   # predictors\n",
    "y = np.array(data[[\"admit\"]])         # Labels\n",
    "np.argwhere(y==1)\n",
    "\n",
    "# Jahan 1 ho ga wahan true ho jaey ga aur jahan 0 ho ga wahan false aa jaey ga"
   ]
  },
  {
   "cell_type": "code",
   "execution_count": 111,
   "metadata": {},
   "outputs": [
    {
     "data": {
      "image/png": "[encoded data removed]",
      "text/plain": [
       "<Figure size 432x288 with 1 Axes>"
      ]
     },
     "metadata": {
      "needs_background": "light"
     },
     "output_type": "display_data"
    }
   ],
   "source": [
    "X = np.array(data[[\"gre\",\"gpa\"]])   # predictors\n",
    "y = np.array(data[\"admit\"])         # Labels\n",
    "admitted = X[np.argwhere(y==1)]    # X[getting indexes where admit=1]\n",
    "rejected = X[np.argwhere(y==0)]    # X[getting indexes where admit=0]\n",
    "import matplotlib.pyplot as plt\n",
    "\n",
    "for s in rejected:\n",
    "    plt.scatter(s[0][0],s[0][1] , c='red')\n",
    "\n",
    "for s in admitted:   \n",
    "     plt.scatter(s[0][0],s[0][1] , c='blue')"
   ]
  },
  {
   "cell_type": "code",
   "execution_count": 54,
   "metadata": {},
   "outputs": [
    {
     "data": {
      "text/plain": [
       "380.0"
      ]
     },
     "execution_count": 54,
     "metadata": {},
     "output_type": "execute_result"
    }
   ],
   "source": [
    "# rejected\n",
    "# just for viewing rejected cases\n",
    "\n",
    "rejected[0][0]\n",
    "\n",
    "# rejected[0][0][0] only showing first number 380.0"
   ]
  },
  {
   "cell_type": "markdown",
   "metadata": {},
   "source": [
    "Roughly, it looks like the students with high scores in the grades and test passed, while the ones with low scores didn't, but the data is not as nicely separable as we hoped it would. Maybe it would help to take the rank into account? Let's make 4 plots, each one for each rank.\n",
    "\n",
    "We can check `data['rank'].value_counts()` and can check values and their counts. also can check their unique values `data['rank'].unique()`"
   ]
  },
  {
   "cell_type": "code",
   "execution_count": 112,
   "metadata": {},
   "outputs": [
    {
     "data": {
      "image/png": "[encoded data removed]",
      "text/plain": [
       "<Figure size 432x288 with 1 Axes>"
      ]
     },
     "metadata": {
      "needs_background": "light"
     },
     "output_type": "display_data"
    },
    {
     "data": {
      "image/png": "[encoded data removed]",
      "text/plain": [
       "<Figure size 432x288 with 1 Axes>"
      ]
     },
     "metadata": {
      "needs_background": "light"
     },
     "output_type": "display_data"
    },
    {
     "data": {
      "image/png": "[encoded data removed]",
      "text/plain": [
       "<Figure size 432x288 with 1 Axes>"
      ]
     },
     "metadata": {
      "needs_background": "light"
     },
     "output_type": "display_data"
    },
    {
     "data": {
      "image/png": "[encoded data removed]",
      "text/plain": [
       "<Figure size 432x288 with 1 Axes>"
      ]
     },
     "metadata": {
      "needs_background": "light"
     },
     "output_type": "display_data"
    }
   ],
   "source": [
    "# Separating the ranks\n",
    "data_rank1 = data[data[\"rank\"]==1]\n",
    "data_rank2 = data[data[\"rank\"]==2]\n",
    "data_rank3 = data[data[\"rank\"]==3]\n",
    "data_rank4 = data[data[\"rank\"]==4]\n",
    "\n",
    "# Plotting the graphs\n",
    "plot_points(data_rank1)\n",
    "plt.title(\"Rank 1\")\n",
    "plt.show()\n",
    "plot_points(data_rank2)\n",
    "plt.title(\"Rank 2\")\n",
    "plt.show()\n",
    "plot_points(data_rank3)\n",
    "plt.title(\"Rank 3\")\n",
    "plt.show()\n",
    "plot_points(data_rank4)\n",
    "plt.title(\"Rank 4\")\n",
    "plt.show()"
   ]
  },
  {
   "cell_type": "markdown",
   "metadata": {},
   "source": [
    "This looks more promising, as it seems that the lower the rank, the higher the acceptance rate. Let's use the rank as one of our inputs. In order to do this, we should one-hot encode it.\n",
    " \n",
    "It seems there exist a certain correlation with all these 3 variables. We can also check by measuring correlation `data.corr()`\n",
    "## Task-2\n",
    "## One-hot encoding the rank\n",
    "For this, please use the `get_dummies` function in pandas in order to one-hot and encode the data."
   ]
  },
  {
   "cell_type": "code",
   "execution_count": 113,
   "metadata": {},
   "outputs": [
    {
     "data": {
      "text/html": [
       "<div>\n",
       "<style scoped>\n",
       "    .dataframe tbody tr th:only-of-type {\n",
       "        vertical-align: middle;\n",
       "    }\n",
       "\n",
       "    .dataframe tbody tr th {\n",
       "        vertical-align: top;\n",
       "    }\n",
       "\n",
       "    .dataframe thead th {\n",
       "        text-align: right;\n",
       "    }\n",
       "</style>\n",
       "<table border=\"1\" class=\"dataframe\">\n",
       "  <thead>\n",
       "    <tr style=\"text-align: right;\">\n",
       "      <th></th>\n",
       "      <th>admit</th>\n",
       "      <th>gre</th>\n",
       "      <th>gpa</th>\n",
       "      <th>rank_1</th>\n",
       "      <th>rank_2</th>\n",
       "      <th>rank_3</th>\n",
       "      <th>rank_4</th>\n",
       "    </tr>\n",
       "  </thead>\n",
       "  <tbody>\n",
       "    <tr>\n",
       "      <th>0</th>\n",
       "      <td>0</td>\n",
       "      <td>380</td>\n",
       "      <td>3.61</td>\n",
       "      <td>0</td>\n",
       "      <td>0</td>\n",
       "      <td>1</td>\n",
       "      <td>0</td>\n",
       "    </tr>\n",
       "    <tr>\n",
       "      <th>1</th>\n",
       "      <td>1</td>\n",
       "      <td>660</td>\n",
       "      <td>3.67</td>\n",
       "      <td>0</td>\n",
       "      <td>0</td>\n",
       "      <td>1</td>\n",
       "      <td>0</td>\n",
       "    </tr>\n",
       "    <tr>\n",
       "      <th>2</th>\n",
       "      <td>1</td>\n",
       "      <td>800</td>\n",
       "      <td>4.00</td>\n",
       "      <td>1</td>\n",
       "      <td>0</td>\n",
       "      <td>0</td>\n",
       "      <td>0</td>\n",
       "    </tr>\n",
       "    <tr>\n",
       "      <th>3</th>\n",
       "      <td>1</td>\n",
       "      <td>640</td>\n",
       "      <td>3.19</td>\n",
       "      <td>0</td>\n",
       "      <td>0</td>\n",
       "      <td>0</td>\n",
       "      <td>1</td>\n",
       "    </tr>\n",
       "    <tr>\n",
       "      <th>4</th>\n",
       "      <td>0</td>\n",
       "      <td>520</td>\n",
       "      <td>2.93</td>\n",
       "      <td>0</td>\n",
       "      <td>0</td>\n",
       "      <td>0</td>\n",
       "      <td>1</td>\n",
       "    </tr>\n",
       "  </tbody>\n",
       "</table>\n",
       "</div>"
      ],
      "text/plain": [
       "   admit  gre   gpa  rank_1  rank_2  rank_3  rank_4\n",
       "0      0  380  3.61       0       0       1       0\n",
       "1      1  660  3.67       0       0       1       0\n",
       "2      1  800  4.00       1       0       0       0\n",
       "3      1  640  3.19       0       0       0       1\n",
       "4      0  520  2.93       0       0       0       1"
      ]
     },
     "execution_count": 113,
     "metadata": {},
     "output_type": "execute_result"
    }
   ],
   "source": [
    "from sklearn.preprocessing import OneHotEncoder\n",
    "\n",
    "# Make dummy variables for rank\n",
    "one_hot_data = pd.get_dummies(data , columns=['rank'])\n",
    "\n",
    "# Drop the previous rank column\n",
    "#one_hot_data = None\n",
    "\n",
    "# Print the first 10 rows of our data\n",
    "one_hot_data.head()"
   ]
  },
  {
   "cell_type": "code",
   "execution_count": 114,
   "metadata": {},
   "outputs": [
    {
     "data": {
      "text/plain": [
       "Index(['admit', 'gre', 'gpa', 'rank_1', 'rank_2', 'rank_3', 'rank_4'], dtype='object')"
      ]
     },
     "execution_count": 114,
     "metadata": {},
     "output_type": "execute_result"
    }
   ],
   "source": [
    "one_hot_data.columns"
   ]
  },
  {
   "cell_type": "code",
   "execution_count": 115,
   "metadata": {},
   "outputs": [
    {
     "data": {
      "text/html": [
       "<div>\n",
       "<style scoped>\n",
       "    .dataframe tbody tr th:only-of-type {\n",
       "        vertical-align: middle;\n",
       "    }\n",
       "\n",
       "    .dataframe tbody tr th {\n",
       "        vertical-align: top;\n",
       "    }\n",
       "\n",
       "    .dataframe thead th {\n",
       "        text-align: right;\n",
       "    }\n",
       "</style>\n",
       "<table border=\"1\" class=\"dataframe\">\n",
       "  <thead>\n",
       "    <tr style=\"text-align: right;\">\n",
       "      <th></th>\n",
       "      <th>count</th>\n",
       "      <th>mean</th>\n",
       "      <th>std</th>\n",
       "      <th>min</th>\n",
       "      <th>25%</th>\n",
       "      <th>50%</th>\n",
       "      <th>75%</th>\n",
       "      <th>max</th>\n",
       "    </tr>\n",
       "  </thead>\n",
       "  <tbody>\n",
       "    <tr>\n",
       "      <th>admit</th>\n",
       "      <td>400.0</td>\n",
       "      <td>0.3175</td>\n",
       "      <td>0.466087</td>\n",
       "      <td>0.00</td>\n",
       "      <td>0.00</td>\n",
       "      <td>0.000</td>\n",
       "      <td>1.00</td>\n",
       "      <td>1.0</td>\n",
       "    </tr>\n",
       "    <tr>\n",
       "      <th>gre</th>\n",
       "      <td>400.0</td>\n",
       "      <td>587.7000</td>\n",
       "      <td>115.516536</td>\n",
       "      <td>220.00</td>\n",
       "      <td>520.00</td>\n",
       "      <td>580.000</td>\n",
       "      <td>660.00</td>\n",
       "      <td>800.0</td>\n",
       "    </tr>\n",
       "    <tr>\n",
       "      <th>gpa</th>\n",
       "      <td>400.0</td>\n",
       "      <td>3.3899</td>\n",
       "      <td>0.380567</td>\n",
       "      <td>2.26</td>\n",
       "      <td>3.13</td>\n",
       "      <td>3.395</td>\n",
       "      <td>3.67</td>\n",
       "      <td>4.0</td>\n",
       "    </tr>\n",
       "    <tr>\n",
       "      <th>rank_1</th>\n",
       "      <td>400.0</td>\n",
       "      <td>0.1525</td>\n",
       "      <td>0.359955</td>\n",
       "      <td>0.00</td>\n",
       "      <td>0.00</td>\n",
       "      <td>0.000</td>\n",
       "      <td>0.00</td>\n",
       "      <td>1.0</td>\n",
       "    </tr>\n",
       "    <tr>\n",
       "      <th>rank_2</th>\n",
       "      <td>400.0</td>\n",
       "      <td>0.3775</td>\n",
       "      <td>0.485369</td>\n",
       "      <td>0.00</td>\n",
       "      <td>0.00</td>\n",
       "      <td>0.000</td>\n",
       "      <td>1.00</td>\n",
       "      <td>1.0</td>\n",
       "    </tr>\n",
       "    <tr>\n",
       "      <th>rank_3</th>\n",
       "      <td>400.0</td>\n",
       "      <td>0.3025</td>\n",
       "      <td>0.459916</td>\n",
       "      <td>0.00</td>\n",
       "      <td>0.00</td>\n",
       "      <td>0.000</td>\n",
       "      <td>1.00</td>\n",
       "      <td>1.0</td>\n",
       "    </tr>\n",
       "    <tr>\n",
       "      <th>rank_4</th>\n",
       "      <td>400.0</td>\n",
       "      <td>0.1675</td>\n",
       "      <td>0.373889</td>\n",
       "      <td>0.00</td>\n",
       "      <td>0.00</td>\n",
       "      <td>0.000</td>\n",
       "      <td>0.00</td>\n",
       "      <td>1.0</td>\n",
       "    </tr>\n",
       "  </tbody>\n",
       "</table>\n",
       "</div>"
      ],
      "text/plain": [
       "        count      mean         std     min     25%      50%     75%    max\n",
       "admit   400.0    0.3175    0.466087    0.00    0.00    0.000    1.00    1.0\n",
       "gre     400.0  587.7000  115.516536  220.00  520.00  580.000  660.00  800.0\n",
       "gpa     400.0    3.3899    0.380567    2.26    3.13    3.395    3.67    4.0\n",
       "rank_1  400.0    0.1525    0.359955    0.00    0.00    0.000    0.00    1.0\n",
       "rank_2  400.0    0.3775    0.485369    0.00    0.00    0.000    1.00    1.0\n",
       "rank_3  400.0    0.3025    0.459916    0.00    0.00    0.000    1.00    1.0\n",
       "rank_4  400.0    0.1675    0.373889    0.00    0.00    0.000    0.00    1.0"
      ]
     },
     "execution_count": 115,
     "metadata": {},
     "output_type": "execute_result"
    }
   ],
   "source": [
    "one_hot_data.describe().T"
   ]
  },
  {
   "cell_type": "markdown",
   "metadata": {},
   "source": [
    "## Task 3\n",
    "## Scaling the data\n",
    "The next step is to scale the data. We notice that the range for grades is 1.0-4.0, whereas the range for test scores is roughly 200-800, which is much larger. This means our data is skewed, and that makes it hard for a neural network to handle. Let's fit our two features into a range of 0-1, by dividing the grades by 4.0, and the test score by 800.\n",
    "\n",
    "Or you can also use `Min Max Scaler`"
   ]
  },
  {
   "cell_type": "code",
   "execution_count": null,
   "metadata": {},
   "outputs": [],
   "source": [
    "# Copying our data\n",
    "      #processed_data = one_hot_data[:]\n",
    "\n",
    "# Scaling the columns\n",
    "    # processed_data['gre'] = None\n",
    "     #processed_data['gpa'] = None\n",
    "    #processed_data[:10]"
   ]
  },
  {
   "cell_type": "code",
   "execution_count": 116,
   "metadata": {},
   "outputs": [
    {
     "name": "stderr",
     "output_type": "stream",
     "text": [
      "C:\\Users\\dell\\anaconda3\\lib\\site-packages\\seaborn\\distributions.py:2557: FutureWarning: `distplot` is a deprecated function and will be removed in a future version. Please adapt your code to use either `displot` (a figure-level function with similar flexibility) or `kdeplot` (an axes-level function for kernel density plots).\n",
      "  warnings.warn(msg, FutureWarning)\n"
     ]
    },
    {
     "data": {
      "text/plain": [
       "<AxesSubplot:ylabel='Density'>"
      ]
     },
     "execution_count": 116,
     "metadata": {},
     "output_type": "execute_result"
    },
    {
     "data": {
      "image/png": "[encoded data removed]",
      "text/plain": [
       "<Figure size 432x288 with 1 Axes>"
      ]
     },
     "metadata": {
      "needs_background": "light"
     },
     "output_type": "display_data"
    }
   ],
   "source": [
    "import seaborn as sns\n",
    "sns.distplot(one_hot_data[['gre']] , hist=False , kde=True , kde_kws = {'shade':True , 'linewidth':3})\n",
    "\n",
    "# sns.distplot(one_hot_data[['gpa']] , hist=False , kde=True , kde_kws = {'shade':True , 'linewidth':3})\n",
    "\n",
    "# sns.distplot(one_hot_data[['rank_1']] , hist=False , kde=True , kde_kws = {'shade':True , 'linewidth':3})\n",
    "# sns.distplot(one_hot_data[['rank_2']] , hist=False , kde=True , kde_kws = {'shade':True , 'linewidth':3})\n",
    "# sns.distplot(one_hot_data[['rank_3']] , hist=False , kde=True , kde_kws = {'shade':True , 'linewidth':3})\n",
    "# sns.distplot(one_hot_data[['rank_4']] , hist=False , kde=True , kde_kws = {'shade':True , 'linewidth':3})\n",
    "\n",
    "# Here by drawing different plots we are getting the idea of how we want to do scaling "
   ]
  },
  {
   "cell_type": "code",
   "execution_count": 92,
   "metadata": {},
   "outputs": [
    {
     "data": {
      "text/html": [
       "<div>\n",
       "<style scoped>\n",
       "    .dataframe tbody tr th:only-of-type {\n",
       "        vertical-align: middle;\n",
       "    }\n",
       "\n",
       "    .dataframe tbody tr th {\n",
       "        vertical-align: top;\n",
       "    }\n",
       "\n",
       "    .dataframe thead th {\n",
       "        text-align: right;\n",
       "    }\n",
       "</style>\n",
       "<table border=\"1\" class=\"dataframe\">\n",
       "  <thead>\n",
       "    <tr style=\"text-align: right;\">\n",
       "      <th></th>\n",
       "      <th>admit</th>\n",
       "      <th>gre</th>\n",
       "      <th>gpa</th>\n",
       "      <th>rank_1</th>\n",
       "      <th>rank_2</th>\n",
       "      <th>rank_3</th>\n",
       "      <th>rank_4</th>\n",
       "    </tr>\n",
       "  </thead>\n",
       "  <tbody>\n",
       "    <tr>\n",
       "      <th>0</th>\n",
       "      <td>0.0</td>\n",
       "      <td>0.275862</td>\n",
       "      <td>0.775862</td>\n",
       "      <td>0.0</td>\n",
       "      <td>0.0</td>\n",
       "      <td>1.0</td>\n",
       "      <td>0.0</td>\n",
       "    </tr>\n",
       "    <tr>\n",
       "      <th>1</th>\n",
       "      <td>1.0</td>\n",
       "      <td>0.758621</td>\n",
       "      <td>0.810345</td>\n",
       "      <td>0.0</td>\n",
       "      <td>0.0</td>\n",
       "      <td>1.0</td>\n",
       "      <td>0.0</td>\n",
       "    </tr>\n",
       "    <tr>\n",
       "      <th>2</th>\n",
       "      <td>1.0</td>\n",
       "      <td>1.000000</td>\n",
       "      <td>1.000000</td>\n",
       "      <td>1.0</td>\n",
       "      <td>0.0</td>\n",
       "      <td>0.0</td>\n",
       "      <td>0.0</td>\n",
       "    </tr>\n",
       "    <tr>\n",
       "      <th>3</th>\n",
       "      <td>1.0</td>\n",
       "      <td>0.724138</td>\n",
       "      <td>0.534483</td>\n",
       "      <td>0.0</td>\n",
       "      <td>0.0</td>\n",
       "      <td>0.0</td>\n",
       "      <td>1.0</td>\n",
       "    </tr>\n",
       "    <tr>\n",
       "      <th>4</th>\n",
       "      <td>0.0</td>\n",
       "      <td>0.517241</td>\n",
       "      <td>0.385057</td>\n",
       "      <td>0.0</td>\n",
       "      <td>0.0</td>\n",
       "      <td>0.0</td>\n",
       "      <td>1.0</td>\n",
       "    </tr>\n",
       "    <tr>\n",
       "      <th>5</th>\n",
       "      <td>1.0</td>\n",
       "      <td>0.931034</td>\n",
       "      <td>0.425287</td>\n",
       "      <td>0.0</td>\n",
       "      <td>1.0</td>\n",
       "      <td>0.0</td>\n",
       "      <td>0.0</td>\n",
       "    </tr>\n",
       "    <tr>\n",
       "      <th>6</th>\n",
       "      <td>1.0</td>\n",
       "      <td>0.586207</td>\n",
       "      <td>0.413793</td>\n",
       "      <td>1.0</td>\n",
       "      <td>0.0</td>\n",
       "      <td>0.0</td>\n",
       "      <td>0.0</td>\n",
       "    </tr>\n",
       "    <tr>\n",
       "      <th>7</th>\n",
       "      <td>0.0</td>\n",
       "      <td>0.310345</td>\n",
       "      <td>0.471264</td>\n",
       "      <td>0.0</td>\n",
       "      <td>1.0</td>\n",
       "      <td>0.0</td>\n",
       "      <td>0.0</td>\n",
       "    </tr>\n",
       "    <tr>\n",
       "      <th>8</th>\n",
       "      <td>1.0</td>\n",
       "      <td>0.551724</td>\n",
       "      <td>0.649425</td>\n",
       "      <td>0.0</td>\n",
       "      <td>0.0</td>\n",
       "      <td>1.0</td>\n",
       "      <td>0.0</td>\n",
       "    </tr>\n",
       "    <tr>\n",
       "      <th>9</th>\n",
       "      <td>0.0</td>\n",
       "      <td>0.827586</td>\n",
       "      <td>0.954023</td>\n",
       "      <td>0.0</td>\n",
       "      <td>1.0</td>\n",
       "      <td>0.0</td>\n",
       "      <td>0.0</td>\n",
       "    </tr>\n",
       "  </tbody>\n",
       "</table>\n",
       "</div>"
      ],
      "text/plain": [
       "   admit       gre       gpa  rank_1  rank_2  rank_3  rank_4\n",
       "0    0.0  0.275862  0.775862     0.0     0.0     1.0     0.0\n",
       "1    1.0  0.758621  0.810345     0.0     0.0     1.0     0.0\n",
       "2    1.0  1.000000  1.000000     1.0     0.0     0.0     0.0\n",
       "3    1.0  0.724138  0.534483     0.0     0.0     0.0     1.0\n",
       "4    0.0  0.517241  0.385057     0.0     0.0     0.0     1.0\n",
       "5    1.0  0.931034  0.425287     0.0     1.0     0.0     0.0\n",
       "6    1.0  0.586207  0.413793     1.0     0.0     0.0     0.0\n",
       "7    0.0  0.310345  0.471264     0.0     1.0     0.0     0.0\n",
       "8    1.0  0.551724  0.649425     0.0     0.0     1.0     0.0\n",
       "9    0.0  0.827586  0.954023     0.0     1.0     0.0     0.0"
      ]
     },
     "execution_count": 92,
     "metadata": {},
     "output_type": "execute_result"
    }
   ],
   "source": [
    "processed_data = one_hot_data[:]\n",
    "processed_data\n",
    "\n",
    "# To scale the columns \n",
    "\n",
    "from sklearn.preprocessing import MinMaxScaler\n",
    "scaler = MinMaxScaler()\n",
    "\n",
    "new = scaler.fit_transform(processed_data)\n",
    "col_names = [\"gre\",\"\"]\n",
    "col_names = [\"admit\", \"gre\", \"gpa\", \"rank_1\", \"rank_2\", \"rank_3\", \"rank_4\"]\n",
    "\n",
    "processed_data=pd.DataFrame(columns=col_names , data=new)\n",
    "\n",
    "processed_data[:10]"
   ]
  },
  {
   "cell_type": "code",
   "execution_count": 117,
   "metadata": {},
   "outputs": [
    {
     "data": {
      "text/html": [
       "<div>\n",
       "<style scoped>\n",
       "    .dataframe tbody tr th:only-of-type {\n",
       "        vertical-align: middle;\n",
       "    }\n",
       "\n",
       "    .dataframe tbody tr th {\n",
       "        vertical-align: top;\n",
       "    }\n",
       "\n",
       "    .dataframe thead th {\n",
       "        text-align: right;\n",
       "    }\n",
       "</style>\n",
       "<table border=\"1\" class=\"dataframe\">\n",
       "  <thead>\n",
       "    <tr style=\"text-align: right;\">\n",
       "      <th></th>\n",
       "      <th>count</th>\n",
       "      <th>mean</th>\n",
       "      <th>std</th>\n",
       "      <th>min</th>\n",
       "      <th>25%</th>\n",
       "      <th>50%</th>\n",
       "      <th>75%</th>\n",
       "      <th>max</th>\n",
       "    </tr>\n",
       "  </thead>\n",
       "  <tbody>\n",
       "    <tr>\n",
       "      <th>admit</th>\n",
       "      <td>400.0</td>\n",
       "      <td>0.317500</td>\n",
       "      <td>0.466087</td>\n",
       "      <td>0.0</td>\n",
       "      <td>0.000000</td>\n",
       "      <td>0.000000</td>\n",
       "      <td>1.000000</td>\n",
       "      <td>1.0</td>\n",
       "    </tr>\n",
       "    <tr>\n",
       "      <th>gre</th>\n",
       "      <td>400.0</td>\n",
       "      <td>0.633966</td>\n",
       "      <td>0.199166</td>\n",
       "      <td>0.0</td>\n",
       "      <td>0.517241</td>\n",
       "      <td>0.620690</td>\n",
       "      <td>0.758621</td>\n",
       "      <td>1.0</td>\n",
       "    </tr>\n",
       "    <tr>\n",
       "      <th>gpa</th>\n",
       "      <td>400.0</td>\n",
       "      <td>0.649368</td>\n",
       "      <td>0.218717</td>\n",
       "      <td>0.0</td>\n",
       "      <td>0.500000</td>\n",
       "      <td>0.652299</td>\n",
       "      <td>0.810345</td>\n",
       "      <td>1.0</td>\n",
       "    </tr>\n",
       "    <tr>\n",
       "      <th>rank_1</th>\n",
       "      <td>400.0</td>\n",
       "      <td>0.152500</td>\n",
       "      <td>0.359955</td>\n",
       "      <td>0.0</td>\n",
       "      <td>0.000000</td>\n",
       "      <td>0.000000</td>\n",
       "      <td>0.000000</td>\n",
       "      <td>1.0</td>\n",
       "    </tr>\n",
       "    <tr>\n",
       "      <th>rank_2</th>\n",
       "      <td>400.0</td>\n",
       "      <td>0.377500</td>\n",
       "      <td>0.485369</td>\n",
       "      <td>0.0</td>\n",
       "      <td>0.000000</td>\n",
       "      <td>0.000000</td>\n",
       "      <td>1.000000</td>\n",
       "      <td>1.0</td>\n",
       "    </tr>\n",
       "    <tr>\n",
       "      <th>rank_3</th>\n",
       "      <td>400.0</td>\n",
       "      <td>0.302500</td>\n",
       "      <td>0.459916</td>\n",
       "      <td>0.0</td>\n",
       "      <td>0.000000</td>\n",
       "      <td>0.000000</td>\n",
       "      <td>1.000000</td>\n",
       "      <td>1.0</td>\n",
       "    </tr>\n",
       "    <tr>\n",
       "      <th>rank_4</th>\n",
       "      <td>400.0</td>\n",
       "      <td>0.167500</td>\n",
       "      <td>0.373889</td>\n",
       "      <td>0.0</td>\n",
       "      <td>0.000000</td>\n",
       "      <td>0.000000</td>\n",
       "      <td>0.000000</td>\n",
       "      <td>1.0</td>\n",
       "    </tr>\n",
       "  </tbody>\n",
       "</table>\n",
       "</div>"
      ],
      "text/plain": [
       "        count      mean       std  min       25%       50%       75%  max\n",
       "admit   400.0  0.317500  0.466087  0.0  0.000000  0.000000  1.000000  1.0\n",
       "gre     400.0  0.633966  0.199166  0.0  0.517241  0.620690  0.758621  1.0\n",
       "gpa     400.0  0.649368  0.218717  0.0  0.500000  0.652299  0.810345  1.0\n",
       "rank_1  400.0  0.152500  0.359955  0.0  0.000000  0.000000  0.000000  1.0\n",
       "rank_2  400.0  0.377500  0.485369  0.0  0.000000  0.000000  1.000000  1.0\n",
       "rank_3  400.0  0.302500  0.459916  0.0  0.000000  0.000000  1.000000  1.0\n",
       "rank_4  400.0  0.167500  0.373889  0.0  0.000000  0.000000  0.000000  1.0"
      ]
     },
     "execution_count": 117,
     "metadata": {},
     "output_type": "execute_result"
    }
   ],
   "source": [
    "processed_data.describe().T"
   ]
  },
  {
   "cell_type": "code",
   "execution_count": 118,
   "metadata": {},
   "outputs": [
    {
     "name": "stderr",
     "output_type": "stream",
     "text": [
      "C:\\Users\\dell\\anaconda3\\lib\\site-packages\\seaborn\\distributions.py:2557: FutureWarning: `distplot` is a deprecated function and will be removed in a future version. Please adapt your code to use either `displot` (a figure-level function with similar flexibility) or `kdeplot` (an axes-level function for kernel density plots).\n",
      "  warnings.warn(msg, FutureWarning)\n",
      "C:\\Users\\dell\\anaconda3\\lib\\site-packages\\seaborn\\distributions.py:2557: FutureWarning: `distplot` is a deprecated function and will be removed in a future version. Please adapt your code to use either `displot` (a figure-level function with similar flexibility) or `kdeplot` (an axes-level function for kernel density plots).\n",
      "  warnings.warn(msg, FutureWarning)\n",
      "C:\\Users\\dell\\anaconda3\\lib\\site-packages\\seaborn\\distributions.py:2557: FutureWarning: `distplot` is a deprecated function and will be removed in a future version. Please adapt your code to use either `displot` (a figure-level function with similar flexibility) or `kdeplot` (an axes-level function for kernel density plots).\n",
      "  warnings.warn(msg, FutureWarning)\n",
      "C:\\Users\\dell\\anaconda3\\lib\\site-packages\\seaborn\\distributions.py:2557: FutureWarning: `distplot` is a deprecated function and will be removed in a future version. Please adapt your code to use either `displot` (a figure-level function with similar flexibility) or `kdeplot` (an axes-level function for kernel density plots).\n",
      "  warnings.warn(msg, FutureWarning)\n",
      "C:\\Users\\dell\\anaconda3\\lib\\site-packages\\seaborn\\distributions.py:2557: FutureWarning: `distplot` is a deprecated function and will be removed in a future version. Please adapt your code to use either `displot` (a figure-level function with similar flexibility) or `kdeplot` (an axes-level function for kernel density plots).\n",
      "  warnings.warn(msg, FutureWarning)\n",
      "C:\\Users\\dell\\anaconda3\\lib\\site-packages\\seaborn\\distributions.py:2557: FutureWarning: `distplot` is a deprecated function and will be removed in a future version. Please adapt your code to use either `displot` (a figure-level function with similar flexibility) or `kdeplot` (an axes-level function for kernel density plots).\n",
      "  warnings.warn(msg, FutureWarning)\n"
     ]
    },
    {
     "data": {
      "text/plain": [
       "<AxesSubplot:ylabel='Density'>"
      ]
     },
     "execution_count": 118,
     "metadata": {},
     "output_type": "execute_result"
    },
    {
     "data": {
      "image/png": "[encoded data removed]",
      "text/plain": [
       "<Figure size 432x288 with 1 Axes>"
      ]
     },
     "metadata": {
      "needs_background": "light"
     },
     "output_type": "display_data"
    }
   ],
   "source": [
    "# Now again seeing the data distribution of our scaled data \n",
    "\n",
    "import seaborn as sns\n",
    "sns.distplot(processed_data[['gre']] , hist=False , kde=True , kde_kws = {'shade':True , 'linewidth':3})\n",
    "\n",
    "sns.distplot(processed_data[['gpa']] , hist=False , kde=True , kde_kws = {'shade':True , 'linewidth':3})\n",
    "\n",
    "sns.distplot(processed_data[['rank_1']] , hist=False , kde=True , kde_kws = {'shade':True , 'linewidth':3})\n",
    "sns.distplot(processed_data[['rank_2']] , hist=False , kde=True , kde_kws = {'shade':True , 'linewidth':3})\n",
    "sns.distplot(processed_data[['rank_3']] , hist=False , kde=True , kde_kws = {'shade':True , 'linewidth':3})\n",
    "sns.distplot(processed_data[['rank_4']] , hist=False , kde=True , kde_kws = {'shade':True , 'linewidth':3})"
   ]
  },
  {
   "cell_type": "markdown",
   "metadata": {},
   "source": [
    "## Task 4\n",
    "## Splitting the data into Training and Testing"
   ]
  },
  {
   "cell_type": "markdown",
   "metadata": {},
   "source": [
    "In order to test our algorithm, we'll split the data into a Training and a Testing set. The size of the testing set will be 10% of the total data."
   ]
  },
  {
   "cell_type": "code",
   "execution_count": 119,
   "metadata": {},
   "outputs": [
    {
     "data": {
      "text/plain": [
       "RangeIndex(start=0, stop=400, step=1)"
      ]
     },
     "execution_count": 119,
     "metadata": {},
     "output_type": "execute_result"
    }
   ],
   "source": [
    "processed_data.index"
   ]
  },
  {
   "cell_type": "code",
   "execution_count": 120,
   "metadata": {},
   "outputs": [
    {
     "data": {
      "text/plain": [
       "320.0"
      ]
     },
     "execution_count": 120,
     "metadata": {},
     "output_type": "execute_result"
    }
   ],
   "source": [
    "len(processed_data)*0.8"
   ]
  },
  {
   "cell_type": "code",
   "execution_count": 121,
   "metadata": {},
   "outputs": [
    {
     "name": "stdout",
     "output_type": "stream",
     "text": [
      "Number of training samples is 320\n",
      "Number of testing samples is 182\n",
      "     admit       gre       gpa  rank_1  rank_2  rank_3  rank_4\n",
      "70     0.0  0.724138  1.000000     0.0     0.0     1.0     0.0\n",
      "308    0.0  0.551724  0.500000     0.0     1.0     0.0     0.0\n",
      "127    0.0  0.896552  0.850575     0.0     0.0     0.0     1.0\n",
      "149    0.0  0.896552  0.603448     1.0     0.0     0.0     0.0\n",
      "297    0.0  0.413793  0.465517     0.0     1.0     0.0     0.0\n",
      "32     0.0  0.655172  0.655172     0.0     0.0     1.0     0.0\n",
      "14     1.0  0.827586  1.000000     1.0     0.0     0.0     0.0\n",
      "148    1.0  0.448276  0.373563     1.0     0.0     0.0     0.0\n",
      "334    1.0  0.413793  0.793103     0.0     0.0     1.0     0.0\n",
      "193    0.0  0.275862  0.764368     0.0     0.0     0.0     1.0\n",
      "    admit       gre       gpa  rank_1  rank_2  rank_3  rank_4\n",
      "5     1.0  0.931034  0.425287     0.0     1.0     0.0     0.0\n",
      "7     0.0  0.310345  0.471264     0.0     1.0     0.0     0.0\n",
      "15    0.0  0.448276  0.678161     0.0     0.0     1.0     0.0\n",
      "19    1.0  0.551724  0.890805     1.0     0.0     0.0     0.0\n",
      "21    1.0  0.758621  0.787356     0.0     1.0     0.0     0.0\n",
      "22    0.0  0.655172  0.321839     0.0     0.0     0.0     1.0\n",
      "23    0.0  0.793103  0.534483     0.0     0.0     0.0     1.0\n",
      "24    1.0  0.931034  0.626437     0.0     1.0     0.0     0.0\n",
      "25    1.0  1.000000  0.804598     1.0     0.0     0.0     0.0\n",
      "28    1.0  0.965517  0.551724     0.0     1.0     0.0     0.0\n"
     ]
    }
   ],
   "source": [
    "sample = None\n",
    "sample = np.random.choice(processed_data.index , size = int(len(processed_data)*0.8) )\n",
    "train_data, test_data = processed_data.iloc[sample] ,processed_data.drop(sample)\n",
    "\n",
    "print(\"Number of training samples is\", len(train_data))\n",
    "print(\"Number of testing samples is\", len(test_data))\n",
    "print(train_data[:10])\n",
    "print(test_data[:10])"
   ]
  },
  {
   "cell_type": "markdown",
   "metadata": {},
   "source": [
    "## Splitting the data into features and targets (labels)\n",
    "Now, as a final step before the training, we'll split the data into features (X) and targets (y).\n",
    "\n",
    "Also, in Keras, we need to one-hot encode the output. We'll do this with the `to_categorical function`."
   ]
  },
  {
   "cell_type": "code",
   "execution_count": 122,
   "metadata": {},
   "outputs": [
    {
     "name": "stdout",
     "output_type": "stream",
     "text": [
      "          gre       gpa  rank_1  rank_2  rank_3  rank_4\n",
      "70   0.724138  1.000000     0.0     0.0     1.0     0.0\n",
      "308  0.551724  0.500000     0.0     1.0     0.0     0.0\n",
      "127  0.896552  0.850575     0.0     0.0     0.0     1.0\n",
      "149  0.896552  0.603448     1.0     0.0     0.0     0.0\n",
      "297  0.413793  0.465517     0.0     1.0     0.0     0.0\n",
      "32   0.655172  0.655172     0.0     0.0     1.0     0.0\n",
      "14   0.827586  1.000000     1.0     0.0     0.0     0.0\n",
      "148  0.448276  0.373563     1.0     0.0     0.0     0.0\n",
      "334  0.413793  0.793103     0.0     0.0     1.0     0.0\n",
      "193  0.275862  0.764368     0.0     0.0     0.0     1.0\n",
      "70     0.0\n",
      "308    0.0\n",
      "127    0.0\n",
      "149    0.0\n",
      "297    0.0\n",
      "32     0.0\n",
      "14     1.0\n",
      "148    1.0\n",
      "334    1.0\n",
      "193    0.0\n",
      "Name: admit, dtype: float64\n"
     ]
    }
   ],
   "source": [
    "import keras\n",
    "\n",
    "features = train_data.drop('admit' ,axis=1) # X\n",
    "targets = train_data['admit']  # y\n",
    "\n",
    "\n",
    "features_test = test_data.drop('admit' ,axis=1) # X\n",
    "targets_test = test_data['admit']  # y\n",
    "\n",
    "# Separate data and one-hot encode the output\n",
    "# Note: We're also turning the data into numpy arrays, in order to train the model in Keras\n",
    "#xtrain = np.array(train_data.drop('admit', axis=1))\n",
    "#ytrain = np.array(keras.utils.to_categorical(train_data['admit'], 2))\n",
    "#xtest = np.array(test_data.drop('admit', axis=1))\n",
    "#ytest = np.array(keras.utils.to_categorical(test_data['admit'], 2))\n",
    "\n",
    "print(features[:10])\n",
    "print(targets[:10])\n",
    "\n",
    "\n"
   ]
  },
  {
   "cell_type": "markdown",
   "metadata": {},
   "source": [
    "### Training the 2nd Layer Neural Network \n",
    "\n",
    "The following function trains the 2-Layer Neural Network. First we will write some helper functions. "
   ]
  },
  {
   "cell_type": "code",
   "execution_count": 138,
   "metadata": {},
   "outputs": [],
   "source": [
    " # Activation Sigmoid Function \n",
    "\n",
    "def sigmoid(x):\n",
    "    return 1/(1 +np.exp(-x))\n",
    "\n",
    "\n",
    "def sigmoid_prime(x):\n",
    "    return sigmoid(x)*(1-sigmoid(x))\n",
    "\n",
    "\n",
    "def error_formula(y, output):     # Cross Entropy \n",
    "    return -y*np.log(output) - (1-y)*np.log(1-output)"
   ]
  },
  {
   "cell_type": "markdown",
   "metadata": {},
   "source": [
    "### Backpropagate the Error\n",
    "Writing the error term giving by the following equation\n",
    "\n",
    "\n",
    "    -(y - yhat)sigma_prime(x)"
   ]
  },
  {
   "cell_type": "code",
   "execution_count": 134,
   "metadata": {},
   "outputs": [],
   "source": [
    "def error_term_formula(y, output):  # Here we are multiplying sigmoid's derivative \n",
    "    \n",
    "    # for penalizing edge values of curve -->  output x 1-output\n",
    "    return -(y - output)* output * (1-output)"
   ]
  },
  {
   "cell_type": "code",
   "execution_count": 139,
   "metadata": {},
   "outputs": [
    {
     "name": "stdout",
     "output_type": "stream",
     "text": [
      "Epoch :  0\n",
      "Train loss  0.2889300165939477\n",
      "========\n",
      "Finished Training !\n"
     ]
    }
   ],
   "source": [
    "# Neural Network Hyperparameters\n",
    "\n",
    "epochs = 2500  # here we have kept static values of epochs (in later stages we will see how to learn them)\n",
    "learnrate = 1.0\n",
    "\n",
    "# Training Function \n",
    "def train_nn(features ,targets , epochs , learnrate ):   # here we are making our function \n",
    "    # use to same seed to make debugging easier \n",
    "    np.random.seed(42)\n",
    "    n_records , n_features =features.shape\n",
    "    \n",
    "    last_loss = None\n",
    "    \n",
    "    # Initialize weights \n",
    "    \n",
    "    weights =  np.random.normal(scale=1 / n_features**.5 , size = n_features)\n",
    "    \n",
    "    for e in range (epochs):\n",
    "        del_w = np.zeros(weights.shape)\n",
    "        for x , y in zip(features.values, targets):\n",
    "            \n",
    "            # Loop through all records , x is the input , y is the target\n",
    "            \n",
    "            # Activation of the output unit\n",
    "            # Notice we multiplt the inputs  and the weights  here\n",
    "            # rather than storing h as a separate variable \n",
    "            \n",
    "            output = sigmoid(np.dot(x, weights))\n",
    "            \n",
    "            # The error , the target minus the network output\n",
    "            \n",
    "            error = error_formula(y , output)\n",
    "            \n",
    "            # The error term \n",
    "            # Notice that, we calculate f'(h) here instead of defining a separate \n",
    "            # sigmoid_prime function .  This just makes it faster because we can\n",
    "            # re-use the result of the sigmoid function stored in the output \n",
    "            # variable \n",
    "            \n",
    "            error_term = error_term_formula(y , output)\n",
    "            \n",
    "            # The gradient descent step , the error times the gradient times the inputs\n",
    "            \n",
    "            \n",
    "            del_w += error_term * x\n",
    "            \n",
    "            # updates the weights here , The learning rate times the change\n",
    "            # in weights divided by the number of records to average \n",
    "            \n",
    "            weights = weights - learnrate * del_w / n_records   # we normalize this by dividing total no. of records\n",
    "            \n",
    "            # so taht we average this by taking its mean\n",
    "            # printing out the mean square error on the training set\n",
    "            \n",
    "            if e % (epochs / 10) == 0 :\n",
    "                out = sigmoid(np.dot(features , weights))\n",
    "                loss = np.mean((out - targets )** 2)\n",
    "                \n",
    "                print(\"Epoch : \", e)\n",
    "                \n",
    "                if last_loss and last_loss < loss :\n",
    "                    print(\"Train loss \" , loss , \" WARNING - Loss Increasing\")   \n",
    "                else:\n",
    "                    print(\"Train loss \" , loss)\n",
    "                    \n",
    "                last_loss = loss   \n",
    "            \n",
    "                print(\"========\")\n",
    "                \n",
    "                print(\"Finished Training !\")\n",
    "                \n",
    "                return weights \n",
    "            \n",
    "weights = train_nn(features , targets , epochs , learnrate)\n",
    "            \n",
    "            "
   ]
  },
  {
   "cell_type": "markdown",
   "metadata": {},
   "source": [
    "## Calculating the Accuracy on Test Data "
   ]
  },
  {
   "cell_type": "code",
   "execution_count": 144,
   "metadata": {},
   "outputs": [
    {
     "data": {
      "text/plain": [
       "array([ 0.20250057, -0.05683577,  0.26441774,  0.62177434, -0.09598232,\n",
       "       -0.09558601])"
      ]
     },
     "execution_count": 144,
     "metadata": {},
     "output_type": "execute_result"
    }
   ],
   "source": [
    "weights "
   ]
  },
  {
   "cell_type": "code",
   "execution_count": 145,
   "metadata": {},
   "outputs": [
    {
     "data": {
      "text/plain": [
       "array([ True,  True, False,  True,  True,  True,  True,  True,  True,\n",
       "        True,  True,  True,  True,  True, False,  True, False, False,\n",
       "        True,  True, False, False,  True,  True, False, False,  True,\n",
       "        True, False,  True,  True,  True,  True,  True,  True,  True,\n",
       "        True, False, False, False,  True,  True, False,  True, False,\n",
       "        True,  True,  True,  True,  True, False,  True, False,  True,\n",
       "       False,  True, False,  True, False,  True,  True,  True,  True,\n",
       "        True,  True,  True,  True, False, False, False,  True,  True,\n",
       "       False, False,  True, False,  True, False,  True,  True,  True,\n",
       "        True,  True, False, False, False,  True,  True, False,  True,\n",
       "        True,  True, False,  True,  True,  True,  True, False,  True,\n",
       "        True,  True,  True,  True, False,  True,  True,  True,  True,\n",
       "        True,  True,  True, False,  True,  True,  True, False, False,\n",
       "       False,  True, False,  True,  True, False,  True, False,  True,\n",
       "        True,  True,  True, False,  True,  True, False,  True,  True,\n",
       "        True, False,  True, False,  True, False,  True,  True, False,\n",
       "       False,  True,  True,  True,  True,  True, False,  True,  True,\n",
       "       False, False, False,  True,  True,  True,  True,  True, False,\n",
       "        True,  True,  True,  True, False,  True,  True,  True, False,\n",
       "        True,  True,  True,  True,  True,  True,  True,  True,  True,\n",
       "       False, False])"
      ]
     },
     "execution_count": 145,
     "metadata": {},
     "output_type": "execute_result"
    }
   ],
   "source": [
    "test_out = sigmoid(np.dot(features_test , weights))\n",
    "predictions = test_out > 0.5\n",
    "predictions"
   ]
  },
  {
   "cell_type": "code",
   "execution_count": 147,
   "metadata": {},
   "outputs": [
    {
     "name": "stdout",
     "output_type": "stream",
     "text": [
      "prediction accuracy:  0.560 \n"
     ]
    }
   ],
   "source": [
    "# calculate the accuracy on test data \n",
    "\n",
    "test_out = sigmoid(np.dot(features_test , weights))\n",
    "predictions = test_out >= 0.5\n",
    "\n",
    "accuracy = np.mean(predictions == targets_test)\n",
    "print(\"prediction accuracy: {: .3f} \" .format(accuracy) )\n"
   ]
  },
  {
   "cell_type": "markdown",
   "metadata": {},
   "source": [
    "## Task 5\n",
    "## Defining the model architecture\n",
    "Here's where we use Keras to build our neural network.\n",
    "\n",
    "1. Make a sequential model with 128 nodes on first layer with an activation function of `relu`. \n",
    "2. Add a `Dropout` layer with 0.2\n",
    "3. Add a `Dense` layer with 64 nodes along with `relu` as activation function.\n",
    "4. Add a `Dropout` layer with 0.1\n",
    "5. Add a `Dense` layer with 2 nodes with a activation function of softmax.\n",
    "6. Compile the model with `binary_crossentropy`, optimzer as `adam` and metrics as `accuracy`."
   ]
  },
  {
   "cell_type": "code",
   "execution_count": 1,
   "metadata": {},
   "outputs": [
    {
     "name": "stderr",
     "output_type": "stream",
     "text": [
      "Using TensorFlow backend.\n"
     ]
    }
   ],
   "source": [
    "# Imports\n",
    "import numpy as np\n",
    "from keras.models import Sequential\n",
    "from keras.layers.core import Dense, Dropout, Activation\n",
    "from keras.optimizers import SGD\n",
    "from keras.utils import np_utils\n",
    "\n",
    "# Building the model\n",
    "model = Sequential()\n",
    "## Add layers here\n",
    "\n",
    "# Compiling the model\n"
   ]
  },
  {
   "cell_type": "code",
   "execution_count": null,
   "metadata": {},
   "outputs": [],
   "source": [
    "from tensorflow.keras import regularizers\n",
    "model.add(Dense(8, activation='sigmoid', input_dim=X.shape[1],))"
   ]
  },
  {
   "cell_type": "markdown",
   "metadata": {},
   "source": [
    "## Training the model\n",
    "Train the model by using `fit` function giving inputs as `xtrain`, `ytrain`, `epochs = 200`, `batch_size = 100` and `verbose = 0`"
   ]
  },
  {
   "cell_type": "code",
   "execution_count": null,
   "metadata": {},
   "outputs": [],
   "source": [
    "# Training the model\n"
   ]
  },
  {
   "cell_type": "markdown",
   "metadata": {},
   "source": [
    "## Scoring the model\n",
    "\n",
    "Evaluate the model by using `model.evaluate` function on\n",
    "1. Training Set by giving `xtrain` and `ytrain`\n",
    "2. Testing Set by giving `xtest` and `ytest`"
   ]
  },
  {
   "cell_type": "code",
   "execution_count": null,
   "metadata": {},
   "outputs": [],
   "source": [
    "# Evaluating the model on the training and testing set\n",
    "train_score = None\n",
    "print(\"\\n Training Accuracy:\", train_score[1])\n",
    "test_score = None\n",
    "print(\"\\n Testing Accuracy:\", test_score[1])"
   ]
  },
  {
   "cell_type": "markdown",
   "metadata": {},
   "source": [
    "## Challenge: Play with the parameters!\n",
    "You can see that we made several decisions in our training. For instance, the number of layers, the sizes of the layers, the number of epochs, etc.\n",
    "It's your turn to play with parameters! Can you improve the accuracy? The following are other suggestions for these parameters. We'll learn the definitions later in the class:\n",
    "- Activation function: relu and sigmoid\n",
    "- Loss function: categorical_crossentropy, mean_squared_error\n",
    "- Optimizer: rmsprop, adam, ada"
   ]
  },
  {
   "cell_type": "code",
   "execution_count": null,
   "metadata": {},
   "outputs": [],
   "source": []
  }
 ],
 "metadata": {
  "kernelspec": {
   "display_name": "Python 3",
   "language": "python",
   "name": "python3"
  },
  "language_info": {
   "codemirror_mode": {
    "name": "ipython",
    "version": 3
   },
   "file_extension": ".py",
   "mimetype": "text/x-python",
   "name": "python",
   "nbconvert_exporter": "python",
   "pygments_lexer": "ipython3",
   "version": "3.8.8"
  }
 },
 "nbformat": 4,
 "nbformat_minor": 2
}
